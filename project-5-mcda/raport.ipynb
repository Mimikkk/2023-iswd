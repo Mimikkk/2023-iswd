{
 "cells": [
  {
   "attachments": {},
   "cell_type": "markdown",
   "metadata": {},
   "source": [
    "# ELECTRE III\n",
    "\n",
    "## Autorzy\n",
    "- Daniel Zdancewicz [145317]\n",
    "- Alex Terentowicz [145419]\n"
   ]
  },
  {
   "attachments": {},
   "cell_type": "markdown",
   "metadata": {},
   "source": [
    "### Opis zbioru danych\n",
    "\n",
    "Zbiór danych wykorzystany w raporcie to \"[AI Global Index](https://www.tortoisemedia.com/intelligence/global-ai/)\", tworzący ranking państw względem ich adopcją sztucznej inteligencji.\n",
    "\n",
    "Kolumny, które tworzą zbiór to:\n",
    "- `Talent` — Wskaźnik dostępności naukowców, którzy są w stanie prowadzić badania sztucznej inteligencji przez państwo.\n",
    "- `Infrastructure` — Wskaźnik gotowości infrastruktury państwowej na przyjęcie sztucznej inteligencji.\n",
    "- `Operating Environment` — Wskaźnik zainteresowania i opinii publicznej o sztucznej inteligencji.\n",
    "- `Research` — Wskaźnik zainteresowania wspomaganiem badań przez państwo.\n",
    "- `Development` — Wskaźnik rozwoju państwa.\n",
    "- `Government Strategy` — Wskaźnik udziału państwa w adopcji sztucznej inteligencji w państwie.\n",
    "- `Commercial` — Wskaźnik udziału sektora usług w ekonomii państwa.\n",
    "- `Total Score` — Wynik wspólny państwa (Służy tylko do porównania otrzymanego rankingu).\n",
    "- `Region` — Region świata, w którym znajduje się państwo.\n",
    "- `Cluster` — Rodzaj państwa, do którego zalicza względem jego stanu rozwoju.\n",
    "- `Income Group` — Grupa państwa względem jego przychodu.\n",
    "- `Politcal regime` — Polityka państwa.\n",
    "\n",
    "W raporcie kolumna `Total Score` służy do sprawdzenia, jak metoda `ELECTRE III` sprawdza się przy odwzorowywaniu rankingu."
   ]
  },
  {
   "attachments": {},
   "cell_type": "markdown",
   "metadata": {},
   "source": [
    "#### 1. Jaka jest domena problemu?\n",
    "Domeną problemu jest adopcja sztucznej inteligencji przez różne państwa i tworzenie rankingu na podstawie różnych wskaźników związanych z tym zagadnieniem.\n",
    "\n",
    "#### 2. Jakie jest źródło danych?\n",
    "\n",
    "Źródła danych:\n",
    "- Artykuł badawczy — [https://intersog.com/blog/ai-dominant-players-and-aspiring-challengers/](https://intersog.com/blog/ai-dominant-players-and-aspiring-challengers/)\n",
    "- Punkt pochodzenia wskaźników — [https://www.tortoisemedia.com/intelligence/global-ai/](https://www.tortoisemedia.com/intelligence/global-ai/)\n",
    "- Miejsce dostępu do danych — [https://www.kaggle.com/datasets/katerynameleshenko/ai-index/](https://www.kaggle.com/datasets/katerynameleshenko/ai-index/)\n",
    "- Licencja zbioru danych (ODC | Open Data Commons) — [https://opendatacommons.org/licenses/dbcl/1-0/](https://opendatacommons.org/licenses/dbcl/1-0/)\n",
    "\n",
    "#### 3. Jaki jest punkt widzenia decydenta?\n",
    "Decydent ma na celu ocenie adopcji sztucznej inteligencji w Litwie.\n",
    "\n",
    "#### 4. Jaka jest liczba rozważanych wariantów? Czy w oryginalnym zbiorze danych było ich więcej?\n",
    "Rozpatrujemy $62$ warianty, w oryginalnym zbiorze jest ich również tyle samo.\n",
    "\n",
    "#### 5. Opisz jeden z rozważanych wariantów - jak jest oceniony na poszczególnych kryteriach, jak dobry jest na tle innych.\n",
    "Jeden z rozważanych wariantów wraz z wartościami wskaźników. Estonia, jako wariant charakteryzuje stosunkowo średnie/słabe oceny na wszystkich kryteriach, przez co można wysunąć stwierdzenie, że państwo nie jest preferowane względem behemotów takich jak Chiny czy Stany, ale nie jest tak źle, jak w Kenii.\n",
    "\n",
    "Estonia:\n",
    "- `Talent` — 18.74\n",
    "- `Infrastructure` — 63.65.\n",
    "- `Operating Environment` — 88.67.\n",
    "- `Research` — 11.75.\n",
    "- `Development` — 9.31.\n",
    "- `Government Strategy` — 72.08.\n",
    "- `Commercial` — 12.51.\n",
    "- `Total Score` — 26.6.\n",
    "- `Region` — Europe.\n",
    "- `Cluster` — Waking up.\n",
    "- `Income Group` — High.\n",
    "- `Political regime` — Liberal democracy."
   ]
  },
  {
   "cell_type": "code",
   "execution_count": 1,
   "metadata": {},
   "outputs": [
    {
     "data": {
      "text/plain": "                          Talent  Infrastructure  Operating Environment  \\\nCountry                                                                   \nKenya                       0.75           14.11                  29.84   \nEstonia                    18.74           63.65                  88.67   \nUnited States of America  100.00           94.02                  64.56   \nChina                      16.51          100.00                  91.57   \n\n                          Research  Development  Government Strategy  \\\nCountry                                                                \nKenya                         0.07        12.15                 7.75   \nEstonia                      11.75         9.31                72.08   \nUnited States of America    100.00       100.00                77.39   \nChina                        71.42        79.97                94.87   \n\n                          Commercial  Total score        Region  \\\nCountry                                                           \nKenya                           0.31         2.30        Africa   \nEstonia                        12.51        26.60        Europe   \nUnited States of America      100.00       100.00      Americas   \nChina                          44.02        62.92  Asia-Pacific   \n\n                                Cluster  Income group     Political regime  \nCountry                                                                     \nKenya                           Nascent  Lower middle  Electoral autocracy  \nEstonia                       Waking up          High    Liberal democracy  \nUnited States of America  Power players          High    Liberal democracy  \nChina                     Power players  Upper middle     Closed autocracy  ",
      "text/html": "<div>\n<style scoped>\n    .dataframe tbody tr th:only-of-type {\n        vertical-align: middle;\n    }\n\n    .dataframe tbody tr th {\n        vertical-align: top;\n    }\n\n    .dataframe thead th {\n        text-align: right;\n    }\n</style>\n<table border=\"1\" class=\"dataframe\">\n  <thead>\n    <tr style=\"text-align: right;\">\n      <th></th>\n      <th>Talent</th>\n      <th>Infrastructure</th>\n      <th>Operating Environment</th>\n      <th>Research</th>\n      <th>Development</th>\n      <th>Government Strategy</th>\n      <th>Commercial</th>\n      <th>Total score</th>\n      <th>Region</th>\n      <th>Cluster</th>\n      <th>Income group</th>\n      <th>Political regime</th>\n    </tr>\n    <tr>\n      <th>Country</th>\n      <th></th>\n      <th></th>\n      <th></th>\n      <th></th>\n      <th></th>\n      <th></th>\n      <th></th>\n      <th></th>\n      <th></th>\n      <th></th>\n      <th></th>\n      <th></th>\n    </tr>\n  </thead>\n  <tbody>\n    <tr>\n      <th>Kenya</th>\n      <td>0.75</td>\n      <td>14.11</td>\n      <td>29.84</td>\n      <td>0.07</td>\n      <td>12.15</td>\n      <td>7.75</td>\n      <td>0.31</td>\n      <td>2.30</td>\n      <td>Africa</td>\n      <td>Nascent</td>\n      <td>Lower middle</td>\n      <td>Electoral autocracy</td>\n    </tr>\n    <tr>\n      <th>Estonia</th>\n      <td>18.74</td>\n      <td>63.65</td>\n      <td>88.67</td>\n      <td>11.75</td>\n      <td>9.31</td>\n      <td>72.08</td>\n      <td>12.51</td>\n      <td>26.60</td>\n      <td>Europe</td>\n      <td>Waking up</td>\n      <td>High</td>\n      <td>Liberal democracy</td>\n    </tr>\n    <tr>\n      <th>United States of America</th>\n      <td>100.00</td>\n      <td>94.02</td>\n      <td>64.56</td>\n      <td>100.00</td>\n      <td>100.00</td>\n      <td>77.39</td>\n      <td>100.00</td>\n      <td>100.00</td>\n      <td>Americas</td>\n      <td>Power players</td>\n      <td>High</td>\n      <td>Liberal democracy</td>\n    </tr>\n    <tr>\n      <th>China</th>\n      <td>16.51</td>\n      <td>100.00</td>\n      <td>91.57</td>\n      <td>71.42</td>\n      <td>79.97</td>\n      <td>94.87</td>\n      <td>44.02</td>\n      <td>62.92</td>\n      <td>Asia-Pacific</td>\n      <td>Power players</td>\n      <td>Upper middle</td>\n      <td>Closed autocracy</td>\n    </tr>\n  </tbody>\n</table>\n</div>"
     },
     "execution_count": 1,
     "metadata": {},
     "output_type": "execute_result"
    }
   ],
   "source": [
    "from pandas import read_csv\n",
    "dataset = read_csv('./resources/datasets/ai-index.csv', index_col=\"Country\")\n",
    "\n",
    "dataset.loc[['Kenya', 'Estonia', 'United States of America', 'China']]"
   ]
  },
  {
   "attachments": {},
   "cell_type": "markdown",
   "metadata": {},
   "source": [
    "#### 6. Ile rozwazasz kryteriów? Czy było ich więcej w oryginalnym zbiorze danych?\n",
    "Rozpatrywana są wszystkie wskaźniki.\n",
    "\n",
    "- `Talent`.\n",
    "- `Infrastructure`.\n",
    "- `Operating Environment`.\n",
    "- `Research`.\n",
    "- `Development`.\n",
    "- `Government Strategy`.\n",
    "- `Commercial`.\n",
    "\n",
    "W wykorzystywanym zbiorze oryginalnie wykorzystano wszystkie dostępne kolumny.\n",
    "\n",
    "#### 7. Jakie są typy poszczególnych kryteriów? Scharakteryzuj je pod kątem: ciągłe/dyskretne, typu zysk/koszt, osiągane wartości.\n",
    "\n",
    "| Wskaźnik                | Ciągłość | Typ  | Wartości    |\n",
    "|-------------------------|----------|------|-------------|\n",
    "| `Talent`                | ciągłe   | zysk | [0.0-100.0] |\n",
    "| `Infrastructure`        | ciągłe   | zysk | [0.0-100.0] |\n",
    "| `Operating Environment` | ciągłe   | zysk | [0.0-100.0] |\n",
    "| `Research`              | ciągłe   | zysk | [0.0-100.0] |\n",
    "| `Development`           | ciągłe   | zysk | [0.0-100.0] |\n",
    "| `Government Strategy`   | ciągłe   | zysk | [0.0-100.0] |\n",
    "| `Commercial`            | ciągłe   | zysk | [0.0-100.0] |\n"
   ]
  },
  {
   "attachments": {},
   "cell_type": "markdown",
   "metadata": {},
   "source": [
    "#### 8. Jakie są wagi poszczególnych kryteriów?\n",
    "Kryteria według prefencji nie są równie istotne, wagi, które zostały przyjęte to:\n",
    "\n",
    "| Wskaźnik                | Waga |\n",
    "|-------------------------|------|\n",
    "| `Talent`                | 5.0  |\n",
    "| `Infrastructure`        | 2.0  |\n",
    "| `Operating Environment` | 1.0  |\n",
    "| `Research`              | 5.0  |\n",
    "| `Development`           | 5.0  |\n",
    "| `Government Strategy`   | 1.0  |\n",
    "| `Commercial`            | 7.0  |\n",
    "\n",
    "Ważny jest talent, badania i rozwój państwa, najważniejsza jest możliwości zmonetyzowania sektora usług. Jak jest zarządzane państwo czy jego polityka nie ma\n",
    "wielkiego znaczenia.\n",
    "\n",
    "#### 9. Czy istnieją jakieś dominacje w zbiorze wariantów? Jeśli tak, podaj je.\n",
    "\n",
    "Kenia przez Chiny, Stany itp."
   ]
  },
  {
   "cell_type": "code",
   "execution_count": 2,
   "metadata": {},
   "outputs": [
    {
     "data": {
      "text/plain": "                          Talent  Infrastructure  Operating Environment  \\\nCountry                                                                   \nKenya                       0.75           14.11                  29.84   \nChina                      16.51          100.00                  91.57   \nUnited States of America  100.00           94.02                  64.56   \n\n                          Research  Development  Government Strategy  \\\nCountry                                                                \nKenya                         0.07        12.15                 7.75   \nChina                        71.42        79.97                94.87   \nUnited States of America    100.00       100.00                77.39   \n\n                          Commercial  Total score        Region  \\\nCountry                                                           \nKenya                           0.31         2.30        Africa   \nChina                          44.02        62.92  Asia-Pacific   \nUnited States of America      100.00       100.00      Americas   \n\n                                Cluster  Income group     Political regime  \nCountry                                                                     \nKenya                           Nascent  Lower middle  Electoral autocracy  \nChina                     Power players  Upper middle     Closed autocracy  \nUnited States of America  Power players          High    Liberal democracy  ",
      "text/html": "<div>\n<style scoped>\n    .dataframe tbody tr th:only-of-type {\n        vertical-align: middle;\n    }\n\n    .dataframe tbody tr th {\n        vertical-align: top;\n    }\n\n    .dataframe thead th {\n        text-align: right;\n    }\n</style>\n<table border=\"1\" class=\"dataframe\">\n  <thead>\n    <tr style=\"text-align: right;\">\n      <th></th>\n      <th>Talent</th>\n      <th>Infrastructure</th>\n      <th>Operating Environment</th>\n      <th>Research</th>\n      <th>Development</th>\n      <th>Government Strategy</th>\n      <th>Commercial</th>\n      <th>Total score</th>\n      <th>Region</th>\n      <th>Cluster</th>\n      <th>Income group</th>\n      <th>Political regime</th>\n    </tr>\n    <tr>\n      <th>Country</th>\n      <th></th>\n      <th></th>\n      <th></th>\n      <th></th>\n      <th></th>\n      <th></th>\n      <th></th>\n      <th></th>\n      <th></th>\n      <th></th>\n      <th></th>\n      <th></th>\n    </tr>\n  </thead>\n  <tbody>\n    <tr>\n      <th>Kenya</th>\n      <td>0.75</td>\n      <td>14.11</td>\n      <td>29.84</td>\n      <td>0.07</td>\n      <td>12.15</td>\n      <td>7.75</td>\n      <td>0.31</td>\n      <td>2.30</td>\n      <td>Africa</td>\n      <td>Nascent</td>\n      <td>Lower middle</td>\n      <td>Electoral autocracy</td>\n    </tr>\n    <tr>\n      <th>China</th>\n      <td>16.51</td>\n      <td>100.00</td>\n      <td>91.57</td>\n      <td>71.42</td>\n      <td>79.97</td>\n      <td>94.87</td>\n      <td>44.02</td>\n      <td>62.92</td>\n      <td>Asia-Pacific</td>\n      <td>Power players</td>\n      <td>Upper middle</td>\n      <td>Closed autocracy</td>\n    </tr>\n    <tr>\n      <th>United States of America</th>\n      <td>100.00</td>\n      <td>94.02</td>\n      <td>64.56</td>\n      <td>100.00</td>\n      <td>100.00</td>\n      <td>77.39</td>\n      <td>100.00</td>\n      <td>100.00</td>\n      <td>Americas</td>\n      <td>Power players</td>\n      <td>High</td>\n      <td>Liberal democracy</td>\n    </tr>\n  </tbody>\n</table>\n</div>"
     },
     "execution_count": 2,
     "metadata": {},
     "output_type": "execute_result"
    }
   ],
   "source": [
    "dataset.loc[[\"Kenya\", \"China\", 'United States of America']]"
   ]
  },
  {
   "attachments": {},
   "cell_type": "markdown",
   "metadata": {},
   "source": [
    "#### 10. Jak teoretycznie powinien prezentować się najlepszy wariant w Twoim zbiorze danych?\n",
    "Tak jak opisano w wagach, ważny jest talent, badania i rozwój państwa i najważniejsza jest możliwości zmonetyzowania sektora usług. Jak jest zarządzane państwo czy jego polityka nie ma wielkiego znaczenia.\n",
    "\n",
    "#### 11. Spośród rozważanych wariantów, który wydaje się być najlepszy/lepszy od innych i dlaczego?\n",
    "Chiny i Stany według wskaźników i naszych wag. Chiny/Stany może mają beznadziejne formy rządów, ale dostęp do talentu i silny market nadrabia inne problemy."
   ]
  },
  {
   "attachments": {},
   "cell_type": "markdown",
   "metadata": {},
   "source": [
    "#### 12. Sposród rozważanych wariantów, który wydaje się być najsłabszy/znacząco słabszy od innych i dlaczego?\n",
    "Kenia, jest biedna, nie ma zbyt dużego marketu, który by nas interesował."
   ]
  },
  {
   "cell_type": "code",
   "execution_count": 3,
   "metadata": {},
   "outputs": [
    {
     "data": {
      "text/plain": "         Talent  Infrastructure  Operating Environment  Research  Development  \\\nCountry                                                                         \nKenya      0.75           14.11                  29.84      0.07        12.15   \n\n         Government Strategy  Commercial  Total score  Region  Cluster  \\\nCountry                                                                  \nKenya                   7.75        0.31          2.3  Africa  Nascent   \n\n         Income group     Political regime  \nCountry                                     \nKenya    Lower middle  Electoral autocracy  ",
      "text/html": "<div>\n<style scoped>\n    .dataframe tbody tr th:only-of-type {\n        vertical-align: middle;\n    }\n\n    .dataframe tbody tr th {\n        vertical-align: top;\n    }\n\n    .dataframe thead th {\n        text-align: right;\n    }\n</style>\n<table border=\"1\" class=\"dataframe\">\n  <thead>\n    <tr style=\"text-align: right;\">\n      <th></th>\n      <th>Talent</th>\n      <th>Infrastructure</th>\n      <th>Operating Environment</th>\n      <th>Research</th>\n      <th>Development</th>\n      <th>Government Strategy</th>\n      <th>Commercial</th>\n      <th>Total score</th>\n      <th>Region</th>\n      <th>Cluster</th>\n      <th>Income group</th>\n      <th>Political regime</th>\n    </tr>\n    <tr>\n      <th>Country</th>\n      <th></th>\n      <th></th>\n      <th></th>\n      <th></th>\n      <th></th>\n      <th></th>\n      <th></th>\n      <th></th>\n      <th></th>\n      <th></th>\n      <th></th>\n      <th></th>\n    </tr>\n  </thead>\n  <tbody>\n    <tr>\n      <th>Kenya</th>\n      <td>0.75</td>\n      <td>14.11</td>\n      <td>29.84</td>\n      <td>0.07</td>\n      <td>12.15</td>\n      <td>7.75</td>\n      <td>0.31</td>\n      <td>2.3</td>\n      <td>Africa</td>\n      <td>Nascent</td>\n      <td>Lower middle</td>\n      <td>Electoral autocracy</td>\n    </tr>\n  </tbody>\n</table>\n</div>"
     },
     "execution_count": 3,
     "metadata": {},
     "output_type": "execute_result"
    }
   ],
   "source": [
    "dataset.loc[[\"Kenya\"]]"
   ]
  },
  {
   "attachments": {},
   "cell_type": "markdown",
   "metadata": {},
   "source": [
    "### Analiza problemu z wykorzystaniem ELECTRE III\n"
   ]
  },
  {
   "attachments": {},
   "cell_type": "markdown",
   "metadata": {},
   "source": [
    "#### Obligatoryjne importy"
   ]
  },
  {
   "cell_type": "code",
   "execution_count": 4,
   "metadata": {},
   "outputs": [],
   "source": [
    "import electre3\n",
    "import numpy as np"
   ]
  },
  {
   "attachments": {},
   "cell_type": "markdown",
   "metadata": {},
   "source": [
    "#### Informacja preferencyjna podana na wejście metody\n",
    "\n",
    "Jako informację preferencyjną przyjęto dla wskaźników:\n",
    "- P = 20% — progi preferencji | preferences\n",
    "- Q = 1.5% — progi nierozróżnialności | indifference\n",
    "- V = 40% — progi veta | veotes\n",
    "- W = zgodnie z tabelką — wagi kryteriów | weights"
   ]
  },
  {
   "cell_type": "code",
   "execution_count": 5,
   "outputs": [],
   "source": [
    "criteria = [\n",
    "  'Talent',\n",
    "  'Infrastructure',\n",
    "  'Operating Environment',\n",
    "  'Research',\n",
    "  'Development',\n",
    "  'Government Strategy',\n",
    "  'Commercial',\n",
    "]\n",
    "criteria_count = len(criteria)\n",
    "preferences = [15] * criteria_count\n",
    "indifferences = [1.5] * criteria_count\n",
    "vetoes = [40] * criteria_count\n",
    "weights = [5.0, 2.0, 1.0, 5.0, 7.0, 1.0, 3.0]\n",
    "\n",
    "df = dataset[criteria]"
   ],
   "metadata": {
    "collapsed": false
   }
  },
  {
   "attachments": {},
   "cell_type": "markdown",
   "metadata": {},
   "source": [
    "#### Electre III\n",
    "\n",
    "Na grafie widać ranking"
   ]
  },
  {
   "cell_type": "code",
   "execution_count": 6,
   "outputs": [
    {
     "ename": "AttributeError",
     "evalue": "'str' object has no attribute 'ndim'",
     "output_type": "error",
     "traceback": [
      "\u001B[1;31m---------------------------------------------------------------------------\u001B[0m",
      "\u001B[1;31mAttributeError\u001B[0m                            Traceback (most recent call last)",
      "Cell \u001B[1;32mIn[6], line 1\u001B[0m\n\u001B[1;32m----> 1\u001B[0m ranking, rank_final \u001B[38;5;241m=\u001B[39m \u001B[43melectre3\u001B[49m\u001B[38;5;241;43m.\u001B[39;49m\u001B[43mperform\u001B[49m\u001B[43m(\u001B[49m\n\u001B[0;32m      2\u001B[0m \u001B[43m  \u001B[49m\u001B[43mdf\u001B[49m\u001B[43m,\u001B[49m\n\u001B[0;32m      3\u001B[0m \u001B[43m  \u001B[49m\u001B[43mpreferences\u001B[49m\u001B[43m,\u001B[49m\n\u001B[0;32m      4\u001B[0m \u001B[43m  \u001B[49m\u001B[43mindifferences\u001B[49m\u001B[43m,\u001B[49m\n\u001B[0;32m      5\u001B[0m \u001B[43m  \u001B[49m\u001B[43mvetoes\u001B[49m\u001B[43m,\u001B[49m\n\u001B[0;32m      6\u001B[0m \u001B[43m  \u001B[49m\u001B[43mweights\u001B[49m\n\u001B[0;32m      7\u001B[0m \u001B[43m)\u001B[49m\n\u001B[0;32m      9\u001B[0m ranking\n",
      "File \u001B[1;32m~\\PycharmProjects\\2023-iswd\\project-5-mcda\\electre3.py:253\u001B[0m, in \u001B[0;36mperform\u001B[1;34m(dataset, preferences, indifferences, vetoes, weights)\u001B[0m\n\u001B[0;32m    250\u001B[0m rank_ascending \u001B[38;5;241m=\u001B[39m distill(credibility, direction\u001B[38;5;241m=\u001B[39m\u001B[38;5;124m'\u001B[39m\u001B[38;5;124mascending\u001B[39m\u001B[38;5;124m'\u001B[39m)\n\u001B[0;32m    251\u001B[0m ranking \u001B[38;5;241m=\u001B[39m create_final_matrix(rank_descending, rank_ascending, alternative_count)\n\u001B[1;32m--> 253\u001B[0m rank_final \u001B[38;5;241m=\u001B[39m \u001B[43mcreate_final_ranking\u001B[49m\u001B[43m(\u001B[49m\u001B[43mnames\u001B[49m\u001B[43m,\u001B[49m\u001B[43m \u001B[49m\u001B[43mranking\u001B[49m\u001B[43m)\u001B[49m\n\u001B[0;32m    254\u001B[0m \u001B[38;5;66;03m# TODO\u001B[39;00m\n\u001B[0;32m    255\u001B[0m rank_median \u001B[38;5;241m=\u001B[39m create_median_ranking(rank_final, rank_descending, rank_ascending)\n",
      "File \u001B[1;32m~\\PycharmProjects\\2023-iswd\\project-5-mcda\\electre3.py:207\u001B[0m, in \u001B[0;36mcreate_final_ranking\u001B[1;34m(names, preorder)\u001B[0m\n\u001B[0;32m    200\u001B[0m     rank_xy[i \u001B[38;5;241m+\u001B[39m \u001B[38;5;241m1\u001B[39m, \u001B[38;5;241m0\u001B[39m] \u001B[38;5;241m=\u001B[39m rank_xy[i, \u001B[38;5;241m0\u001B[39m] \u001B[38;5;241m+\u001B[39m \u001B[38;5;241m1\u001B[39m\n\u001B[0;32m    202\u001B[0m \u001B[38;5;28;01mfor\u001B[39;00m i \u001B[38;5;129;01min\u001B[39;00m \u001B[38;5;28mrange\u001B[39m(rank_xy\u001B[38;5;241m.\u001B[39mshape[\u001B[38;5;241m0\u001B[39m]):\n\u001B[0;32m    204\u001B[0m   plt\u001B[38;5;241m.\u001B[39mtext(\n\u001B[0;32m    205\u001B[0m     rank_xy[i, \u001B[38;5;241m0\u001B[39m],\n\u001B[0;32m    206\u001B[0m     rank_xy[i, \u001B[38;5;241m1\u001B[39m],\n\u001B[1;32m--> 207\u001B[0m     \u001B[38;5;124mf\u001B[39m\u001B[38;5;124m\"\u001B[39m\u001B[38;5;132;01m{\u001B[39;00m\u001B[38;5;124;43m'\u001B[39;49m\u001B[38;5;124;43m, \u001B[39;49m\u001B[38;5;124;43m'\u001B[39;49m\u001B[38;5;241;43m.\u001B[39;49m\u001B[43mjoin\u001B[49m\u001B[43m(\u001B[49m\u001B[38;5;28;43mmap\u001B[39;49m\u001B[43m(\u001B[49m\u001B[38;5;28;43;01mlambda\u001B[39;49;00m\u001B[38;5;250;43m \u001B[39;49m\u001B[43mx\u001B[49m\u001B[43m:\u001B[49m\u001B[38;5;250;43m \u001B[39;49m\u001B[43mnames\u001B[49m\u001B[43m[\u001B[49m\u001B[43mx\u001B[49m\u001B[43m]\u001B[49m\u001B[43m,\u001B[49m\u001B[38;5;250;43m \u001B[39;49m\u001B[43malts_rank\u001B[49m\u001B[43m)\u001B[49m\u001B[43m)\u001B[49m\u001B[38;5;132;01m}\u001B[39;00m\u001B[38;5;124m\"\u001B[39m,\n\u001B[0;32m    208\u001B[0m     size\u001B[38;5;241m=\u001B[39m\u001B[38;5;241m12\u001B[39m,\n\u001B[0;32m    209\u001B[0m     ha\u001B[38;5;241m=\u001B[39m\u001B[38;5;124m'\u001B[39m\u001B[38;5;124mcenter\u001B[39m\u001B[38;5;124m'\u001B[39m,\n\u001B[0;32m    210\u001B[0m     va\u001B[38;5;241m=\u001B[39m\u001B[38;5;124m'\u001B[39m\u001B[38;5;124mcenter\u001B[39m\u001B[38;5;124m'\u001B[39m,\n\u001B[0;32m    211\u001B[0m     bbox\u001B[38;5;241m=\u001B[39m\u001B[38;5;28mdict\u001B[39m(boxstyle\u001B[38;5;241m=\u001B[39m\u001B[38;5;124m'\u001B[39m\u001B[38;5;124mround\u001B[39m\u001B[38;5;124m'\u001B[39m, facecolor\u001B[38;5;241m=\u001B[39m\u001B[38;5;124m'\u001B[39m\u001B[38;5;124mcyan\u001B[39m\u001B[38;5;124m'\u001B[39m, edgecolor\u001B[38;5;241m=\u001B[39m\u001B[38;5;124m'\u001B[39m\u001B[38;5;124mblack\u001B[39m\u001B[38;5;124m'\u001B[39m)\n\u001B[0;32m    212\u001B[0m   )\n\u001B[0;32m    214\u001B[0m keys, values \u001B[38;5;241m=\u001B[39m \u001B[38;5;28mzip\u001B[39m(\u001B[38;5;241m*\u001B[39mgraph\u001B[38;5;241m.\u001B[39mitems())\n\u001B[0;32m    215\u001B[0m \u001B[38;5;28;01mfor\u001B[39;00m i \u001B[38;5;129;01min\u001B[39;00m \u001B[38;5;28mrange\u001B[39m(rank\u001B[38;5;241m.\u001B[39mshape[\u001B[38;5;241m0\u001B[39m]):\n",
      "File \u001B[1;32m~\\PycharmProjects\\2023-iswd\\project-5-mcda\\electre3.py:207\u001B[0m, in \u001B[0;36mcreate_final_ranking.<locals>.<lambda>\u001B[1;34m(x)\u001B[0m\n\u001B[0;32m    200\u001B[0m     rank_xy[i \u001B[38;5;241m+\u001B[39m \u001B[38;5;241m1\u001B[39m, \u001B[38;5;241m0\u001B[39m] \u001B[38;5;241m=\u001B[39m rank_xy[i, \u001B[38;5;241m0\u001B[39m] \u001B[38;5;241m+\u001B[39m \u001B[38;5;241m1\u001B[39m\n\u001B[0;32m    202\u001B[0m \u001B[38;5;28;01mfor\u001B[39;00m i \u001B[38;5;129;01min\u001B[39;00m \u001B[38;5;28mrange\u001B[39m(rank_xy\u001B[38;5;241m.\u001B[39mshape[\u001B[38;5;241m0\u001B[39m]):\n\u001B[0;32m    204\u001B[0m   plt\u001B[38;5;241m.\u001B[39mtext(\n\u001B[0;32m    205\u001B[0m     rank_xy[i, \u001B[38;5;241m0\u001B[39m],\n\u001B[0;32m    206\u001B[0m     rank_xy[i, \u001B[38;5;241m1\u001B[39m],\n\u001B[1;32m--> 207\u001B[0m     \u001B[38;5;124mf\u001B[39m\u001B[38;5;124m\"\u001B[39m\u001B[38;5;132;01m{\u001B[39;00m\u001B[38;5;124m'\u001B[39m\u001B[38;5;124m, \u001B[39m\u001B[38;5;124m'\u001B[39m\u001B[38;5;241m.\u001B[39mjoin(\u001B[38;5;28mmap\u001B[39m(\u001B[38;5;28;01mlambda\u001B[39;00m\u001B[38;5;250m \u001B[39mx:\u001B[38;5;250m \u001B[39m\u001B[43mnames\u001B[49m\u001B[43m[\u001B[49m\u001B[43mx\u001B[49m\u001B[43m]\u001B[49m,\u001B[38;5;250m \u001B[39malts_rank))\u001B[38;5;132;01m}\u001B[39;00m\u001B[38;5;124m\"\u001B[39m,\n\u001B[0;32m    208\u001B[0m     size\u001B[38;5;241m=\u001B[39m\u001B[38;5;241m12\u001B[39m,\n\u001B[0;32m    209\u001B[0m     ha\u001B[38;5;241m=\u001B[39m\u001B[38;5;124m'\u001B[39m\u001B[38;5;124mcenter\u001B[39m\u001B[38;5;124m'\u001B[39m,\n\u001B[0;32m    210\u001B[0m     va\u001B[38;5;241m=\u001B[39m\u001B[38;5;124m'\u001B[39m\u001B[38;5;124mcenter\u001B[39m\u001B[38;5;124m'\u001B[39m,\n\u001B[0;32m    211\u001B[0m     bbox\u001B[38;5;241m=\u001B[39m\u001B[38;5;28mdict\u001B[39m(boxstyle\u001B[38;5;241m=\u001B[39m\u001B[38;5;124m'\u001B[39m\u001B[38;5;124mround\u001B[39m\u001B[38;5;124m'\u001B[39m, facecolor\u001B[38;5;241m=\u001B[39m\u001B[38;5;124m'\u001B[39m\u001B[38;5;124mcyan\u001B[39m\u001B[38;5;124m'\u001B[39m, edgecolor\u001B[38;5;241m=\u001B[39m\u001B[38;5;124m'\u001B[39m\u001B[38;5;124mblack\u001B[39m\u001B[38;5;124m'\u001B[39m)\n\u001B[0;32m    212\u001B[0m   )\n\u001B[0;32m    214\u001B[0m keys, values \u001B[38;5;241m=\u001B[39m \u001B[38;5;28mzip\u001B[39m(\u001B[38;5;241m*\u001B[39mgraph\u001B[38;5;241m.\u001B[39mitems())\n\u001B[0;32m    215\u001B[0m \u001B[38;5;28;01mfor\u001B[39;00m i \u001B[38;5;129;01min\u001B[39;00m \u001B[38;5;28mrange\u001B[39m(rank\u001B[38;5;241m.\u001B[39mshape[\u001B[38;5;241m0\u001B[39m]):\n",
      "File \u001B[1;32m~\\PycharmProjects\\2023-iswd\\venv\\lib\\site-packages\\pandas\\core\\indexes\\base.py:5341\u001B[0m, in \u001B[0;36mIndex.__getitem__\u001B[1;34m(self, key)\u001B[0m\n\u001B[0;32m   5339\u001B[0m result \u001B[38;5;241m=\u001B[39m getitem(key)\n\u001B[0;32m   5340\u001B[0m \u001B[38;5;66;03m# Because we ruled out integer above, we always get an arraylike here\u001B[39;00m\n\u001B[1;32m-> 5341\u001B[0m \u001B[38;5;28;01mif\u001B[39;00m \u001B[43mresult\u001B[49m\u001B[38;5;241;43m.\u001B[39;49m\u001B[43mndim\u001B[49m \u001B[38;5;241m>\u001B[39m \u001B[38;5;241m1\u001B[39m:\n\u001B[0;32m   5342\u001B[0m     deprecate_ndim_indexing(result)\n\u001B[0;32m   5343\u001B[0m     \u001B[38;5;28;01mif\u001B[39;00m \u001B[38;5;28mhasattr\u001B[39m(result, \u001B[38;5;124m\"\u001B[39m\u001B[38;5;124m_ndarray\u001B[39m\u001B[38;5;124m\"\u001B[39m):\n\u001B[0;32m   5344\u001B[0m         \u001B[38;5;66;03m# i.e. NDArrayBackedExtensionArray\u001B[39;00m\n\u001B[0;32m   5345\u001B[0m         \u001B[38;5;66;03m# Unpack to ndarray for MPL compat\u001B[39;00m\n\u001B[0;32m   5346\u001B[0m         \u001B[38;5;66;03m# error: Item \"ndarray[Any, Any]\" of\u001B[39;00m\n\u001B[0;32m   5347\u001B[0m         \u001B[38;5;66;03m# \"Union[ExtensionArray, ndarray[Any, Any]]\"\u001B[39;00m\n\u001B[0;32m   5348\u001B[0m         \u001B[38;5;66;03m# has no attribute \"_ndarray\"\u001B[39;00m\n",
      "\u001B[1;31mAttributeError\u001B[0m: 'str' object has no attribute 'ndim'"
     ]
    }
   ],
   "source": [
    "ranking, rank_final = electre3.perform(\n",
    "  df,\n",
    "  preferences,\n",
    "  indifferences,\n",
    "  vetoes,\n",
    "  weights\n",
    ")\n",
    "\n",
    "ranking"
   ],
   "metadata": {
    "collapsed": false
   }
  },
  {
   "cell_type": "markdown",
   "source": [
    "### Wnioski"
   ],
   "metadata": {
    "collapsed": false
   }
  },
  {
   "cell_type": "markdown",
   "source": [],
   "metadata": {
    "collapsed": false
   }
  }
 ],
 "metadata": {
  "kernelspec": {
   "display_name": ".venv",
   "language": "python",
   "name": "python3"
  },
  "language_info": {
   "codemirror_mode": {
    "name": "ipython",
    "version": 3
   },
   "file_extension": ".py",
   "mimetype": "text/x-python",
   "name": "python",
   "nbconvert_exporter": "python",
   "pygments_lexer": "ipython3",
   "version": "3.11.2"
  },
  "orig_nbformat": 4
 },
 "nbformat": 4,
 "nbformat_minor": 2
}
