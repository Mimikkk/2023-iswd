{
 "cells": [
  {
   "attachments": {},
   "cell_type": "markdown",
   "metadata": {},
   "source": [
    "# ELECTRE III\n",
    "\n",
    "## Autorzy\n",
    "- Daniel Zdancewicz [145317]\n",
    "- Alex Terentowicz [145419]\n"
   ]
  },
  {
   "attachments": {},
   "cell_type": "markdown",
   "metadata": {},
   "source": [
    "### Opis zbioru danych\n",
    "\n",
    "Zbiór danych wykorzystany w raporcie to \"[AI Global Index](https://www.tortoisemedia.com/intelligence/global-ai/)\", tworzący ranking państw względem ich adopcją sztucznej inteligencji.\n",
    "\n",
    "Kolumny, które tworzą zbiór to:\n",
    "- `Talent` — Wskaźnik dostępności naukowców, którzy są w stanie prowadzić badania sztucznej inteligencji przez państwo.\n",
    "- `Infrastructure` — Wskaźnik gotowości infrastruktury państwowej na przyjęcie sztucznej inteligencji.\n",
    "- `Operating Environment` — Wskaźnik zainteresowania i opinii publicznej o sztucznej inteligencji.\n",
    "- `Research` — Wskaźnik zainteresowania wspomaganiem badań przez państwo.\n",
    "- `Development` — Wskaźnik rozwoju państwa.\n",
    "- `Government Strategy` — Wskaźnik udziału państwa w adopcji sztucznej inteligencji w państwie.\n",
    "- `Commercial` — Wskaźnik udziału sektora usług w ekonomii państwa.\n",
    "- `Total Score` — Wynik wspólny państwa (Służy tylko do porównania otrzymanego rankingu).\n",
    "- `Region` — Region świata, w którym znajduje się państwo.\n",
    "- `Cluster` — Rodzaj państwa, do którego zalicza względem jego stanu rozwoju.\n",
    "- `Income Group` — Grupa państwa względem jego przychodu.\n",
    "- `Politcal regime` — Polityka państwa.\n",
    "\n",
    "W raporcie kolumna `Total Score` służy do sprawdzenia, jak metoda `ELECTRE III` sprawdza się przy odwzorowywaniu rankingu."
   ]
  },
  {
   "attachments": {},
   "cell_type": "markdown",
   "metadata": {},
   "source": [
    "#### 1. Jaka jest domena problemu?\n",
    "Domeną problemu jest adopcja sztucznej inteligencji przez różne państwa i tworzenie rankingu na podstawie różnych wskaźników związanych z tym zagadnieniem.\n",
    "\n",
    "#### 2. Jakie jest źródło danych?\n",
    "\n",
    "Źródła danych:\n",
    "- Artykuł badawczy — [https://intersog.com/blog/ai-dominant-players-and-aspiring-challengers/](https://intersog.com/blog/ai-dominant-players-and-aspiring-challengers/)\n",
    "- Punkt pochodzenia wskaźników — [https://www.tortoisemedia.com/intelligence/global-ai/](https://www.tortoisemedia.com/intelligence/global-ai/)\n",
    "- Miejsce dostępu do danych — [https://www.kaggle.com/datasets/katerynameleshenko/ai-index/](https://www.kaggle.com/datasets/katerynameleshenko/ai-index/)\n",
    "- Licencja zbioru danych (ODC | Open Data Commons) — [https://opendatacommons.org/licenses/dbcl/1-0/](https://opendatacommons.org/licenses/dbcl/1-0/)\n",
    "\n",
    "#### 3. Jaki jest punkt widzenia decydenta?\n",
    "Decydent ma na celu ocenie adopcji sztucznej inteligencji w Litwie.\n",
    "\n",
    "#### 4. Jaka jest liczba rozważanych wariantów? Czy w oryginalnym zbiorze danych było ich więcej?\n",
    "Rozpatrujemy $62$ warianty, w oryginalnym zbiorze jest ich również tyle samo.\n",
    "\n",
    "#### 5. Opisz jeden z rozważanych wariantów - jak jest oceniony na poszczególnych kryteriach, jak dobry jest na tle innych.\n",
    "Jeden z rozważanych wariantów wraz z wartościami wskaźników. Estonia, jako wariant charakteryzuje stosunkowo średnie/słabe oceny na wszystkich kryteriach, przez co można wysunąć stwierdzenie, że państwo nie jest preferowane względem behemotów takich jak Chiny czy Stany, ale nie jest tak źle, jak w Kenii.\n",
    "\n",
    "Estonia:\n",
    "- `Talent` — 18.74\n",
    "- `Infrastructure` — 63.65.\n",
    "- `Operating Environment` — 88.67.\n",
    "- `Research` — 11.75.\n",
    "- `Development` — 9.31.\n",
    "- `Government Strategy` — 72.08.\n",
    "- `Commercial` — 12.51.\n",
    "- `Total Score` — 26.6.\n",
    "- `Region` — Europe.\n",
    "- `Cluster` — Waking up.\n",
    "- `Income Group` — High.\n",
    "- `Political regime` — Liberal democracy."
   ]
  },
  {
   "cell_type": "code",
   "execution_count": null,
   "metadata": {},
   "outputs": [],
   "source": [
    "from pandas import read_csv\n",
    "dataset = read_csv('./resources/datasets/ai-index.csv', index_col=\"Country\")\n",
    "\n",
    "dataset.loc[['Kenya', 'Estonia', 'United States of America', 'China']]"
   ]
  },
  {
   "attachments": {},
   "cell_type": "markdown",
   "metadata": {},
   "source": [
    "#### 6. Ile rozwazasz kryteriów? Czy było ich więcej w oryginalnym zbiorze danych?\n",
    "Rozpatrywana są wszystkie wskaźniki.\n",
    "\n",
    "- `Talent`.\n",
    "- `Infrastructure`.\n",
    "- `Operating Environment`.\n",
    "- `Research`.\n",
    "- `Development`.\n",
    "- `Government Strategy`.\n",
    "- `Commercial`.\n",
    "\n",
    "W wykorzystywanym zbiorze oryginalnie wykorzystano wszystkie dostępne kolumny.\n",
    "\n",
    "#### 7. Jakie są typy poszczególnych kryteriów? Scharakteryzuj je pod kątem: ciągłe/dyskretne, typu zysk/koszt, osiągane wartości.\n",
    "\n",
    "| Wskaźnik                | Ciągłość | Typ  | Wartości    |\n",
    "|-------------------------|----------|------|-------------|\n",
    "| `Talent`                | ciągłe   | zysk | [0.0-100.0] |\n",
    "| `Infrastructure`        | ciągłe   | zysk | [0.0-100.0] |\n",
    "| `Operating Environment` | ciągłe   | zysk | [0.0-100.0] |\n",
    "| `Research`              | ciągłe   | zysk | [0.0-100.0] |\n",
    "| `Development`           | ciągłe   | zysk | [0.0-100.0] |\n",
    "| `Government Strategy`   | ciągłe   | zysk | [0.0-100.0] |\n",
    "| `Commercial`            | ciągłe   | zysk | [0.0-100.0] |\n"
   ]
  },
  {
   "attachments": {},
   "cell_type": "markdown",
   "metadata": {},
   "source": [
    "#### 8. Jakie są wagi poszczególnych kryteriów?\n",
    "Kryteria według prefencji nie są równie istotne, wagi, które zostały przyjęte to:\n",
    "\n",
    "| Wskaźnik                | Waga |\n",
    "|-------------------------|------|\n",
    "| `Talent`                | 5.0  |\n",
    "| `Infrastructure`        | 2.0  |\n",
    "| `Operating Environment` | 1.0  |\n",
    "| `Research`              | 5.0  |\n",
    "| `Development`           | 5.0  |\n",
    "| `Government Strategy`   | 1.0  |\n",
    "| `Commercial`            | 7.0  |\n",
    "\n",
    "Ważny jest talent, badania i rozwój państwa, najważniejsza jest możliwości zmonetyzowania sektora usług. Jak jest zarządzane państwo czy jego polityka nie ma\n",
    "wielkiego znaczenia.\n",
    "\n",
    "#### 9. Czy istnieją jakieś dominacje w zbiorze wariantów? Jeśli tak, podaj je.\n",
    "\n",
    "Kenia przez Chiny, Stany itp."
   ]
  },
  {
   "cell_type": "code",
   "execution_count": null,
   "metadata": {},
   "outputs": [],
   "source": [
    "dataset.loc[[\"Kenya\", \"China\", 'United States of America']]"
   ]
  },
  {
   "attachments": {},
   "cell_type": "markdown",
   "metadata": {},
   "source": [
    "#### 10. Jak teoretycznie powinien prezentować się najlepszy wariant w Twoim zbiorze danych?\n",
    "Tak jak opisano w wagach, ważny jest talent, badania i rozwój państwa i najważniejsza jest możliwości zmonetyzowania sektora usług. Jak jest zarządzane państwo czy jego polityka nie ma wielkiego znaczenia.\n",
    "\n",
    "#### 11. Spośród rozważanych wariantów, który wydaje się być najlepszy/lepszy od innych i dlaczego?\n",
    "Chiny i Stany według wskaźników i naszych wag. Chiny/Stany może mają beznadziejne formy rządów, ale dostęp do talentu i silny market nadrabia inne problemy."
   ]
  },
  {
   "attachments": {},
   "cell_type": "markdown",
   "metadata": {},
   "source": [
    "#### 12. Sposród rozważanych wariantów, który wydaje się być najsłabszy/znacząco słabszy od innych i dlaczego?\n",
    "Kenia, jest biedna, nie ma zbyt dużego marketu, który by nas interesował."
   ]
  },
  {
   "cell_type": "code",
   "execution_count": null,
   "metadata": {},
   "outputs": [],
   "source": [
    "dataset.loc[[\"Kenya\"]]"
   ]
  },
  {
   "attachments": {},
   "cell_type": "markdown",
   "metadata": {},
   "source": [
    "### Analiza problemu z wykorzystaniem ELECTRE III\n"
   ]
  },
  {
   "attachments": {},
   "cell_type": "markdown",
   "metadata": {},
   "source": [
    "#### Obligatoryjne importy"
   ]
  },
  {
   "cell_type": "code",
   "execution_count": null,
   "metadata": {},
   "outputs": [],
   "source": [
    "import electre3\n",
    "import numpy as np"
   ]
  },
  {
   "attachments": {},
   "cell_type": "markdown",
   "metadata": {},
   "source": [
    "#### Informacja preferencyjna podana na wejście metody\n",
    "\n",
    "Jako informację preferencyjną przyjęto dla wskaźników:\n",
    "- P = 20% — progi preferencji | preferences\n",
    "- Q = 05% — progi nierozróżnialności | indifference\n",
    "- V = 40% — progi veta | veotes\n",
    "- W = zgodnie z tabelką — wagi kryteriów | weights"
   ]
  },
  {
   "cell_type": "code",
   "execution_count": null,
   "outputs": [],
   "source": [
    "criteria = [\n",
    "  'Talent',\n",
    "  'Infrastructure',\n",
    "  'Operating Environment',\n",
    "  'Research',\n",
    "  'Development',\n",
    "  'Government Strategy',\n",
    "  'Commercial',\n",
    "]\n",
    "criteria_count = len(criteria)\n",
    "preferences = [15] * criteria_count\n",
    "indifferences = [2.5] * criteria_count\n",
    "vetoes = [40] * criteria_count\n",
    "weights = [5.0, 2.0, 1.0, 5.0, 7.0, 1.0, 3.0]\n",
    "\n",
    "df = dataset[criteria]\n",
    "alternatives = df.values"
   ],
   "metadata": {
    "collapsed": false
   }
  },
  {
   "attachments": {},
   "cell_type": "markdown",
   "metadata": {},
   "source": [
    "#### Electre III"
   ]
  },
  {
   "cell_type": "code",
   "execution_count": null,
   "outputs": [],
   "source": [
    "global_concordance, credibility, rank_descending, rank_ascending, rank_preorder = electre3.perform(\n",
    "  alternatives,\n",
    "  preferences,\n",
    "  indifferences,\n",
    "  vetoes,\n",
    "  weights\n",
    ")"
   ],
   "metadata": {
    "collapsed": false
   }
  },
  {
   "cell_type": "code",
   "execution_count": null,
   "outputs": [],
   "source": [
    "np.ndarray.round(global_concordance, decimals=2)"
   ],
   "metadata": {
    "collapsed": false
   }
  },
  {
   "cell_type": "code",
   "execution_count": null,
   "outputs": [],
   "source": [
    "np.ndarray.round(credibility, decimals=2)"
   ],
   "metadata": {
    "collapsed": false
   }
  },
  {
   "cell_type": "code",
   "execution_count": null,
   "outputs": [],
   "source": [
    "for i in range(0, len(rank_descending)):\n",
    "  print(str(i + 1), rank_descending[i])"
   ],
   "metadata": {
    "collapsed": false
   }
  },
  {
   "cell_type": "code",
   "execution_count": null,
   "outputs": [],
   "source": [
    "for i in range(0, len(rank_ascending)):\n",
    "  print(f\"{i + 1:>2}: {rank_ascending[i]}\")"
   ],
   "metadata": {
    "collapsed": false
   }
  },
  {
   "cell_type": "code",
   "execution_count": null,
   "outputs": [],
   "source": [
    "for i in range(0, len(rank_preorder)):\n",
    "  print(f\"{i + 1:>2}: {rank_preorder[i]}\")\n"
   ],
   "metadata": {
    "collapsed": false
   }
  },
  {
   "cell_type": "code",
   "execution_count": null,
   "outputs": [],
   "source": [
    "from copy import deepcopy\n",
    "from matplotlib import pyplot as plt\n",
    "\n",
    "def preorder_ranking(preorder):\n",
    "  preorder = deepcopy(preorder)\n",
    "\n",
    "  alternatives = [f\"a{alternative}\" for alternative in range(len(preorder))]\n",
    "  for i in range(preorder.shape[0] - 1, -1, -1):\n",
    "    for j in range(preorder.shape[1] - 1, -1, -1):\n",
    "      if preorder[i, j] != 'I': continue\n",
    "      preorder = np.delete(preorder, i, axis=0)\n",
    "      preorder = np.delete(preorder, i, axis=1)\n",
    "      alternatives[j] = str(f\"{alternatives[j]}; {alternatives[i]}\")\n",
    "      del alternatives[i]\n",
    "      break\n",
    "\n",
    "  preorder_matrix = np.zeros((preorder.shape[0], preorder.shape[1]))\n",
    "  for i in range(preorder.shape[0]):\n",
    "    for j in range(preorder.shape[1]):\n",
    "      if (preorder[i, j] == 'P+'):\n",
    "        preorder_matrix[i, j] = 1\n",
    "\n",
    "  column_sums = np.sum(preorder_matrix, axis=1)\n",
    "  alternatives_ranks = [x for _, x in sorted(zip(column_sums, alternatives))]\n",
    "\n",
    "  if np.sum(column_sums) != 0:\n",
    "    alternatives_ranks.reverse()\n",
    "\n",
    "  graph = {}\n",
    "  for i in range(preorder.shape[0]):\n",
    "    if (len(alternatives[i]) == 0):\n",
    "      graph[alternatives[i]] = i\n",
    "    else:\n",
    "      graph[alternatives[i][:2]] = i\n",
    "      graph[alternatives[i][-2:]] = i\n",
    "\n",
    "  graph_rank = {}\n",
    "  for i in range(preorder.shape[0]):\n",
    "    if (len(alternatives_ranks[i]) == 0):\n",
    "      graph_rank[alternatives_ranks[i]] = i\n",
    "    else:\n",
    "      graph_rank[alternatives_ranks[i][:2]] = i\n",
    "      graph_rank[alternatives_ranks[i][-2:]] = i\n",
    "  rank = np.copy(preorder_matrix)\n",
    "  for i in range(preorder_matrix.shape[0]):\n",
    "    for j in range(preorder_matrix.shape[1]):\n",
    "      if (preorder_matrix[i, j] == 1):\n",
    "        rank[i, :] = np.clip(0, rank[i, :] - rank[j, :], 1)\n",
    "  rank_xy = np.zeros((len(alternatives_ranks), 2))\n",
    "  for i in range(rank_xy.shape[0]):\n",
    "    rank_xy[i, 0] = 0\n",
    "    if (len(alternatives_ranks) - np.sum(~rank.any(1)) != 0):\n",
    "      rank_xy[i, 1] = len(alternatives_ranks) - np.sum(~rank.any(1))\n",
    "    else:\n",
    "      rank_xy[i, 1] = 1\n",
    "  for i in range(len(alternatives_ranks) - 1):\n",
    "    i1 = int(graph[alternatives_ranks[i][:2]])\n",
    "    i2 = int(graph[alternatives_ranks[i + 1][:2]])\n",
    "\n",
    "    if preorder[i1, i2] == 'P+':\n",
    "      rank_xy[i + 1, 1] = rank_xy[i + 1, 1] - 1\n",
    "      for j in range(i + 2, rank_xy.shape[0]):\n",
    "        rank_xy[j, 1] = rank_xy[i + 1, 1]\n",
    "\n",
    "    if preorder[i1, i2] == 'R':\n",
    "      rank_xy[i + 1, 0] = rank_xy[i, 0] + 1\n",
    "\n",
    "  print(alternatives_ranks)\n",
    "\n",
    "  for i in range(rank_xy.shape[0]):\n",
    "    plt.text(rank_xy[i, 0], rank_xy[i, 1], alternatives_ranks[i], size=12, ha='center', va='center',\n",
    "             bbox=dict(boxstyle='round', ec=(0.0, 0.0, 0.0), fc=(0.8, 1.0, 0.8), ))\n",
    "\n",
    "  for i in range(len(alternatives_ranks)):\n",
    "    alternatives_ranks[i] = alternatives_ranks[i][:2]\n",
    "\n",
    "  print(alternatives_ranks)\n",
    "  print(graph)\n",
    "  print(graph_rank)\n",
    "  print(rank)\n",
    "  print(list(graph.keys()))\n",
    "\n",
    "  keys = list(graph.keys())\n",
    "  values = list(graph.values())\n",
    "  for i in range(rank.shape[0]):\n",
    "    print(values.index(i))\n",
    "    for j in range(rank.shape[1]):\n",
    "      k1 = int(graph_rank[keys[values.index(i)]])\n",
    "      k2 = int(graph_rank[keys[values.index(j)]])\n",
    "\n",
    "      if rank[i, j] == 1:\n",
    "        plt.arrow(\n",
    "          rank_xy[k1, 0],\n",
    "          rank_xy[k1, 1],\n",
    "          rank_xy[k2, 0] - rank_xy[k1, 0],\n",
    "          rank_xy[k2, 1] - rank_xy[k1, 1],\n",
    "          head_width=0.01,\n",
    "          head_length=0.2,\n",
    "          overhang=0.0,\n",
    "          color='black',\n",
    "          linewidth=0.9,\n",
    "          length_includes_head=True\n",
    "        )\n",
    "\n",
    "  axes = plt.gca()\n",
    "  xmin = np.amin(rank_xy[:, 0])\n",
    "  xmax = np.amax(rank_xy[:, 0])\n",
    "  axes.set_xlim([xmin - 1, xmax + 1])\n",
    "  ymin = np.amin(rank_xy[:, 1])\n",
    "  ymax = np.amax(rank_xy[:, 1])\n",
    "  if (ymin < ymax):\n",
    "    axes.set_ylim([ymin, ymax])\n",
    "  else:\n",
    "    axes.set_ylim([ymin - 1, ymax + 1])\n",
    "  plt.axis('off')\n",
    "  plt.show()\n",
    "  return\n",
    "\n",
    "\n",
    "preorder_ranking(rank_preorder)\n"
   ],
   "metadata": {
    "collapsed": false
   }
  },
  {
   "cell_type": "markdown",
   "source": [],
   "metadata": {
    "collapsed": false
   }
  }
 ],
 "metadata": {
  "kernelspec": {
   "display_name": ".venv",
   "language": "python",
   "name": "python3"
  },
  "language_info": {
   "codemirror_mode": {
    "name": "ipython",
    "version": 3
   },
   "file_extension": ".py",
   "mimetype": "text/x-python",
   "name": "python",
   "nbconvert_exporter": "python",
   "pygments_lexer": "ipython3",
   "version": "3.11.2"
  },
  "orig_nbformat": 4
 },
 "nbformat": 4,
 "nbformat_minor": 2
}
