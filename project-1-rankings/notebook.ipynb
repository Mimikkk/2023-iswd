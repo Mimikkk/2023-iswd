{
 "cells": [
  {
   "cell_type": "markdown",
   "source": [
    "# Projekt 1 - Ranking scenariuszy zarządzania odpadami radioaktywnymi\n",
    "## Autorzy\n",
    "- Daniel Zdancewicz [145317]\n",
    "- Alex Terentowicz [145419]\n",
    "\n",
    "## Opis\n",
    "Zadaniem projektu jest stworzenie rankingu różnych scenariuszy zarządzania odpadami radioaktywnymi\n",
    "z wykorzystaniem odpornej regresji porządkowej. Będziemy bazować na zbiorze danych opisanym w pracy\n",
    "[Nuclear waste management: an application of the multicriteria PROMETHEE methods](./paper.pdf)\n",
    "\n",
    "Wyobraźmy sobie, że jesteśmy instytucją zajmującą się utylizacją odpadów radioaktywnych. Naszym\n",
    "zadaniem jest zaproponowanie modelu utylizacji takich odpadów dla 30-letniego programu nuklearnego.\n",
    "Wybrano 3 miejsca na potencjalne składowisko, 3 scenariusze czasowe oraz 3 modele finansowania. Ze\n",
    "względu na to, że ostatecznie klient może się nie zgodzić na optymalną dla nas strategię, dlatego chcielibyśmy uzyskać pełne rankingi wszystkich opcji. Zespół ekspertów ocenił wszystkie możliwe scenariusze przez nas rozważane (dane znajdują się w pliku [Nuclear waste management.csv](./resources/nuclear-waste.csv))\n",
    "\n",
    "## Informacja preferencyjna\n",
    "\n",
    "Wybrane i oceniane pary wariantów znajdują się w pliku [preferential-information.csv](./resources/preferential-information.csv).\n",
    "Grupy, do których należą autorzy to 1 i 4, które definiują preferencję.\n",
    "\n",
    "Rozważane preferencje:\n",
    "- Wydajność produkcji elektrycznej wzrośnie.\n",
    "- Ostrożny inwestor, który nie chce ryzykować.\n"
   ],
   "metadata": {
    "collapsed": false
   }
  },
  {
   "cell_type": "markdown",
   "source": [
    "## Zadanie 1 — UTA — Ocena wariantów\n",
    "### Informacja o informacji preferencyjnej.\n",
    "Preferencje zostały na podstawie przynależności do grupy 1 i 4.\n",
    "Te grupy definiują preferencję:\n",
    "- Wydajność produkcji elektrycznej wzrośnie.\n",
    "- Ostrożny inwestor, który nie chce ryzykować.\n",
    "\n",
    "W zadaniu były dostępne 4 kryteria oceny (wszystkie są typu koszt):\n",
    "- C1 — Finansowe koszty całkowite (The total financial cost)\n",
    "- C2 — Koszty finansowe przez aktualnego konsumenta (The financial cost incurred by the current consumer)\n",
    "- C3 — Koszty wspierane przez przyszłego konsumenta (The financial cost supported by the future consumer)\n",
    "- C4 — Ryzyko kosztów finansowych (Financial risk due to overcosts)\n",
    "\n",
    "Co zostało zinterpretowane jako minimalizacja kryterium 4 i przyzwolenie na zaniedbania kryterium 3.\n",
    "Minimalizacja czwartego kryterium (C4: ryzyko kosztów finansowych) jest zgodna z preferencją ostrożnego inwestora, który nie pragnie podejmować nadmiernego ryzyka. Tymczasem zaniedbywanie trzeciego kryterium (C3: koszty wspierane przez przyszłych konsumentów) sugeruje pomijanie kosztów przyszłościowych z racji optymistycznej prognozy wzrostu wydajności w produkcji energii elektrycznej. W rezultacie modelowanie ważności kryteriów można przedstawić jako C4 >= C1 ~ C2 >= C3.\n",
    "\n",
    "Tę hierarchię można zinterpretować następująco: pierwszym priorytetem jest minimalizacja ryzyka kosztów finansowych, aby zaspokoić potrzeby ostrożnego inwestora. Drugą preferencją są koszty całkowite, które są równoważne z trzecim priorytetem, czyli kosztami ponoszonymi przez obecnych konsumentów. W końcu najmniej ważne są koszty wspierane przez przyszłych konsumentów, ze względu na optymistyczne prognozy wzrostu wydajności w sektorze produkcji energii elektrycznej."
   ],
   "metadata": {
    "collapsed": false
   }
  },
  {
   "cell_type": "markdown",
   "source": [
    "### Ocena wybranych par wariantów\n",
    "Przedstawione niżej 5 par wariantów wchodzące do porównań zostały wybrane na podstawie informacji preferencyjnej (5,12,33) oraz predefiniowane (24,25) według indeksów autorów.\n",
    "\n",
    "| Para | Indeks | C1   | C2   | C3   | C4   |   Preferencja   |\n",
    "|:----:|:------:|------|------|------|------|:---------------:|\n",
    "| 05-1 |   15   | 0.87 | 0.03 | 1.00 | 0.61 |   Preferowany   |\n",
    "| 05-2 |   26   | 0.71 | 0.25 | 0.88 | 0.67 |        -        |\n",
    "| 12-1 |   01   | 0.60 | 0.93 | 0.00 | 0.73 |        -        |\n",
    "| 12-2 |   05   | 0.62 | 0.40 | 0.56 | 0.50 |   Preferowany   |\n",
    "| 24-1 |   06   | 0.78 | 0.27 | 0.71 | 0.50 | Nierozróżnialne |\n",
    "| 24-2 |   08   | 0.64 | 0.44 | 0.54 | 0.54 | Nierozróżnialne |\n",
    "| 25-1 |   07   | 0.40 | 0.90 | 0.00 | 0.82 |        -        |\n",
    "| 25-2 |   21   | 0.83 | 0.25 | 0.80 | 0.65 |   Preferowany   |\n",
    "| 33-1 |   03   | 1.00 | 0.45 | 0.57 | 0.50 |   Preferowany   |\n",
    "| 33-2 |   27   | 0.80 | 0.06 | 1.00 | 0.67 |        -        |\n",
    "\n",
    "**Ocena par wariantów**:\n",
    "- [Para 05] (15,26) — wariant 15 jest lepszy od wariantu 26 ze względu na niższą wartość przyszłego ryzyka.\n",
    "- [Para 12] (01,05) — Wariant 05 jest zdecydowanie lepszy od wariantu 01 ze względu na ryzyko mimo potencjalnego kosztu przyszłego konsumenta.\n",
    "- [Para 24] (06,08) — Warianty zdają się nierozróżnialne ze względu na niewielkie różnice w wartościach kryteriów.\n",
    "- [Para 25] (07,21) — Wariant 21 jest lepszy od wariantu 07 ze względu na niższe ryzyko mimo drastycznego wzrostu przyszłych kosztów.\n",
    "- [Para 33] (03,27) — Wariant 03 jest lepszy od wariantu 27 ze względu na niższe ryzyko."
   ],
   "metadata": {
    "collapsed": false
   }
  },
  {
   "cell_type": "markdown",
   "source": [
    "### Problem programowania matematycznego liniowego"
   ],
   "metadata": {
    "collapsed": false
   }
  },
  {
   "cell_type": "markdown",
   "source": [
    "### Opis\n",
    "Do odnalezienia rankingu został zdefiniowany problem programowania matematycznego polegający na rozwiązaniu problemu regresji porządkowej.\n",
    "\n",
    "Problem regresji porządkowej poszukuje takiej funkcji, która umożliwia na odczytanie wartości całkowitej, dla każdego z wariantów.\n",
    "\n",
    "Sformułowanie problemu matematycznego uwzględnia trzy typy ograniczeń:\n",
    "- Odtworzenie rankingu referencyjnego, poprzez przemianowanie na sumę użyteczności cząstkowych odpowiadającym wariantom.\n",
    "- Monotoniczność wartości ( w przypadku naszych kosztów jest to funkcja nierosnąca).\n",
    "- Normalizacja wartości do przedziału [0,1]."
   ],
   "metadata": {
    "collapsed": false
   }
  },
  {
   "cell_type": "code",
   "execution_count": 4,
   "outputs": [],
   "source": [
    "from pulp import *\n",
    "from itertools import pairwise\n",
    "\n",
    "def flattened(it):\n",
    "  return [element for iterable in it for element in iterable]\n",
    "def exhaust(it):\n",
    "  for _ in it: pass"
   ],
   "metadata": {
    "collapsed": false
   }
  },
  {
   "cell_type": "code",
   "execution_count": 37,
   "outputs": [
    {
     "name": "stdout",
     "output_type": "stream",
     "text": [
      "[-0.5, -0.25, -0.5, -0.75]\n"
     ]
    }
   ],
   "source": [
    "model = LpProblem(\"ordinal-regression\", LpMaximize)\n",
    "\n",
    "epsilons = [LpVariable(f\"e{epsilon}\", cat=LpContinuous) for epsilon in range(4)]\n",
    "utilities = [[LpVariable(f\"u{criterion}_{i:03d}\", 0, 1, LpContinuous)\n",
    "              for i in range(0, 100 + 1)\n",
    "              ] for criterion in range(4)]\n",
    "\n",
    "# Funkcja celu\n",
    "model.setObjective(sum(epsilons))\n",
    "\n",
    "(u1, u2, u3, u4) = utilities\n",
    "\n",
    "# # Warunek normalizacji — Typ koszt\n",
    "model.addConstraint(sum(utility[-1] for utility in utilities) == 0)\n",
    "model.addConstraint(sum(utility[0] for utility in utilities) == 1)\n",
    "\n",
    "# Nieujemność\n",
    "for value in flattened(utilities):\n",
    "  model.addConstraint(value >= 0)\n",
    "\n",
    "# Warunek monotoniczności — Typ koszt\n",
    "for (v1, v2) in flattened(map(pairwise, utilities)):\n",
    "  model.addConstraint(v1 <= v2)\n",
    "\n",
    "model.addConstraint(u1[0] == 0.25)\n",
    "model.addConstraint(u2[0] == 0.25)\n",
    "model.addConstraint(u3[0] == 0.25)\n",
    "model.addConstraint(u4[0] == 0.25)\n",
    "\n",
    "# odtworzenie rankingu referencyjnego\n",
    "model.addConstraint(u1[87] + u2[3] + u3[100] + u4[61] - u1[71] - u2[25] - u3[88] - u4[67] >= epsilons[0])\n",
    "model.addConstraint(u1[62] + u2[40] + u3[56] + u4[50] - u1[60] - u2[93] - u3[0] - u4[73] >= epsilons[1])\n",
    "model.addConstraint(u1[83] + u2[25] + u3[80] + u4[65] - u1[40] - u2[90] - u3[0] - u4[82] >= epsilons[2])\n",
    "model.addConstraint(u1[100] + u2[45] + u3[57] + u4[50] - u1[80] - u2[6] - u3[100] - u4[67] >= epsilons[3])\n",
    "model.addConstraint(u1[64] + u2[44] + u3[54] + u4[54] - u1[78] - u2[27] - u3[71] - u4[50] == 0)\n",
    "\n",
    "model.solve()\n",
    "print([value.varValue for value in epsilons])"
   ],
   "metadata": {
    "collapsed": false
   }
  },
  {
   "cell_type": "markdown",
   "source": [
    "### Ranking wariantów przy użyciu metody UTA"
   ],
   "metadata": {
    "collapsed": false
   }
  },
  {
   "cell_type": "markdown",
   "source": [
    "### Ocena spójności otrzymanego rankingu z informacją preferencyjną dla kilku wybranych niereferencyjnych"
   ],
   "metadata": {
    "collapsed": false
   }
  },
  {
   "cell_type": "markdown",
   "source": [
    "## Zadanie 2 — UTA GMS — Analiza koniecznych relacji"
   ],
   "metadata": {
    "collapsed": false
   }
  },
  {
   "cell_type": "markdown",
   "source": [
    "## Zadanie 3 — Konstrukcja reprezentatywnej funkcji użyteczności"
   ],
   "metadata": {
    "collapsed": false
   }
  }
 ],
 "metadata": {
  "kernelspec": {
   "display_name": "Python 3",
   "language": "python",
   "name": "python3"
  },
  "language_info": {
   "codemirror_mode": {
    "name": "ipython",
    "version": 2
   },
   "file_extension": ".py",
   "mimetype": "text/x-python",
   "name": "python",
   "nbconvert_exporter": "python",
   "pygments_lexer": "ipython2",
   "version": "2.7.6"
  }
 },
 "nbformat": 4,
 "nbformat_minor": 0
}
