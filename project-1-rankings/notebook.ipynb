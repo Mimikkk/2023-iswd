{
 "cells": [
  {
   "cell_type": "markdown",
   "source": [
    "# Projekt 1 - Ranking scenariuszy zarządzania odpadami radioaktywnymi\n",
    "## Autorzy\n",
    "- Daniel Zdancewicz [145317]\n",
    "- Alex Terentowicz [145419]\n",
    "\n",
    "## Opis\n",
    "Zadaniem projektu jest stworzenie rankingu różnych scenariuszy zarządzania odpadami radioaktywnymi\n",
    "z wykorzystaniem odpornej regresji porządkowej. Będziemy bazować na zbiorze danych opisanym w pracy\n",
    "[Nuclear waste management: an application of the multicriteria PROMETHEE methods](./paper.pdf)\n",
    "\n",
    "Wyobraźmy sobie, że jesteśmy instytucją zajmującą się utylizacją odpadów radioaktywnych. Naszym\n",
    "zadaniem jest zaproponowanie modelu utylizacji takich odpadów dla 30-letniego programu nuklearnego.\n",
    "Wybrano 3 miejsca na potencjalne składowisko, 3 scenariusze czasowe oraz 3 modele finansowania. Ze\n",
    "względu na to, że ostatecznie klient może się nie zgodzić na optymalną dla nas strategię, dlatego chcielibyśmy uzyskać pełne rankingi wszystkich opcji. Zespół ekspertów ocenił wszystkie możliwe scenariusze przez nas rozważane (dane znajdują się w pliku [Nuclear waste management.csv](./resources/nuclear-waste.csv))\n",
    "\n",
    "## Informacja preferencyjna\n",
    "\n",
    "Wybrane i oceniane pary wariantów znajdują się w pliku [preferential-information.csv](./resources/preferential-information.csv).\n",
    "Grupy, do których należą autorzy to 1 i 4, które definiują preferencję.\n",
    "\n",
    "Rozważane preferencje:\n",
    "- Wydajność produkcji elektrycznej wzrośnie.\n",
    "- Ostrożny inwestor, który nie chce ryzykować.\n"
   ],
   "metadata": {
    "collapsed": false
   }
  },
  {
   "cell_type": "markdown",
   "source": [
    "## Zadanie 1 — UTA — Ocena wariantów\n",
    "### Informacja o informacji preferencyjnej.\n",
    "Preferencje zostały na podstawie przynależności do grupy 1 i 4.\n",
    "Te grupy definiują preferencję:\n",
    "- Wydajność produkcji elektrycznej wzrośnie.\n",
    "- Ostrożny inwestor, który nie chce ryzykować.\n",
    "\n",
    "W zadaniu były dostępne 4 kryteria oceny (wszystkie są typu koszt):\n",
    "- C1 — Finansowe koszty całkowite (The total financial cost)\n",
    "- C2 — Koszty finansowe przez aktualnego konsumenta (The financial cost incurred by the current consumer)\n",
    "- C3 — Koszty wspierane przez przyszłego konsumenta (The financial cost supported by the future consumer)\n",
    "- C4 — Ryzyko kosztów finansowych (Financial risk due to overcosts)\n",
    "\n",
    "Co zostało zinterpretowane jako minimalizacja kryterium 4 i przyzwolenie na zaniedbania kryterium 3.\n",
    "Minimalizacja czwartego kryterium (C4: ryzyko kosztów finansowych) jest zgodna z preferencją ostrożnego inwestora, który nie pragnie podejmować nadmiernego ryzyka. Tymczasem zaniedbywanie trzeciego kryterium (C3: koszty wspierane przez przyszłych konsumentów) sugeruje pomijanie kosztów przyszłościowych z racji optymistycznej prognozy wzrostu wydajności w produkcji energii elektrycznej. W rezultacie modelowanie ważności kryteriów można przedstawić jako C4 >= C1 ~ C2 >= C3.\n",
    "\n",
    "Tę hierarchię można zinterpretować następująco: pierwszym priorytetem jest minimalizacja ryzyka kosztów finansowych, aby zaspokoić potrzeby ostrożnego inwestora. Drugą preferencją są koszty całkowite, które są równoważne z trzecim priorytetem, czyli kosztami ponoszonymi przez obecnych konsumentów. W końcu najmniej ważne są koszty wspierane przez przyszłych konsumentów, ze względu na optymistyczne prognozy wzrostu wydajności w sektorze produkcji energii elektrycznej."
   ],
   "metadata": {
    "collapsed": false
   }
  },
  {
   "cell_type": "markdown",
   "source": [
    "### Ocena wybranych par wariantów\n",
    "Przedstawione niżej 5 par wariantów wchodzące do porównań zostały wybrane na podstawie informacji preferencyjnej (5,12,33) oraz predefiniowane (24,25) według indeksów autorów.\n",
    "\n",
    "| Para | Indeks | C1   | C2   | C3   | C4   |\n",
    "|:----:|:------:|------|------|------|------|\n",
    "| 05-1 |   15   | 0.87 | 0.03 | 1.00 | 0.61 |\n",
    "| 05-2 |   26   | 0.71 | 0.25 | 0.88 | 0.67 |\n",
    "| 12-1 |   01   | 0.60 | 0.93 | 0.00 | 0.73 |\n",
    "| 12-2 |   05   | 0.62 | 0.40 | 0.56 | 0.50 |\n",
    "| 24-1 |   06   | 0.78 | 0.27 | 0.71 | 0.50 |\n",
    "| 24-2 |   08   | 0.64 | 0.44 | 0.54 | 0.54 |\n",
    "| 25-1 |   07   | 0.40 | 0.90 | 0.00 | 0.82 |\n",
    "| 25-2 |   21   | 0.83 | 0.25 | 0.80 | 0.65 |\n",
    "| 33-1 |   03   | 1.00 | 0.45 | 0.57 | 0.50 |\n",
    "| 33-2 |   27   | 0.80 | 0.06 | 1.00 | 0.67 |\n",
    "\n",
    "**Ocena par wariantów**:\n",
    "Na podstawie przeprowadzoną analizę, najkorzystniejszymi opcją okazały się warianty 05, 08, 06, 03 z uwzględnieniem niższych kosztów finansowych w przypadku indeksu 08 w porównaniu do indeksów 06 i 03. Kolejno, preferowane są indeksy 06, a następnie 03, 15 i 21. Warianty o indeksach 27 i 26 wykazują zbliżone do siebie charakterystyki, za to na końcu rankingu umieszczono indeksy 01 oraz 07. Wyodrębnienie takiego układu hierarchii preferencyjnej opiera się głównie na dążeniu do minimalizacji ryzyka oraz ograniczenia kosztów finansowych bez silnego uwzględniania kosztów przyszłych.\n",
    "\n",
    "**Ostateczny ranking preferencyjny**:\n",
    "05 > 08 > 06 > 03 > 15 > 21 = 27 = 26 > 01 > 07"
   ],
   "metadata": {
    "collapsed": false
   }
  },
  {
   "cell_type": "markdown",
   "source": [
    "### Problem programowania matematycznego liniowego"
   ],
   "metadata": {
    "collapsed": false
   }
  },
  {
   "cell_type": "markdown",
   "source": [
    "### Opis\n",
    "Do odnalezienia rankingu został zdefiniowany problem programowania matematycznego polegający na rozwiązaniu problemu regresji porządkowej.\n",
    "\n",
    "Problem regresji porządkowej poszukuje takiej funkcji, która umożliwia na odczytanie wartości całkowitej, dla każdego z wariantów.\n",
    "\n",
    "Sformułowanie problemu matematycznego uwzględnia trzy typy ograniczeń:\n",
    "- Odtworzenie rankingu referencyjnego, poprzez przemianowanie na sumę użyteczności cząstkowych odpowiadającym wariantom.\n",
    "- Monotoniczność wartości ( w przypadku naszych kosztów jest to funkcja nierosnąca).\n",
    "- Normalizacja wartości do przedziału [0,1]."
   ],
   "metadata": {
    "collapsed": false
   }
  },
  {
   "cell_type": "code",
   "execution_count": 91,
   "outputs": [],
   "source": [
    "from pulp import *\n",
    "from itertools import pairwise\n",
    "import numpy as np\n",
    "from matplotlib import pyplot as plt\n",
    "\n",
    "def flattened(it):\n",
    "  return [element for iterable in it for element in iterable]\n",
    "def exhaust(it):\n",
    "  for _ in it: pass\n",
    "\n",
    "def read_variants():\n",
    "  with open(\"resources/nuclear-waste.csv\", \"r\") as file:\n",
    "    lines = file.readlines()[1:]\n",
    "  return [(*map(float, line.split(',')),) for line in lines]\n",
    "\n",
    "def variant_constraint(va, vb, are_equal=False):\n",
    "  (a1, a2, a3, a4) = va\n",
    "  (b1, b2, b3, b4) = vb\n",
    "\n",
    "  if (are_equal):\n",
    "    return u1[a1] + u2[a2] + u3[a3] + u4[a4] == u1[b1] + u2[b2] + u3[b3] + u4[b4]\n",
    "  return u1[a1] + u2[a2] + u3[a3] + u4[a4] >= u1[b1] + u2[b2] + u3[b3] + u4[b4] + epsilon\n",
    "\n",
    "def as_variable(variant):\n",
    "  return tuple(map(lambda x: int(100 * x), variant[1:]))\n",
    "\n",
    "variants = read_variants()\n",
    "variant_variables = tuple(map(as_variable, variants))\n",
    "def variant_by(index):\n",
    "  return variant_variables[index - 1]\n"
   ],
   "metadata": {
    "collapsed": false
   }
  },
  {
   "cell_type": "code",
   "execution_count": 92,
   "outputs": [
    {
     "name": "stdout",
     "output_type": "stream",
     "text": [
      "status: 1, Optimal\n",
      "Objective: 1.0\n",
      "(62, 40, 56, 50)\n"
     ]
    }
   ],
   "source": [
    "from collections import defaultdict\n",
    "\n",
    "variants = read_variants()\n",
    "model = LpProblem(\"ordinal-regression\", LpMaximize)\n",
    "\n",
    "epsilon = LpVariable(f\"e\", lowBound=0, cat=LpContinuous)\n",
    "utilities = [[\n",
    "  LpVariable(f\"u{criterion}_{i:03d}\", lowBound=0, upBound=1, cat=LpContinuous)\n",
    "  for i in range(0, 100 + 1)\n",
    "] for criterion in range(4)]\n",
    "(u1, u2, u3, u4) = utilities\n",
    "\n",
    "# # Warunek normalizacji — Typ koszt\n",
    "model.add(u1[0] + u2[0] + u3[0] + u4[0] == 1)\n",
    "for u in utilities: model.add(u[100] == 0)\n",
    "\n",
    "# 05 > 08 > 06 > 03 > 15 > 21 = 27 = 26 > 01 > 07\n",
    "# odtworzenie rankingu referencyjnego\n",
    "variant_variables = tuple(map(as_variable, variants))\n",
    "var = variant_by\n",
    "model.add(variant_constraint((87, 3, 100, 61), (71, 25, 88, 67)))\n",
    "model.add(variant_constraint((62, 40, 56, 50), (60, 93, 0, 73)))\n",
    "model.add(variant_constraint((83, 25, 80, 65), (40, 90, 0, 82)))\n",
    "model.add(variant_constraint((100, 45, 57, 50), (80, 6, 100, 67)))\n",
    "model.add(variant_constraint((64, 44, 54, 54), (78, 27, 71, 50), True))\n",
    "\n",
    "grouped = defaultdict(set)\n",
    "for variable in filter(lambda x: x.name.startswith(\"u\"), model.variables()):\n",
    "  grouped[variable.name.split(\"_\")[0]].add(variable)\n",
    "used = [sorted(us, key=lambda x: int(x.name.split('_')[1])) for us in grouped.values()]\n",
    "\n",
    "# Warunek monotoniczności — Typ koszt\n",
    "for (v1, v2) in flattened(map(pairwise, used)):\n",
    "  model.add(v1 >= v2)\n",
    "\n",
    "# Nieujemność\n",
    "for value in flattened(used):\n",
    "  model.add(value >= 0)\n",
    "\n",
    "# Funkcja celu\n",
    "model.setObjective(epsilon)\n",
    "\n",
    "model.solve()\n",
    "print(f'status: {model.status}, {LpStatus[model.status]}')\n",
    "print(f\"Objective: {model.objective.value()}\")\n",
    "\n",
    "def aspair(variable):\n",
    "  value = variable.value()\n",
    "  value = 0 if value < 0 else value\n",
    "  return int(variable.name.split(\"_\")[1]), value\n",
    "\n",
    "criteria = []\n",
    "for u in used:\n",
    "  arr = []\n",
    "  for (amin, amax), (bmin, bmax) in pairwise(map(aspair, u)):\n",
    "    arr.extend(np.linspace(amax, bmax, (bmin - amin)))\n",
    "  criteria.append(np.array(arr))\n",
    "\n"
   ],
   "metadata": {
    "collapsed": false
   }
  },
  {
   "cell_type": "code",
   "execution_count": 93,
   "outputs": [],
   "source": [
    "def rank_criteria(variants, criteria):\n",
    "  ranking = {}\n",
    "  for row in variants:\n",
    "    variant = int(row[0]) - 1\n",
    "\n",
    "    score = 0\n",
    "    for col in range(len(criteria)):\n",
    "      crit_id = int(variants[variant][col + 1] * 100)\n",
    "      if crit_id < len(criteria[col]):\n",
    "        idx = crit_id\n",
    "      else:\n",
    "        idx = crit_id - 1\n",
    "      score += criteria[col][idx]\n",
    "    ranking[variant + 1] = score\n",
    "\n",
    "  return sorted(ranking.items(), key=lambda x: x[1], reverse=True)\n",
    "def plot_criteria(criteria):\n",
    "  _, axes = plt.subplots(2, 2, figsize=(10, 10))\n",
    "  for x in [0, 1]:\n",
    "    for y in [0, 1]:\n",
    "      criterion = x * 2 + y\n",
    "      axes[x][y].plot(\n",
    "        np.linspace(0, 1.0, 100),\n",
    "        criteria[criterion],\n",
    "      )\n",
    "      axes[x][y].set_title(f\"Criterion: '{criterion + 1}'\")\n",
    "  plt.show()"
   ],
   "metadata": {
    "collapsed": false
   }
  },
  {
   "cell_type": "markdown",
   "source": [
    "### Ranking wariantów przy użyciu metody UTA"
   ],
   "metadata": {
    "collapsed": false
   }
  },
  {
   "cell_type": "code",
   "execution_count": 94,
   "outputs": [
    {
     "name": "stdout",
     "output_type": "stream",
     "text": [
      "[(1.0, 0.6, 0.93, 0.0, 0.73), (2.0, 0.66, 0.55, 0.45, 0.49), (3.0, 1.0, 0.45, 0.57, 0.5), (4.0, 0.48, 0.87, 0.0, 0.75), (5.0, 0.62, 0.4, 0.56, 0.5), (6.0, 0.78, 0.27, 0.71, 0.5), (7.0, 0.4, 0.9, 0.0, 0.82), (8.0, 0.64, 0.44, 0.54, 0.54), (9.0, 0.65, 0.3, 0.71, 0.55), (10.0, 0.45, 0.86, 0.0, 0.73), (11.0, 0.61, 0.54, 0.38, 0.49), (12.0, 0.74, 0.25, 0.8, 0.49), (13.0, 0.48, 0.97, 0.0, 0.91), (14.0, 0.69, 0.49, 0.56, 0.61), (15.0, 0.87, 0.03, 1.0, 0.61), (16.0, 0.44, 0.95, 0.0, 0.9), (17.0, 0.68, 0.4, 0.65, 0.6), (18.0, 0.76, 0.06, 1.0, 0.6), (19.0, 0.35, 0.91, 0.0, 0.98), (20.0, 0.64, 0.22, 0.81, 0.65), (21.0, 0.83, 0.25, 0.8, 0.65), (22.0, 0.32, 0.83, 0.0, 0.94), (23.0, 0.59, 0.24, 0.7, 0.63), (24.0, 0.73, 0.03, 1.0, 0.63), (25.0, 0.34, 1.0, 1.0, 1.0), (26.0, 0.71, 0.25, 0.88, 0.67), (27.0, 0.8, 0.06, 1.0, 0.67)]\n",
      "2: 1.0\n",
      "3: 1.0\n",
      "5: 1.0\n",
      "6: 1.0\n",
      "8: 1.0\n",
      "9: 1.0\n",
      "11: 1.0\n",
      "12: 1.0\n",
      "14: 1.0\n",
      "15: 1.0\n",
      "17: 1.0\n",
      "18: 1.0\n",
      "20: 1.0\n",
      "21: 1.0\n",
      "23: 1.0\n",
      "24: 1.0\n",
      "1: 0.0\n",
      "4: 0.0\n",
      "7: 0.0\n",
      "10: 0.0\n",
      "13: 0.0\n",
      "16: 0.0\n",
      "19: 0.0\n",
      "22: 0.0\n",
      "25: 0.0\n",
      "26: 0.0\n",
      "27: 0.0\n"
     ]
    },
    {
     "data": {
      "text/plain": "<Figure size 1000x1000 with 4 Axes>",
      "image/png": "[encoded data removed]"
     },
     "metadata": {},
     "output_type": "display_data"
    }
   ],
   "source": [
    "variants = read_variants()\n",
    "print(variants)\n",
    "for (id, score) in rank_criteria(variants, criteria):\n",
    "  print(f\"{id}: {score}\")\n",
    "\n",
    "plot_criteria(criteria)"
   ],
   "metadata": {
    "collapsed": false
   }
  },
  {
   "cell_type": "markdown",
   "source": [
    "### Ocena spójności otrzymanego rankingu z informacją preferencyjną dla kilku wybranych niereferencyjnych"
   ],
   "metadata": {
    "collapsed": false
   }
  },
  {
   "cell_type": "markdown",
   "source": [
    "## Zadanie 2 — UTA GMS — Analiza koniecznych relacji"
   ],
   "metadata": {
    "collapsed": false
   }
  },
  {
   "cell_type": "markdown",
   "source": [
    "## Zadanie 3 — Konstrukcja reprezentatywnej funkcji użyteczności"
   ],
   "metadata": {
    "collapsed": false
   }
  }
 ],
 "metadata": {
  "kernelspec": {
   "display_name": "Python 3",
   "language": "python",
   "name": "python3"
  },
  "language_info": {
   "codemirror_mode": {
    "name": "ipython",
    "version": 2
   },
   "file_extension": ".py",
   "mimetype": "text/x-python",
   "name": "python",
   "nbconvert_exporter": "python",
   "pygments_lexer": "ipython2",
   "version": "2.7.6"
  }
 },
 "nbformat": 4,
 "nbformat_minor": 0
}
