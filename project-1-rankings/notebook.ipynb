{
 "cells": [
  {
   "cell_type": "markdown",
   "source": [
    "# Projekt 1 - Ranking scenariuszy zarządzania odpadami radioaktywnymi\n",
    "## Autorzy\n",
    "- Daniel Zdancewicz [145317]\n",
    "- Alex Terentowicz [145419]\n",
    "\n",
    "## Opis\n",
    "\n",
    "Zadaniem projektu jest stworzenie rankingu różnych scenariuszy zarządzania odpadami radioaktywnymi\n",
    "z wykorzystaniem odpornej regresji porządkowej. Będziemy bazować na zbiorze danych opisanym w pracy\n",
    "[Nuclear waste management: an application of the multicriteria PROMETHEE methods](./paper.pdf)\n",
    "\n",
    "Wyobraźmy sobie, że jesteśmy instytucją zajmującą się utylizacją odpadów radioaktywnych. Naszym\n",
    "zadaniem jest zaproponowanie modelu utylizacji takich odpadów dla 30-letniego programu nuklearnego.\n",
    "Wybrano 3 miejsca na potencjalne składowisko, 3 scenariusze czasowe oraz 3 modele finansowania. Ze\n",
    "względu na to, że ostatecznie klient może się nie zgodzić na optymalną dla nas strategię, dlatego chcielibyśmy uzyskać pełne rankingi wszystkich opcji. Zespół ekspertów ocenił wszystkie możliwe scenariusze przez nas rozważane (dane znajdują się w pliku [Nuclear waste management.csv](./resources/nuclear-waste.csv))\n",
    "\n",
    "## Informacja preferencyjna\n",
    "\n",
    "Wybrane i oceniane pary wariantów znajdują się w pliku [preferential-information.csv](./resources/preferential-information.csv).\n",
    "Grupy, do których należą autorzy to 1 i 4, które definiują preferencję.\n",
    "\n",
    "Rozważane preferencje:\n",
    "- Wydajność produkcji elektrycznej wzrośnie.\n",
    "- Ostrożny inwestor, który nie chce ryzykować.\n"
   ],
   "metadata": {
    "collapsed": false
   }
  },
  {
   "cell_type": "markdown",
   "source": [
    "## Zadanie 1 — UTA — Ocena wariantów\n",
    "### Informacja o informacji preferencyjnej.\n",
    "Preferencje zostały na podstawie przynależności do grupy 1 i 4.\n",
    "Te grupy definiują preferencję:\n",
    "- Wydajność produkcji elektrycznej wzrośnie.\n",
    "- Ostrożny inwestor, który nie chce ryzykować.\n",
    "\n",
    "W zadaniu były dostępne 4 kryteria oceny (wszystkie są typu koszt):\n",
    "- C1 — Finansowe koszty całkowite (The total financial cost)\n",
    "- C2 — Koszty finansowe przez aktualnego konsumenta (The financial cost incurred by the current consumer)\n",
    "- C3 — Koszty wspierane przez przyszłego konsumenta (The financial cost supported by the future consumer)\n",
    "- C4 — Ryzyko kosztów finansowych (Financial risk due to overcosts)\n",
    "\n",
    "Co zostało zinterpretowane jako minimalizacja kryterium 4 i przyzwolenie na zaniedbania kryterium 3.\n",
    "Minimalizacja czwartego kryterium (C4: ryzyko kosztów finansowych) jest zgodna z preferencją ostrożnego inwestora, który nie pragnie podejmować nadmiernego ryzyka. Tymczasem zaniedbywanie trzeciego kryterium (C3: koszty wspierane przez przyszłych konsumentów) sugeruje pomijanie kosztów przyszłościowych z racji optymistycznej prognozy wzrostu wydajności w produkcji energii elektrycznej. W rezultacie modelowanie ważności kryteriów można przedstawić jako C4 >= C1 ~ C2 >= C3.\n",
    "\n",
    "Tę hierarchię można zinterpretować następująco: pierwszym priorytetem jest minimalizacja ryzyka kosztów finansowych, aby zaspokoić potrzeby ostrożnego inwestora. Drugą preferencją są koszty całkowite, które są równoważne z trzecim priorytetem, czyli kosztami ponoszonymi przez obecnych konsumentów. W końcu najmniej ważne są koszty wspierane przez przyszłych konsumentów, ze względu na optymistyczne prognozy wzrostu wydajności w sektorze produkcji energii elektrycznej."
   ],
   "metadata": {
    "collapsed": false
   }
  },
  {
   "cell_type": "markdown",
   "source": [
    "### Ocena wybranych par wariantów"
   ],
   "metadata": {
    "collapsed": false
   }
  },
  {
   "cell_type": "markdown",
   "source": [
    "### Problem programowania matematycznego liniowego"
   ],
   "metadata": {
    "collapsed": false
   }
  },
  {
   "cell_type": "markdown",
   "source": [
    "### Ranking wariantów przy użyciu metody UTA"
   ],
   "metadata": {
    "collapsed": false
   }
  },
  {
   "cell_type": "markdown",
   "source": [
    "### Ocena spójności otrzymanego rankingu z informacją preferencyjną dla kilku wybranych niereferencyjnych"
   ],
   "metadata": {
    "collapsed": false
   }
  },
  {
   "cell_type": "markdown",
   "source": [
    "## Zadanie 2 — UTA GMS — Analiza koniecznych relacji"
   ],
   "metadata": {
    "collapsed": false
   }
  },
  {
   "cell_type": "markdown",
   "source": [
    "## Zadanie 3 — Konstrukcja reprezentatywnej funkcji użyteczności"
   ],
   "metadata": {
    "collapsed": false
   }
  }
 ],
 "metadata": {
  "kernelspec": {
   "display_name": "Python 3",
   "language": "python",
   "name": "python3"
  },
  "language_info": {
   "codemirror_mode": {
    "name": "ipython",
    "version": 2
   },
   "file_extension": ".py",
   "mimetype": "text/x-python",
   "name": "python",
   "nbconvert_exporter": "python",
   "pygments_lexer": "ipython2",
   "version": "2.7.6"
  }
 },
 "nbformat": 4,
 "nbformat_minor": 0
}
