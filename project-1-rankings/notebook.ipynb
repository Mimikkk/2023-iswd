{
 "cells": [
  {
   "cell_type": "markdown",
   "source": [
    "# Projekt 1 - Ranking scenariuszy zarządzania odpadami radioaktywnymi\n",
    "## Autorzy\n",
    "- Daniel Zdancewicz [145317]\n",
    "- Alex Terentowicz [145419]\n",
    "\n",
    "## Opis\n",
    "Zadaniem projektu jest stworzenie rankingu różnych scenariuszy zarządzania odpadami radioaktywnymi\n",
    "z wykorzystaniem odpornej regresji porządkowej. Będziemy bazować na zbiorze danych opisanym w pracy\n",
    "[Nuclear waste management: an application of the multicriteria PROMETHEE methods](./paper.pdf)\n",
    "\n",
    "Wyobraźmy sobie, że jesteśmy instytucją zajmującą się utylizacją odpadów radioaktywnych. Naszym\n",
    "zadaniem jest zaproponowanie modelu utylizacji takich odpadów dla 30-letniego programu nuklearnego.\n",
    "Wybrano 3 miejsca na potencjalne składowisko, 3 scenariusze czasowe oraz 3 modele finansowania. Ze\n",
    "względu na to, że ostatecznie klient może się nie zgodzić na optymalną dla nas strategię, dlatego chcielibyśmy uzyskać pełne rankingi wszystkich opcji. Zespół ekspertów ocenił wszystkie możliwe scenariusze przez nas rozważane (dane znajdują się w pliku [Nuclear waste management.csv](./resources/nuclear-waste.csv))\n",
    "\n",
    "## Informacja preferencyjna\n",
    "\n",
    "Wybrane i oceniane pary wariantów znajdują się w pliku [preferential-information.csv](./resources/preferential-information.csv).\n",
    "Grupy, do których należą autorzy to 1 i 4, które definiują preferencję.\n",
    "\n",
    "Rozważane preferencje:\n",
    "- Wydajność produkcji elektrycznej wzrośnie.\n",
    "- Ostrożny inwestor, który nie chce ryzykować.\n"
   ],
   "metadata": {
    "collapsed": false
   }
  },
  {
   "cell_type": "markdown",
   "source": [
    "## Zadanie 1 — UTA — Ocena wariantów\n",
    "### Informacja o informacji preferencyjnej.\n",
    "Preferencje zostały na podstawie przynależności do grupy 1 i 4.\n",
    "Te grupy definiują preferencję:\n",
    "- Wydajność produkcji elektrycznej wzrośnie.\n",
    "- Ostrożny inwestor, który nie chce ryzykować.\n",
    "\n",
    "W zadaniu były dostępne 4 kryteria oceny (wszystkie są typu koszt):\n",
    "- C1 — Finansowe koszty całkowite (The total financial cost)\n",
    "- C2 — Koszty finansowe przez aktualnego konsumenta (The financial cost incurred by the current consumer)\n",
    "- C3 — Koszty wspierane przez przyszłego konsumenta (The financial cost supported by the future consumer)\n",
    "- C4 — Ryzyko kosztów finansowych (Financial risk due to overcosts)\n",
    "\n",
    "Co zostało zinterpretowane jako minimalizacja kryterium 4 i przyzwolenie na zaniedbania kryterium 3.\n",
    "Minimalizacja czwartego kryterium (C4: ryzyko kosztów finansowych) jest zgodna z preferencją ostrożnego inwestora, który nie pragnie podejmować nadmiernego ryzyka. Tymczasem zaniedbywanie trzeciego kryterium (C3: koszty wspierane przez przyszłych konsumentów) sugeruje pomijanie kosztów przyszłościowych z racji optymistycznej prognozy wzrostu wydajności w produkcji energii elektrycznej. W rezultacie modelowanie ważności kryteriów można przedstawić jako C4 >= C1 ~ C2 >= C3.\n",
    "\n",
    "Tę hierarchię można zinterpretować następująco: pierwszym priorytetem jest minimalizacja ryzyka kosztów finansowych, aby zaspokoić potrzeby ostrożnego inwestora. Drugą preferencją są koszty całkowite, które są równoważne z trzecim priorytetem, czyli kosztami ponoszonymi przez obecnych konsumentów. W końcu najmniej ważne są koszty wspierane przez przyszłych konsumentów, ze względu na optymistyczne prognozy wzrostu wydajności w sektorze produkcji energii elektrycznej."
   ],
   "metadata": {
    "collapsed": false
   }
  },
  {
   "cell_type": "markdown",
   "source": [
    "### Ocena wybranych par wariantów\n",
    "Przedstawione niżej 5 par wariantów wchodzące do porównań zostały wybrane na podstawie informacji preferencyjnej (5,12,33) oraz predefiniowane (24,25) według indeksów autorów.\n",
    "\n",
    "| Para | Indeks | C1   | C2   | C3   | C4   |\n",
    "|:----:|:------:|------|------|------|------|\n",
    "| 05-1 |   15   | 0.87 | 0.03 | 1.00 | 0.61 |\n",
    "| 05-2 |   26   | 0.71 | 0.25 | 0.88 | 0.67 |\n",
    "| 12-1 |   01   | 0.60 | 0.93 | 0.00 | 0.73 |\n",
    "| 12-2 |   05   | 0.62 | 0.40 | 0.56 | 0.50 |\n",
    "| 24-1 |   06   | 0.78 | 0.27 | 0.71 | 0.50 |\n",
    "| 24-2 |   08   | 0.64 | 0.44 | 0.54 | 0.54 |\n",
    "| 25-1 |   07   | 0.40 | 0.90 | 0.00 | 0.82 |\n",
    "| 25-2 |   21   | 0.83 | 0.25 | 0.80 | 0.65 |\n",
    "| 33-1 |   03   | 1.00 | 0.45 | 0.57 | 0.50 |\n",
    "| 33-2 |   27   | 0.80 | 0.06 | 1.00 | 0.67 |\n",
    "\n",
    "**Ocena par wariantów**:\n",
    "Na podstawie przeprowadzoną analizę, najkorzystniejszymi opcją okazały się warianty 05, 08, 06, 03 z uwzględnieniem niższych kosztów finansowych w przypadku indeksu 08 w porównaniu do indeksów 06 i 03. Kolejno, preferowane są indeksy 06, a następnie 03, 15 i 21. Warianty o indeksach 27 i 26 wykazują zbliżone do siebie charakterystyki, za to na końcu rankingu umieszczono indeksy 01 oraz 07. Wyodrębnienie takiego układu hierarchii preferencyjnej opiera się głównie na dążeniu do minimalizacji ryzyka oraz ograniczenia kosztów finansowych bez silnego uwzględniania kosztów przyszłych.\n",
    "\n",
    "**Ostateczny ranking preferencyjny**:\n",
    "05 > 08 > 06 > 03 > 15 > 21 = 27 = 26 > 01 > 07"
   ],
   "metadata": {
    "collapsed": false
   }
  },
  {
   "cell_type": "markdown",
   "source": [
    "### Problem programowania matematycznego liniowego"
   ],
   "metadata": {
    "collapsed": false
   }
  },
  {
   "cell_type": "markdown",
   "source": [
    "### Opis\n",
    "Do odnalezienia rankingu został zdefiniowany problem programowania matematycznego polegający na rozwiązaniu problemu regresji porządkowej.\n",
    "\n",
    "Problem regresji porządkowej poszukuje takiej funkcji, która umożliwia na odczytanie wartości całkowitej, dla każdego z wariantów.\n",
    "\n",
    "Sformułowanie problemu matematycznego uwzględnia trzy typy ograniczeń:\n",
    "- Odtworzenie rankingu referencyjnego, poprzez przemianowanie na sumę użyteczności cząstkowych odpowiadającym wariantom.\n",
    "- Monotoniczność wartości ( w przypadku naszych kosztów jest to funkcja nierosnąca).\n",
    "- Normalizacja wartości do przedziału [0,1]."
   ],
   "metadata": {
    "collapsed": false
   }
  },
  {
   "cell_type": "code",
   "execution_count": 153,
   "outputs": [],
   "source": [
    "from pulp import *\n",
    "from itertools import pairwise\n",
    "import numpy as np\n",
    "from matplotlib import pyplot as plt\n",
    "import pandas as pd\n",
    "\n",
    "def flatten(it):\n",
    "  yield from (element for iterable in it for element in iterable)\n",
    "\n",
    "def exhaust(it): return list(it)\n",
    "\n",
    "\n",
    "def accessor(value: float) -> int:\n",
    "  if isinstance(value, pd.Series):\n",
    "    return (value * 100).astype(np.uint8)\n",
    "  return int(value * 100)"
   ],
   "metadata": {
    "collapsed": false
   }
  },
  {
   "cell_type": "code",
   "execution_count": 159,
   "outputs": [],
   "source": [
    "def read_variants() -> pd.DataFrame:\n",
    "  return pd.read_csv(\"resources/nuclear-waste.csv\", index_col=0)\n",
    "\n",
    "def variant_constraint(utilities, variants, va, vb, epsilon = None):\n",
    "  (a1, a2, a3, a4) = accessor(variants.loc[va])\n",
    "  (b1, b2, b3, b4) = accessor(variants.loc[vb])\n",
    "  (u1, u2, u3, u4) = utilities\n",
    "\n",
    "  if epsilon is None:\n",
    "    return (u1[a1] + u2[a2] + u3[a3] + u4[a4] ==\n",
    "            u1[b1] + u2[b2] + u3[b3] + u4[b4])\n",
    "  return (u1[a1] + u2[a2] + u3[a3] + u4[a4] >=\n",
    "          u1[b1] + u2[b2] + u3[b3] + u4[b4] + epsilon)\n",
    "\n",
    "def find_extremes(variants):\n",
    "  return [\n",
    "    accessor(variants[criterion].max())\n",
    "    for criterion in variants\n",
    "  ], [\n",
    "    accessor(variants[criterion].min())\n",
    "    for criterion in variants\n",
    "  ]\n"
   ],
   "metadata": {
    "collapsed": false
   }
  },
  {
   "cell_type": "code",
   "execution_count": 171,
   "outputs": [
    {
     "name": "stdout",
     "output_type": "stream",
     "text": [
      "status: 1, Optimal\n",
      "Objective: 0.11111111\n"
     ]
    }
   ],
   "source": [
    "variants = read_variants()\n",
    "\n",
    "\n",
    "epsilon = LpVariable(f\"e\", lowBound=0, cat=LpContinuous)\n",
    "utilities = [[\n",
    "  LpVariable(f\"u{criterion}_{i:03d}\", lowBound=0, upBound=1, cat=LpContinuous)\n",
    "  for i in range(0, 100 + 1)\n",
    "] for criterion in range(4)]\n",
    "\n",
    "def create_ordinal_problem(variants):\n",
    "  model = LpProblem(\"ordinal-regression\", LpMaximize)\n",
    "\n",
    "  # 05 > 08 > 06 > 03 > 15 > 21 = 27 = 26 > 01 > 07\n",
    "  references = [\n",
    "    (5, 8, epsilon),\n",
    "    (8, 6, epsilon),\n",
    "    (6, 3, epsilon),\n",
    "    (3, 15, epsilon),\n",
    "    (15, 21, epsilon),\n",
    "    (21, 27),\n",
    "    (27, 26),\n",
    "    (26, 1, epsilon),\n",
    "    (1, 7, epsilon)\n",
    "  ]\n",
    "  # Odtworzenie rankingu referencyjnego\n",
    "  for reference in references:\n",
    "    model.add(variant_constraint(utilities, variants, *reference))\n",
    "\n",
    "  # Warunek normalizacji — Typ koszt\n",
    "  (worsts, bests) = find_extremes(variants)\n",
    "  for (i, worst) in enumerate(worsts):\n",
    "    model.add(utilities[i][worst] == 0)\n",
    "\n",
    "  model.add(\n",
    "    sum(utilities[i][best] for (i, best) in enumerate(bests))\n",
    "    == 1\n",
    "  )\n",
    "\n",
    "  # Warunek monotoniczności — Typ koszt\n",
    "  for (criterion, values) in enumerate([\n",
    "    sorted(set(accessor(variants[criterion])))\n",
    "    for criterion in variants\n",
    "  ]):\n",
    "    for value in values:\n",
    "      model.add(utilities[criterion][value] >= 0)\n",
    "\n",
    "    for (v1, v2) in pairwise(values):\n",
    "      model.add(utilities[criterion][v1] >= utilities[criterion][v2])\n",
    "  return model\n",
    "\n",
    "# Funkcja celu\n",
    "model = create_ordinal_problem(variants)\n",
    "model.setObjective(model.variablesDict()['e'])\n",
    "model.solve()\n",
    "\n",
    "print(f'status: {model.status}, {LpStatus[model.status]}')\n",
    "print(f\"Objective: {model.objective.value()}\")\n"
   ],
   "metadata": {
    "collapsed": false
   }
  },
  {
   "cell_type": "markdown",
   "source": [
    "### Ranking wariantów przy użyciu metody UTA"
   ],
   "metadata": {
    "collapsed": false
   }
  },
  {
   "cell_type": "code",
   "execution_count": 172,
   "outputs": [
    {
     "data": {
      "text/plain": "<Figure size 640x480 with 4 Axes>",
      "image/png": "[encoded data removed]"
     },
     "metadata": {},
     "output_type": "display_data"
    }
   ],
   "source": [
    "figure, axes = plt.subplots(2, 2)\n",
    "figure.tight_layout(pad=1.5)\n",
    "\n",
    "for (crit, criterion) in enumerate(variants):\n",
    "  axis = axes[divmod(crit, 2)]\n",
    "  a_values = sorted(set(accessor(variants[criterion])))\n",
    "  u_values = [round(value.value(), 3) for i, value in enumerate(utilities[crit]) if i in a_values]\n",
    "\n",
    "  axis.plot([value / 100 for value in a_values], u_values)\n",
    "  axis.set_title(criterion)\n",
    "\n",
    "plt.show()"
   ],
   "metadata": {
    "collapsed": false
   }
  },
  {
   "cell_type": "markdown",
   "source": [
    "### Ocena spójności otrzymanego rankingu z informacją preferencyjną dla kilku wybranych niereferencyjnych"
   ],
   "metadata": {
    "collapsed": false
   }
  },
  {
   "cell_type": "code",
   "execution_count": 176,
   "outputs": [
    {
     "name": "stderr",
     "output_type": "stream",
     "text": [
      "C:\\Users\\HououinKyouma\\AppData\\Local\\Temp\\ipykernel_16920\\1354922044.py:11: SettingWithCopyWarning: \n",
      "A value is trying to be set on a copy of a slice from a DataFrame\n",
      "\n",
      "See the caveats in the documentation: https://pandas.pydata.org/pandas-docs/stable/user_guide/indexing.html#returning-a-view-versus-a-copy\n",
      "  ranking[f\"U({criterion})\"][variant] += round(utilities[crit][u_arg].value(), 10)\n",
      "C:\\Users\\HououinKyouma\\AppData\\Local\\Temp\\ipykernel_16920\\1354922044.py:14: SettingWithCopyWarning: \n",
      "A value is trying to be set on a copy of a slice from a DataFrame\n",
      "\n",
      "See the caveats in the documentation: https://pandas.pydata.org/pandas-docs/stable/user_guide/indexing.html#returning-a-view-versus-a-copy\n",
      "  ranking[\"U\"][variant] = np.sum(ranking.loc[variant][5:])\n"
     ]
    },
    {
     "data": {
      "text/plain": "         C1    C2    C3    C4  U(C1)     U(C2)     U(C3)     U(C4)         U\nindex                                                                       \n5      0.62  0.40  0.56  0.50      0  0.333333  0.222222  0.444444  1.000000\n8      0.64  0.44  0.54  0.54      0  0.222222  0.222222  0.444444  0.888889\n6      0.78  0.27  0.71  0.50      0  0.333333  0.000000  0.444444  0.777778\n12     0.74  0.25  0.80  0.49      0  0.333333  0.000000  0.444444  0.777778\n11     0.61  0.54  0.38  0.49      0  0.000000  0.222222  0.444444  0.666667\n3      1.00  0.45  0.57  0.50      0  0.000000  0.222222  0.444444  0.666667\n2      0.66  0.55  0.45  0.49      0  0.000000  0.222222  0.444444  0.666667\n9      0.65  0.30  0.71  0.55      0  0.333333  0.000000  0.222222  0.555556\n15     0.87  0.03  1.00  0.61      0  0.333333  0.000000  0.222222  0.555556\n17     0.68  0.40  0.65  0.60      0  0.333333  0.000000  0.222222  0.555556\n18     0.76  0.06  1.00  0.60      0  0.333333  0.000000  0.222222  0.555556\n23     0.59  0.24  0.70  0.63      0  0.333333  0.000000  0.111111  0.444444\n21     0.83  0.25  0.80  0.65      0  0.333333  0.000000  0.111111  0.444444\n24     0.73  0.03  1.00  0.63      0  0.333333  0.000000  0.111111  0.444444\n26     0.71  0.25  0.88  0.67      0  0.333333  0.000000  0.111111  0.444444\n20     0.64  0.22  0.81  0.65      0  0.333333  0.000000  0.111111  0.444444\n14     0.69  0.49  0.56  0.61      0  0.000000  0.222222  0.222222  0.444444\n27     0.80  0.06  1.00  0.67      0  0.333333  0.000000  0.111111  0.444444\n10     0.45  0.86  0.00  0.73      0  0.000000  0.222222  0.111111  0.333333\n1      0.60  0.93  0.00  0.73      0  0.000000  0.222222  0.111111  0.333333\n19     0.35  0.91  0.00  0.98      0  0.000000  0.222222  0.000000  0.222222\n16     0.44  0.95  0.00  0.90      0  0.000000  0.222222  0.000000  0.222222\n13     0.48  0.97  0.00  0.91      0  0.000000  0.222222  0.000000  0.222222\n22     0.32  0.83  0.00  0.94      0  0.000000  0.222222  0.000000  0.222222\n7      0.40  0.90  0.00  0.82      0  0.000000  0.222222  0.000000  0.222222\n4      0.48  0.87  0.00  0.75      0  0.000000  0.222222  0.000000  0.222222\n25     0.34  1.00  1.00  1.00      0  0.000000  0.000000  0.000000  0.000000",
      "text/html": "<div>\n<style scoped>\n    .dataframe tbody tr th:only-of-type {\n        vertical-align: middle;\n    }\n\n    .dataframe tbody tr th {\n        vertical-align: top;\n    }\n\n    .dataframe thead th {\n        text-align: right;\n    }\n</style>\n<table border=\"1\" class=\"dataframe\">\n  <thead>\n    <tr style=\"text-align: right;\">\n      <th></th>\n      <th>C1</th>\n      <th>C2</th>\n      <th>C3</th>\n      <th>C4</th>\n      <th>U(C1)</th>\n      <th>U(C2)</th>\n      <th>U(C3)</th>\n      <th>U(C4)</th>\n      <th>U</th>\n    </tr>\n    <tr>\n      <th>index</th>\n      <th></th>\n      <th></th>\n      <th></th>\n      <th></th>\n      <th></th>\n      <th></th>\n      <th></th>\n      <th></th>\n      <th></th>\n    </tr>\n  </thead>\n  <tbody>\n    <tr>\n      <th>5</th>\n      <td>0.62</td>\n      <td>0.40</td>\n      <td>0.56</td>\n      <td>0.50</td>\n      <td>0</td>\n      <td>0.333333</td>\n      <td>0.222222</td>\n      <td>0.444444</td>\n      <td>1.000000</td>\n    </tr>\n    <tr>\n      <th>8</th>\n      <td>0.64</td>\n      <td>0.44</td>\n      <td>0.54</td>\n      <td>0.54</td>\n      <td>0</td>\n      <td>0.222222</td>\n      <td>0.222222</td>\n      <td>0.444444</td>\n      <td>0.888889</td>\n    </tr>\n    <tr>\n      <th>6</th>\n      <td>0.78</td>\n      <td>0.27</td>\n      <td>0.71</td>\n      <td>0.50</td>\n      <td>0</td>\n      <td>0.333333</td>\n      <td>0.000000</td>\n      <td>0.444444</td>\n      <td>0.777778</td>\n    </tr>\n    <tr>\n      <th>12</th>\n      <td>0.74</td>\n      <td>0.25</td>\n      <td>0.80</td>\n      <td>0.49</td>\n      <td>0</td>\n      <td>0.333333</td>\n      <td>0.000000</td>\n      <td>0.444444</td>\n      <td>0.777778</td>\n    </tr>\n    <tr>\n      <th>11</th>\n      <td>0.61</td>\n      <td>0.54</td>\n      <td>0.38</td>\n      <td>0.49</td>\n      <td>0</td>\n      <td>0.000000</td>\n      <td>0.222222</td>\n      <td>0.444444</td>\n      <td>0.666667</td>\n    </tr>\n    <tr>\n      <th>3</th>\n      <td>1.00</td>\n      <td>0.45</td>\n      <td>0.57</td>\n      <td>0.50</td>\n      <td>0</td>\n      <td>0.000000</td>\n      <td>0.222222</td>\n      <td>0.444444</td>\n      <td>0.666667</td>\n    </tr>\n    <tr>\n      <th>2</th>\n      <td>0.66</td>\n      <td>0.55</td>\n      <td>0.45</td>\n      <td>0.49</td>\n      <td>0</td>\n      <td>0.000000</td>\n      <td>0.222222</td>\n      <td>0.444444</td>\n      <td>0.666667</td>\n    </tr>\n    <tr>\n      <th>9</th>\n      <td>0.65</td>\n      <td>0.30</td>\n      <td>0.71</td>\n      <td>0.55</td>\n      <td>0</td>\n      <td>0.333333</td>\n      <td>0.000000</td>\n      <td>0.222222</td>\n      <td>0.555556</td>\n    </tr>\n    <tr>\n      <th>15</th>\n      <td>0.87</td>\n      <td>0.03</td>\n      <td>1.00</td>\n      <td>0.61</td>\n      <td>0</td>\n      <td>0.333333</td>\n      <td>0.000000</td>\n      <td>0.222222</td>\n      <td>0.555556</td>\n    </tr>\n    <tr>\n      <th>17</th>\n      <td>0.68</td>\n      <td>0.40</td>\n      <td>0.65</td>\n      <td>0.60</td>\n      <td>0</td>\n      <td>0.333333</td>\n      <td>0.000000</td>\n      <td>0.222222</td>\n      <td>0.555556</td>\n    </tr>\n    <tr>\n      <th>18</th>\n      <td>0.76</td>\n      <td>0.06</td>\n      <td>1.00</td>\n      <td>0.60</td>\n      <td>0</td>\n      <td>0.333333</td>\n      <td>0.000000</td>\n      <td>0.222222</td>\n      <td>0.555556</td>\n    </tr>\n    <tr>\n      <th>23</th>\n      <td>0.59</td>\n      <td>0.24</td>\n      <td>0.70</td>\n      <td>0.63</td>\n      <td>0</td>\n      <td>0.333333</td>\n      <td>0.000000</td>\n      <td>0.111111</td>\n      <td>0.444444</td>\n    </tr>\n    <tr>\n      <th>21</th>\n      <td>0.83</td>\n      <td>0.25</td>\n      <td>0.80</td>\n      <td>0.65</td>\n      <td>0</td>\n      <td>0.333333</td>\n      <td>0.000000</td>\n      <td>0.111111</td>\n      <td>0.444444</td>\n    </tr>\n    <tr>\n      <th>24</th>\n      <td>0.73</td>\n      <td>0.03</td>\n      <td>1.00</td>\n      <td>0.63</td>\n      <td>0</td>\n      <td>0.333333</td>\n      <td>0.000000</td>\n      <td>0.111111</td>\n      <td>0.444444</td>\n    </tr>\n    <tr>\n      <th>26</th>\n      <td>0.71</td>\n      <td>0.25</td>\n      <td>0.88</td>\n      <td>0.67</td>\n      <td>0</td>\n      <td>0.333333</td>\n      <td>0.000000</td>\n      <td>0.111111</td>\n      <td>0.444444</td>\n    </tr>\n    <tr>\n      <th>20</th>\n      <td>0.64</td>\n      <td>0.22</td>\n      <td>0.81</td>\n      <td>0.65</td>\n      <td>0</td>\n      <td>0.333333</td>\n      <td>0.000000</td>\n      <td>0.111111</td>\n      <td>0.444444</td>\n    </tr>\n    <tr>\n      <th>14</th>\n      <td>0.69</td>\n      <td>0.49</td>\n      <td>0.56</td>\n      <td>0.61</td>\n      <td>0</td>\n      <td>0.000000</td>\n      <td>0.222222</td>\n      <td>0.222222</td>\n      <td>0.444444</td>\n    </tr>\n    <tr>\n      <th>27</th>\n      <td>0.80</td>\n      <td>0.06</td>\n      <td>1.00</td>\n      <td>0.67</td>\n      <td>0</td>\n      <td>0.333333</td>\n      <td>0.000000</td>\n      <td>0.111111</td>\n      <td>0.444444</td>\n    </tr>\n    <tr>\n      <th>10</th>\n      <td>0.45</td>\n      <td>0.86</td>\n      <td>0.00</td>\n      <td>0.73</td>\n      <td>0</td>\n      <td>0.000000</td>\n      <td>0.222222</td>\n      <td>0.111111</td>\n      <td>0.333333</td>\n    </tr>\n    <tr>\n      <th>1</th>\n      <td>0.60</td>\n      <td>0.93</td>\n      <td>0.00</td>\n      <td>0.73</td>\n      <td>0</td>\n      <td>0.000000</td>\n      <td>0.222222</td>\n      <td>0.111111</td>\n      <td>0.333333</td>\n    </tr>\n    <tr>\n      <th>19</th>\n      <td>0.35</td>\n      <td>0.91</td>\n      <td>0.00</td>\n      <td>0.98</td>\n      <td>0</td>\n      <td>0.000000</td>\n      <td>0.222222</td>\n      <td>0.000000</td>\n      <td>0.222222</td>\n    </tr>\n    <tr>\n      <th>16</th>\n      <td>0.44</td>\n      <td>0.95</td>\n      <td>0.00</td>\n      <td>0.90</td>\n      <td>0</td>\n      <td>0.000000</td>\n      <td>0.222222</td>\n      <td>0.000000</td>\n      <td>0.222222</td>\n    </tr>\n    <tr>\n      <th>13</th>\n      <td>0.48</td>\n      <td>0.97</td>\n      <td>0.00</td>\n      <td>0.91</td>\n      <td>0</td>\n      <td>0.000000</td>\n      <td>0.222222</td>\n      <td>0.000000</td>\n      <td>0.222222</td>\n    </tr>\n    <tr>\n      <th>22</th>\n      <td>0.32</td>\n      <td>0.83</td>\n      <td>0.00</td>\n      <td>0.94</td>\n      <td>0</td>\n      <td>0.000000</td>\n      <td>0.222222</td>\n      <td>0.000000</td>\n      <td>0.222222</td>\n    </tr>\n    <tr>\n      <th>7</th>\n      <td>0.40</td>\n      <td>0.90</td>\n      <td>0.00</td>\n      <td>0.82</td>\n      <td>0</td>\n      <td>0.000000</td>\n      <td>0.222222</td>\n      <td>0.000000</td>\n      <td>0.222222</td>\n    </tr>\n    <tr>\n      <th>4</th>\n      <td>0.48</td>\n      <td>0.87</td>\n      <td>0.00</td>\n      <td>0.75</td>\n      <td>0</td>\n      <td>0.000000</td>\n      <td>0.222222</td>\n      <td>0.000000</td>\n      <td>0.222222</td>\n    </tr>\n    <tr>\n      <th>25</th>\n      <td>0.34</td>\n      <td>1.00</td>\n      <td>1.00</td>\n      <td>1.00</td>\n      <td>0</td>\n      <td>0.000000</td>\n      <td>0.000000</td>\n      <td>0.000000</td>\n      <td>0.000000</td>\n    </tr>\n  </tbody>\n</table>\n</div>"
     },
     "execution_count": 176,
     "metadata": {},
     "output_type": "execute_result"
    }
   ],
   "source": [
    "from copy import deepcopy\n",
    "ranking = pd.DataFrame(deepcopy(variants))\n",
    "\n",
    "for (crit, criterion) in enumerate(ranking):\n",
    "  ranking[f\"U({criterion})\"] = [0 for _ in range(len(variants))]\n",
    "ranking[\"U\"] = [0 for _ in range(len(variants))]\n",
    "\n",
    "for (crit, criterion) in enumerate(variants):\n",
    "  for variant in variants.index:\n",
    "    u_arg = accessor(variants[criterion][variant])\n",
    "    ranking[f\"U({criterion})\"][variant] += round(utilities[crit][u_arg].value(), 10)\n",
    "\n",
    "for variant in variants.index:\n",
    "  ranking[\"U\"][variant] = np.sum(ranking.loc[variant][5:])\n",
    "\n",
    "ranking.sort_values('U', ascending=False)"
   ],
   "metadata": {
    "collapsed": false
   }
  },
  {
   "cell_type": "markdown",
   "source": [],
   "metadata": {
    "collapsed": false
   }
  },
  {
   "cell_type": "markdown",
   "source": [
    "Ranking preferencyjny został prawie w pełni odwzorowany. Jedyna różnica to, że wariant 26 jest przed wariantem 27. Również wyniki są w przedziale [0,1].\n",
    "\n",
    "Najlepszą strategią okazuje się wariant 5, a najgorszą 25.\n",
    "Wariant najlepszy ma wagi [0,0.3(3),0.2(2),0.4(4)].\n",
    "Wariant najgorszy ma wagi [0,0,0,0].\n"
   ],
   "metadata": {
    "collapsed": false
   }
  },
  {
   "cell_type": "markdown",
   "source": [
    "## Zadanie 2 — UTA GMS — Analiza koniecznych relacji"
   ],
   "metadata": {
    "collapsed": false
   }
  },
  {
   "cell_type": "markdown",
   "source": [
    "## Zadanie 3 — Konstrukcja reprezentatywnej funkcji użyteczności"
   ],
   "metadata": {
    "collapsed": false
   }
  }
 ],
 "metadata": {
  "kernelspec": {
   "display_name": "Python 3",
   "language": "python",
   "name": "python3"
  },
  "language_info": {
   "codemirror_mode": {
    "name": "ipython",
    "version": 2
   },
   "file_extension": ".py",
   "mimetype": "text/x-python",
   "name": "python",
   "nbconvert_exporter": "python",
   "pygments_lexer": "ipython2",
   "version": "2.7.6"
  }
 },
 "nbformat": 4,
 "nbformat_minor": 0
}
