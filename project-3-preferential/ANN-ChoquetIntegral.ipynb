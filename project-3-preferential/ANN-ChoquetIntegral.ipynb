{
 "cells": [
  {
   "cell_type": "code",
   "execution_count": 50,
   "metadata": {
    "ExecuteTime": {
     "end_time": "2023-05-21T15:20:04.987720848Z",
     "start_time": "2023-05-21T15:20:04.935747039Z"
    }
   },
   "outputs": [],
   "source": [
    "import numpy as np\n",
    "import torch\n",
    "import torch.nn as nn\n",
    "import torch.nn.functional as F\n",
    "import pandas as pd\n",
    "from sklearn.model_selection import train_test_split\n",
    "from sklearn.preprocessing import LabelEncoder\n",
    "\n",
    "from helpers import *"
   ]
  },
  {
   "cell_type": "code",
   "execution_count": 29,
   "metadata": {
    "ExecuteTime": {
     "end_time": "2023-05-21T15:08:50.902879217Z",
     "start_time": "2023-05-21T15:08:50.879536060Z"
    }
   },
   "outputs": [],
   "source": [
    "class LinearGreaterThanZero(nn.Linear):\n",
    "  def __init__(self, in_features, bias=False, min_w=0.0000001):\n",
    "    super().__init__(in_features, 1, bias)\n",
    "    self.is_bias = bias\n",
    "    self.min_w = min_w\n",
    "    if bias:\n",
    "      nn.init.uniform_(self.bias, self.min_w, 1.0)\n",
    "    else:\n",
    "      self.bias = None\n",
    "\n",
    "  def reset_parameters(self):\n",
    "    nn.init.uniform_(self.weight, 0.1, 1.0)\n",
    "\n",
    "  def w(self):\n",
    "    with torch.no_grad():\n",
    "      self.weight.data[self.weight.data < 0] = self.min_w\n",
    "    return self.weight\n",
    "\n",
    "  def forward(self, input):\n",
    "    return F.linear(input, self.w(), self.bias)"
   ]
  },
  {
   "cell_type": "code",
   "execution_count": 30,
   "metadata": {
    "ExecuteTime": {
     "end_time": "2023-05-21T15:08:50.903068772Z",
     "start_time": "2023-05-21T15:08:50.881121048Z"
    }
   },
   "outputs": [],
   "source": [
    "class LinearInteraction(nn.Linear):\n",
    "  def __init__(self, in_features, criterion_layer):\n",
    "    super().__init__(((in_features - 1) * in_features) // 2, 1, False)\n",
    "    self.in_features = in_features\n",
    "    self.criterion_layer = criterion_layer\n",
    "\n",
    "  def reset_parameters(self):\n",
    "    nn.init.normal_(self.weight, 0.0, 0.1)\n",
    "\n",
    "  def w(self):\n",
    "    with torch.no_grad():\n",
    "      w_i = 0\n",
    "      w = self.criterion_layer.w()\n",
    "      for i in range(self.in_features):\n",
    "        for j in range(i + 1, self.in_features):\n",
    "          self.weight.data[:, w_i] = torch.max(\n",
    "            self.weight.data[:, w_i], -w[:, i]\n",
    "          )\n",
    "          self.weight.data[:, w_i] = torch.max(\n",
    "            self.weight.data[:, w_i], -w[:, j]\n",
    "          )\n",
    "          w_i += 1\n",
    "    return self.weight\n",
    "\n",
    "  def forward(self, input):\n",
    "    return F.linear(input, self.w(), None)"
   ]
  },
  {
   "cell_type": "code",
   "execution_count": 31,
   "metadata": {
    "ExecuteTime": {
     "end_time": "2023-05-21T15:08:50.903211122Z",
     "start_time": "2023-05-21T15:08:50.887826147Z"
    }
   },
   "outputs": [],
   "source": [
    "class ThresholdLayer(nn.Module):\n",
    "  def __init__(self, threshold=None, requires_grad=True):\n",
    "    super().__init__()\n",
    "    if threshold is None:\n",
    "      self.threshold = nn.Parameter(\n",
    "        torch.FloatTensor(1).uniform_(0.1, 0.5), requires_grad=requires_grad\n",
    "      )\n",
    "    else:\n",
    "      self.threshold = nn.Parameter(\n",
    "        torch.FloatTensor([threshold]), requires_grad=requires_grad\n",
    "      )\n",
    "\n",
    "  def forward(self, x):\n",
    "    return x - self.threshold"
   ]
  },
  {
   "cell_type": "code",
   "execution_count": 109,
   "metadata": {
    "ExecuteTime": {
     "end_time": "2023-05-21T15:45:10.244242585Z",
     "start_time": "2023-05-21T15:45:10.201712508Z"
    }
   },
   "outputs": [],
   "source": [
    "class ChoquetConstrained(nn.Module):\n",
    "  def __init__(self, criteria_nr):\n",
    "    super().__init__()\n",
    "    self.criteria_nr = criteria_nr\n",
    "    self.criteria_layer = LinearGreaterThanZero(criteria_nr)\n",
    "    self.interaction_layer = LinearInteraction(criteria_nr, self.criteria_layer)\n",
    "    self.threshold_layer = ThresholdLayer()\n",
    "\n",
    "  def forward(self, x):\n",
    "    if len(x.shape) == 3: x = x[:, 0, :]\n",
    "    x_wi = self.criteria_layer(x[:, : self.criteria_nr])\n",
    "    x_wij = self.interaction_layer(x[:, self.criteria_nr:])\n",
    "    weight_sum = self.criteria_layer.w().sum() + self.interaction_layer.w().sum()\n",
    "    score = (x_wi + x_wij) / (weight_sum)\n",
    "    return self.threshold_layer(score)"
   ]
  },
  {
   "cell_type": "code",
   "execution_count": 110,
   "metadata": {
    "ExecuteTime": {
     "end_time": "2023-05-21T15:45:11.464089518Z",
     "start_time": "2023-05-21T15:45:11.453839220Z"
    }
   },
   "outputs": [],
   "source": [
    "def mobious_transform(row):\n",
    "  return list(row) + [\n",
    "    min(row[i], row[j]) for i in range(len(row)) for j in range(i + 1, len(row))\n",
    "  ]"
   ]
  },
  {
   "cell_type": "code",
   "execution_count": 130,
   "metadata": {
    "ExecuteTime": {
     "end_time": "2023-05-21T15:54:55.198017128Z",
     "start_time": "2023-05-21T15:54:55.147457579Z"
    }
   },
   "outputs": [
    {
     "name": "stdout",
     "output_type": "stream",
     "text": [
      "   ApplicantIncome  CoapplicantIncome  LoanAmount  Loan_Amount_Term   \n",
      "1             4583             1508.0       128.0             360.0  \\\n",
      "2             3000                0.0        66.0             360.0   \n",
      "3             2583             2358.0       120.0             360.0   \n",
      "4             6000                0.0       141.0             360.0   \n",
      "5             5417             4196.0       267.0             360.0   \n",
      "\n",
      "  Loan_Status  \n",
      "1           N  \n",
      "2           Y  \n",
      "3           Y  \n",
      "4           Y  \n",
      "5           Y  \n"
     ]
    }
   ],
   "source": [
    "path = \"./src/resources/datasets/loan_sanction_labeled.csv\"\n",
    "dropped_cols = [\n",
    "  \"Loan_ID\",\n",
    "  \"Self_Employed\",\n",
    "  \"Education\",\n",
    "  \"Gender\",\n",
    "  \"Married\",\n",
    "  \"Dependents\",\n",
    "  \"Credit_History\",\n",
    "  \"Property_Area\"\n",
    "]\n",
    "encoded_cols = [\n",
    "]\n",
    "\n",
    "data = pd.read_csv(path)\n",
    "data.drop(dropped_cols, axis=1, inplace=True)\n",
    "data.dropna(inplace=True)\n",
    "data[encoded_cols] = data[encoded_cols].apply(LabelEncoder().fit_transform)\n",
    "\n",
    "target_map = {\"N\": 0, \"Y\": 1}\n",
    "print(data.head())\n",
    "criteria_nr = 4 + len(encoded_cols)\n",
    "data_input = data.iloc[:, :criteria_nr].apply(\n",
    "  lambda x: mobious_transform(x), axis=1, result_type=\"expand\"\n",
    ")\n",
    "data_target = data[\"Loan_Status\"].map(target_map)\n",
    "\n",
    "X_train, X_test, y_train, y_test = train_test_split(\n",
    "  data_input.values, data_target.values, test_size=0.2, random_state=1234\n",
    ")"
   ]
  },
  {
   "cell_type": "code",
   "execution_count": 131,
   "outputs": [
    {
     "data": {
      "text/plain": "array([[ 2083.,  3150.,   128., ...,   128.,   360.,   128.],\n       [ 3588.,     0.,   110., ...,     0.,     0.,   110.],\n       [63337.,     0.,   490., ...,     0.,     0.,   180.],\n       ...,\n       [ 2971.,  2791.,   144., ...,   144.,   360.,   144.],\n       [ 3357.,  2859.,   144., ...,   144.,   360.,   144.],\n       [ 3717.,     0.,   120., ...,     0.,     0.,   120.]])"
     },
     "execution_count": 131,
     "metadata": {},
     "output_type": "execute_result"
    }
   ],
   "source": [
    "X_train"
   ],
   "metadata": {
    "collapsed": false,
    "ExecuteTime": {
     "end_time": "2023-05-21T15:54:55.366266855Z",
     "start_time": "2023-05-21T15:54:55.358794324Z"
    }
   }
  },
  {
   "cell_type": "code",
   "execution_count": 131,
   "outputs": [],
   "source": [],
   "metadata": {
    "collapsed": false,
    "ExecuteTime": {
     "end_time": "2023-05-21T15:54:55.681529047Z",
     "start_time": "2023-05-21T15:54:55.635580637Z"
    }
   }
  },
  {
   "cell_type": "code",
   "execution_count": 132,
   "metadata": {
    "ExecuteTime": {
     "end_time": "2023-05-21T15:54:56.023664712Z",
     "start_time": "2023-05-21T15:54:56.009164345Z"
    }
   },
   "outputs": [],
   "source": [
    "train_dataloader = CreateDataLoader(X_train, y_train)\n",
    "test_dataloader = CreateDataLoader(X_test, y_test)"
   ]
  },
  {
   "cell_type": "code",
   "execution_count": 133,
   "metadata": {
    "ExecuteTime": {
     "end_time": "2023-05-21T15:54:56.487586257Z",
     "start_time": "2023-05-21T15:54:56.472282800Z"
    }
   },
   "outputs": [],
   "source": [
    "PATH = \"choquet.pt\""
   ]
  },
  {
   "cell_type": "code",
   "execution_count": 133,
   "outputs": [],
   "source": [],
   "metadata": {
    "collapsed": false,
    "ExecuteTime": {
     "end_time": "2023-05-21T15:54:56.787206175Z",
     "start_time": "2023-05-21T15:54:56.759468724Z"
    }
   }
  },
  {
   "cell_type": "code",
   "execution_count": 134,
   "metadata": {
    "ExecuteTime": {
     "end_time": "2023-05-21T15:54:57.759317862Z",
     "start_time": "2023-05-21T15:54:56.964156623Z"
    }
   },
   "outputs": [
    {
     "name": "stderr",
     "output_type": "stream",
     "text": [
      "100%|██████████| 100/100 [00:00<00:00, 129.12it/s]"
     ]
    },
    {
     "name": "stdout",
     "output_type": "stream",
     "text": [
      "Accuracy train:\t70.56%\n",
      "AUC train: \t66.38%\n",
      "\n",
      "Accuracy test:\t49.70%\n",
      "AUC test: \t56.81%\n"
     ]
    },
    {
     "name": "stderr",
     "output_type": "stream",
     "text": [
      "\n"
     ]
    }
   ],
   "source": [
    "model = ChoquetConstrained(criteria_nr)\n",
    "acc, acc_test, auc, auc_test = Train(model, train_dataloader, test_dataloader, PATH,lr=0.001, epoch_nr=100)\n",
    "\n",
    "print(\"Accuracy train:\\t%.2f%%\" % (acc * 100.0))\n",
    "print(\"AUC train: \\t%.2f%%\" % (acc_test * 100.0))\n",
    "print()\n",
    "print(\"Accuracy test:\\t%.2f%%\" % (auc * 100.0))\n",
    "print(\"AUC test: \\t%.2f%%\" % (auc_test * 100.0))\n"
   ]
  },
  {
   "cell_type": "code",
   "execution_count": null,
   "outputs": [],
   "source": [],
   "metadata": {
    "collapsed": false
   }
  },
  {
   "cell_type": "code",
   "execution_count": 39,
   "metadata": {
    "ExecuteTime": {
     "end_time": "2023-05-21T15:08:56.417285930Z",
     "start_time": "2023-05-21T15:08:56.359242513Z"
    }
   },
   "outputs": [
    {
     "data": {
      "text/plain": "<All keys matched successfully>"
     },
     "execution_count": 39,
     "metadata": {},
     "output_type": "execute_result"
    }
   ],
   "source": [
    "checkpoint = torch.load(PATH)\n",
    "model.load_state_dict(checkpoint[\"model_state_dict\"])"
   ]
  },
  {
   "cell_type": "code",
   "execution_count": 40,
   "metadata": {
    "ExecuteTime": {
     "end_time": "2023-05-21T15:08:56.441240093Z",
     "start_time": "2023-05-21T15:08:56.394475303Z"
    }
   },
   "outputs": [],
   "source": [
    "weights = model.criteria_layer.w().detach().numpy()[0]\n",
    "interaction_weights = model.interaction_layer.w().detach().numpy()[0]\n",
    "s = weights.sum() + interaction_weights.sum()\n",
    "weights = weights / s\n",
    "interaction_weights = interaction_weights / s\n",
    "\n",
    "interactions = np.zeros((criteria_nr, criteria_nr))\n",
    "weight_id = 0\n",
    "for i in range(criteria_nr):\n",
    "  for j in range(i + 1, criteria_nr):\n",
    "    interactions[i, j] = interactions[j, i] = interaction_weights[weight_id]\n",
    "    weight_id += 1"
   ]
  },
  {
   "cell_type": "code",
   "execution_count": 41,
   "metadata": {
    "ExecuteTime": {
     "end_time": "2023-05-21T15:08:56.441546289Z",
     "start_time": "2023-05-21T15:08:56.394640574Z"
    }
   },
   "outputs": [
    {
     "name": "stdout",
     "output_type": "stream",
     "text": [
      "Criteria weights:\n",
      "[0.2727188  0.3189538  0.1992663  0.24479568]\n",
      "\n",
      "Criteria interactions:\n",
      "[[ 0.         -0.00369659 -0.04910372 -0.04246257]\n",
      " [-0.00369659  0.         -0.01175502 -0.0442977 ]\n",
      " [-0.04910372 -0.01175502  0.          0.11558106]\n",
      " [-0.04246257 -0.0442977   0.11558106  0.        ]]\n"
     ]
    }
   ],
   "source": [
    "print(\"Criteria weights:\")\n",
    "print(weights)\n",
    "print()\n",
    "print(\"Criteria interactions:\")\n",
    "print(interactions)"
   ]
  },
  {
   "cell_type": "markdown",
   "metadata": {},
   "source": []
  },
  {
   "cell_type": "code",
   "execution_count": 42,
   "metadata": {
    "ExecuteTime": {
     "end_time": "2023-05-21T15:08:56.441693748Z",
     "start_time": "2023-05-21T15:08:56.394738478Z"
    }
   },
   "outputs": [
    {
     "name": "stdout",
     "output_type": "stream",
     "text": [
      "Importance of criterina (Shapley value):\n",
      "[0.22508735 0.28907915 0.22662746 0.25920608]\n"
     ]
    }
   ],
   "source": [
    "shapley = weights + interactions.sum(0) / 2\n",
    "print(\"Importance of criterina (Shapley value):\")\n",
    "print(shapley)"
   ]
  },
  {
   "cell_type": "code",
   "execution_count": 42,
   "metadata": {
    "ExecuteTime": {
     "end_time": "2023-05-21T15:08:56.441766606Z",
     "start_time": "2023-05-21T15:08:56.394807673Z"
    }
   },
   "outputs": [],
   "source": []
  }
 ],
 "metadata": {
  "kernelspec": {
   "display_name": "Python 3",
   "language": "python",
   "name": "python3"
  },
  "language_info": {
   "codemirror_mode": {
    "name": "ipython",
    "version": 3
   },
   "file_extension": ".py",
   "mimetype": "text/x-python",
   "name": "python",
   "nbconvert_exporter": "python",
   "pygments_lexer": "ipython3",
   "version": "3.9.12"
  }
 },
 "nbformat": 4,
 "nbformat_minor": 4
}
