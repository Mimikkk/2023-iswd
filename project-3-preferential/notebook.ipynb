{
 "cells": [
  {
   "cell_type": "markdown",
   "source": [
    "# Projekt 3 - Eksperymenty i analiza danych\n",
    "## Autorzy\n",
    "- Daniel Zdancewicz [145317]\n",
    "- Alex Terentowicz [145419]\n",
    "\n",
    "## Opis\n",
    "\n",
    "Projekt polega na przeprowadzeniu eksperymentów z użyciem kilku metod i przeprowadzeniu analizy uzyskanych wyników.\n",
    "Należało odnaleźć zbiór danych, który zawiera kilka kryteriów monotonicznych, ponad 100 alternatyw i co najmniej 2 klasy (jeśli problem ma więcej klas, możesz je zbinaryzować).\n",
    "\n",
    "Krótko opisz zbiór danych, w tym opisy kryteriów. Dla tego zbioru danych wytrenuj następujące modele:\n",
    "- Jeden prosty, interpretowalny model ML (np. XGBoost, rankSVM lub regresja logistyczna)\n",
    "- Jeden interpretowalny model ANN-MCDA przedstawiony na zajęciach (ANN-Ch-Constr. lub ANN-UTADIS)\n",
    "- Złożony model sici neuronowej zawierającej kilka warstw ukrytych.\n",
    "\n",
    "\n",
    "## Opis zbioru danych\n",
    "\n",
    "W tej pracy wybrany zbiór zawierający dane o udzielonych kredytach. Zbiór zawiera 614 rekordów, 13 kolumn i 2 klasy. Kolumny to:\n",
    "- Loan_ID — Identyfikator udzielonego kredytu\n",
    "- Gender — Płeć kredytobiorcy\n",
    "- Married — Stan cywilny kredytobiorcy\n",
    "- Dependents — Liczba osób na utrzymaniu kredytobiorcy\n",
    "- Education — Wykształcenie kredytobiorcy\n",
    "- Self_Employed — Czy kredytobiorca jest samozatrudniony\n",
    "- ApplicantIncome — Miesięczny dochód kredytobiorcy\n",
    "- CoapplicantIncome — Miesięczny dochód współkredytobiorcy\n",
    "- LoanAmount — Kwota kredytu\n",
    "- Loan_Amount_Term — Okres spłaty kredytu w miesiącach\n",
    "- Credit_History — Historia kredytowa kredytobiorcy\n",
    "- Property_Area — Lokalizacja nieruchomości kredytobiorcy\n",
    "- Loan_Status — Czy kredyt został spłacony\n",
    "\n",
    "Źródło danych — [Kaggle](https://www.kaggle.com/altruistdelhite04/loan-prediction-problem-dataset)\n",
    "\n",
    "Jako kryteria monotoniczne wybrano:\n",
    "- ApplicantIncome\n",
    "- CoapplicantIncome\n",
    "- LoanAmount\n",
    "- Loan_Amount_Term\n",
    "\n",
    "Jako kryteria niemonotoniczne wybrano:\n",
    "- Gender\n",
    "- Married\n",
    "- Dependents\n",
    "- Education\n",
    "- Self_Employed\n",
    "- Credit_History\n",
    "- Property_Area\n",
    "\n",
    "Jako klasy wybrano kolumnę Loan_Status, która zawiera informacje o tym czy kredyt został spłacony:\n",
    "- Y — Kredyt został spłacony\n",
    "- N — Kredyt nie został spłacony\n",
    "\n",
    "\n",
    "### Opisy kryteriów\n"
   ],
   "metadata": {
    "collapsed": false
   }
  },
  {
   "cell_type": "code",
   "execution_count": 48,
   "outputs": [],
   "source": [
    "import pandas as pd\n",
    "import numpy as np\n",
    "import matplotlib.pyplot as plt\n",
    "from scipy import stats\n",
    "\n",
    "from pandas import DataFrame\n",
    "\n",
    "def load() -> tuple[DataFrame, DataFrame]:\n",
    "  return tuple([pd.read_csv(f\"./resources/datasets/loan_sanction_{type_}.csv\") for type_ in [\"train\", \"test\"]])\n"
   ],
   "metadata": {
    "collapsed": false,
    "ExecuteTime": {
     "end_time": "2023-05-19T14:28:18.519915050Z",
     "start_time": "2023-05-19T14:28:18.474780446Z"
    }
   }
  },
  {
   "cell_type": "code",
   "execution_count": 49,
   "outputs": [
    {
     "data": {
      "text/plain": "       ApplicantIncome  CoapplicantIncome  LoanAmount  Loan_Amount_Term   \ncount       614.000000         614.000000  592.000000         600.00000  \\\nmean       5403.459283        1621.245798  146.412162         342.00000   \nstd        6109.041673        2926.248369   85.587325          65.12041   \nmin         150.000000           0.000000    9.000000          12.00000   \n25%        2877.500000           0.000000  100.000000         360.00000   \n50%        3812.500000        1188.500000  128.000000         360.00000   \n75%        5795.000000        2297.250000  168.000000         360.00000   \nmax       81000.000000       41667.000000  700.000000         480.00000   \n\n       Credit_History  \ncount      564.000000  \nmean         0.842199  \nstd          0.364878  \nmin          0.000000  \n25%          1.000000  \n50%          1.000000  \n75%          1.000000  \nmax          1.000000  ",
      "text/html": "<div>\n<style scoped>\n    .dataframe tbody tr th:only-of-type {\n        vertical-align: middle;\n    }\n\n    .dataframe tbody tr th {\n        vertical-align: top;\n    }\n\n    .dataframe thead th {\n        text-align: right;\n    }\n</style>\n<table border=\"1\" class=\"dataframe\">\n  <thead>\n    <tr style=\"text-align: right;\">\n      <th></th>\n      <th>ApplicantIncome</th>\n      <th>CoapplicantIncome</th>\n      <th>LoanAmount</th>\n      <th>Loan_Amount_Term</th>\n      <th>Credit_History</th>\n    </tr>\n  </thead>\n  <tbody>\n    <tr>\n      <th>count</th>\n      <td>614.000000</td>\n      <td>614.000000</td>\n      <td>592.000000</td>\n      <td>600.00000</td>\n      <td>564.000000</td>\n    </tr>\n    <tr>\n      <th>mean</th>\n      <td>5403.459283</td>\n      <td>1621.245798</td>\n      <td>146.412162</td>\n      <td>342.00000</td>\n      <td>0.842199</td>\n    </tr>\n    <tr>\n      <th>std</th>\n      <td>6109.041673</td>\n      <td>2926.248369</td>\n      <td>85.587325</td>\n      <td>65.12041</td>\n      <td>0.364878</td>\n    </tr>\n    <tr>\n      <th>min</th>\n      <td>150.000000</td>\n      <td>0.000000</td>\n      <td>9.000000</td>\n      <td>12.00000</td>\n      <td>0.000000</td>\n    </tr>\n    <tr>\n      <th>25%</th>\n      <td>2877.500000</td>\n      <td>0.000000</td>\n      <td>100.000000</td>\n      <td>360.00000</td>\n      <td>1.000000</td>\n    </tr>\n    <tr>\n      <th>50%</th>\n      <td>3812.500000</td>\n      <td>1188.500000</td>\n      <td>128.000000</td>\n      <td>360.00000</td>\n      <td>1.000000</td>\n    </tr>\n    <tr>\n      <th>75%</th>\n      <td>5795.000000</td>\n      <td>2297.250000</td>\n      <td>168.000000</td>\n      <td>360.00000</td>\n      <td>1.000000</td>\n    </tr>\n    <tr>\n      <th>max</th>\n      <td>81000.000000</td>\n      <td>41667.000000</td>\n      <td>700.000000</td>\n      <td>480.00000</td>\n      <td>1.000000</td>\n    </tr>\n  </tbody>\n</table>\n</div>"
     },
     "execution_count": 49,
     "metadata": {},
     "output_type": "execute_result"
    }
   ],
   "source": [
    "train, test = load()\n",
    "\n",
    "train.describe()"
   ],
   "metadata": {
    "collapsed": false,
    "ExecuteTime": {
     "end_time": "2023-05-19T14:28:25.458164998Z",
     "start_time": "2023-05-19T14:28:25.421166566Z"
    }
   }
  },
  {
   "cell_type": "code",
   "execution_count": 50,
   "outputs": [
    {
     "data": {
      "text/plain": "    Loan_ID Gender Married Dependents     Education Self_Employed   \n0  LP001002   Male      No          0      Graduate            No  \\\n1  LP001003   Male     Yes          1      Graduate            No   \n2  LP001005   Male     Yes          0      Graduate           Yes   \n3  LP001006   Male     Yes          0  Not Graduate            No   \n4  LP001008   Male      No          0      Graduate            No   \n\n   ApplicantIncome  CoapplicantIncome  LoanAmount  Loan_Amount_Term   \n0             5849                0.0         NaN             360.0  \\\n1             4583             1508.0       128.0             360.0   \n2             3000                0.0        66.0             360.0   \n3             2583             2358.0       120.0             360.0   \n4             6000                0.0       141.0             360.0   \n\n   Credit_History Property_Area Loan_Status  \n0             1.0         Urban           Y  \n1             1.0         Rural           N  \n2             1.0         Urban           Y  \n3             1.0         Urban           Y  \n4             1.0         Urban           Y  ",
      "text/html": "<div>\n<style scoped>\n    .dataframe tbody tr th:only-of-type {\n        vertical-align: middle;\n    }\n\n    .dataframe tbody tr th {\n        vertical-align: top;\n    }\n\n    .dataframe thead th {\n        text-align: right;\n    }\n</style>\n<table border=\"1\" class=\"dataframe\">\n  <thead>\n    <tr style=\"text-align: right;\">\n      <th></th>\n      <th>Loan_ID</th>\n      <th>Gender</th>\n      <th>Married</th>\n      <th>Dependents</th>\n      <th>Education</th>\n      <th>Self_Employed</th>\n      <th>ApplicantIncome</th>\n      <th>CoapplicantIncome</th>\n      <th>LoanAmount</th>\n      <th>Loan_Amount_Term</th>\n      <th>Credit_History</th>\n      <th>Property_Area</th>\n      <th>Loan_Status</th>\n    </tr>\n  </thead>\n  <tbody>\n    <tr>\n      <th>0</th>\n      <td>LP001002</td>\n      <td>Male</td>\n      <td>No</td>\n      <td>0</td>\n      <td>Graduate</td>\n      <td>No</td>\n      <td>5849</td>\n      <td>0.0</td>\n      <td>NaN</td>\n      <td>360.0</td>\n      <td>1.0</td>\n      <td>Urban</td>\n      <td>Y</td>\n    </tr>\n    <tr>\n      <th>1</th>\n      <td>LP001003</td>\n      <td>Male</td>\n      <td>Yes</td>\n      <td>1</td>\n      <td>Graduate</td>\n      <td>No</td>\n      <td>4583</td>\n      <td>1508.0</td>\n      <td>128.0</td>\n      <td>360.0</td>\n      <td>1.0</td>\n      <td>Rural</td>\n      <td>N</td>\n    </tr>\n    <tr>\n      <th>2</th>\n      <td>LP001005</td>\n      <td>Male</td>\n      <td>Yes</td>\n      <td>0</td>\n      <td>Graduate</td>\n      <td>Yes</td>\n      <td>3000</td>\n      <td>0.0</td>\n      <td>66.0</td>\n      <td>360.0</td>\n      <td>1.0</td>\n      <td>Urban</td>\n      <td>Y</td>\n    </tr>\n    <tr>\n      <th>3</th>\n      <td>LP001006</td>\n      <td>Male</td>\n      <td>Yes</td>\n      <td>0</td>\n      <td>Not Graduate</td>\n      <td>No</td>\n      <td>2583</td>\n      <td>2358.0</td>\n      <td>120.0</td>\n      <td>360.0</td>\n      <td>1.0</td>\n      <td>Urban</td>\n      <td>Y</td>\n    </tr>\n    <tr>\n      <th>4</th>\n      <td>LP001008</td>\n      <td>Male</td>\n      <td>No</td>\n      <td>0</td>\n      <td>Graduate</td>\n      <td>No</td>\n      <td>6000</td>\n      <td>0.0</td>\n      <td>141.0</td>\n      <td>360.0</td>\n      <td>1.0</td>\n      <td>Urban</td>\n      <td>Y</td>\n    </tr>\n  </tbody>\n</table>\n</div>"
     },
     "execution_count": 50,
     "metadata": {},
     "output_type": "execute_result"
    }
   ],
   "source": [
    "train.head()"
   ],
   "metadata": {
    "collapsed": false,
    "ExecuteTime": {
     "end_time": "2023-05-19T14:28:25.698420105Z",
     "start_time": "2023-05-19T14:28:25.619855625Z"
    }
   }
  },
  {
   "cell_type": "raw",
   "source": [],
   "metadata": {
    "collapsed": false
   }
  },
  {
   "cell_type": "markdown",
   "source": [
    "## Preprocessing"
   ],
   "metadata": {
    "collapsed": false
   }
  },
  {
   "cell_type": "code",
   "execution_count": 51,
   "outputs": [
    {
     "name": "stdout",
     "output_type": "stream",
     "text": [
      "Gender: ['Male' 'Female' nan]\n",
      "Married: ['No' 'Yes' nan]\n",
      "Education: ['Graduate' 'Not Graduate']\n",
      "Dependents: ['0' '1' '2' '3+' nan]\n",
      "Self_Employed: ['No' 'Yes' nan]\n",
      "Property_Area: ['Urban' 'Rural' 'Semiurban']\n"
     ]
    }
   ],
   "source": [
    "str_cols = [\"Gender\", \"Married\", \"Education\", \"Dependents\", \"Self_Employed\", \"Property_Area\"]\n",
    "for col in str_cols:\n",
    "  print(f\"{col}: {train[col].unique()}\")"
   ],
   "metadata": {
    "collapsed": false,
    "ExecuteTime": {
     "end_time": "2023-05-19T14:28:26.995363179Z",
     "start_time": "2023-05-19T14:28:26.970869787Z"
    }
   }
  },
  {
   "cell_type": "code",
   "execution_count": 53,
   "outputs": [
    {
     "data": {
      "text/plain": "           Gender     Married  Dependents   Education  Self_Employed   \ncount  480.000000  480.000000  480.000000  480.000000     480.000000  \\\nmean     0.820833    0.647917    0.777083    0.202083       0.137500   \nstd      0.383892    0.478118    1.020815    0.401973       0.344734   \nmin      0.000000    0.000000    0.000000    0.000000       0.000000   \n25%      1.000000    0.000000    0.000000    0.000000       0.000000   \n50%      1.000000    1.000000    0.000000    0.000000       0.000000   \n75%      1.000000    1.000000    2.000000    0.000000       0.000000   \nmax      1.000000    1.000000    3.000000    1.000000       1.000000   \n\n       ApplicantIncome  CoapplicantIncome  LoanAmount  Loan_Amount_Term   \ncount       480.000000         480.000000  480.000000        480.000000  \\\nmean       5364.231250        1581.093583  144.735417        342.050000   \nstd        5668.251251        2617.692267   80.508164         65.212401   \nmin         150.000000           0.000000    9.000000         36.000000   \n25%        2898.750000           0.000000  100.000000        360.000000   \n50%        3859.000000        1084.500000  128.000000        360.000000   \n75%        5852.500000        2253.250000  170.000000        360.000000   \nmax       81000.000000       33837.000000  600.000000        480.000000   \n\n       Credit_History  Property_Area  Loan_Status  \ncount      480.000000     480.000000   480.000000  \nmean         0.854167       1.022917     0.691667  \nstd          0.353307       0.776411     0.462287  \nmin          0.000000       0.000000     0.000000  \n25%          1.000000       0.000000     0.000000  \n50%          1.000000       1.000000     1.000000  \n75%          1.000000       2.000000     1.000000  \nmax          1.000000       2.000000     1.000000  ",
      "text/html": "<div>\n<style scoped>\n    .dataframe tbody tr th:only-of-type {\n        vertical-align: middle;\n    }\n\n    .dataframe tbody tr th {\n        vertical-align: top;\n    }\n\n    .dataframe thead th {\n        text-align: right;\n    }\n</style>\n<table border=\"1\" class=\"dataframe\">\n  <thead>\n    <tr style=\"text-align: right;\">\n      <th></th>\n      <th>Gender</th>\n      <th>Married</th>\n      <th>Dependents</th>\n      <th>Education</th>\n      <th>Self_Employed</th>\n      <th>ApplicantIncome</th>\n      <th>CoapplicantIncome</th>\n      <th>LoanAmount</th>\n      <th>Loan_Amount_Term</th>\n      <th>Credit_History</th>\n      <th>Property_Area</th>\n      <th>Loan_Status</th>\n    </tr>\n  </thead>\n  <tbody>\n    <tr>\n      <th>count</th>\n      <td>480.000000</td>\n      <td>480.000000</td>\n      <td>480.000000</td>\n      <td>480.000000</td>\n      <td>480.000000</td>\n      <td>480.000000</td>\n      <td>480.000000</td>\n      <td>480.000000</td>\n      <td>480.000000</td>\n      <td>480.000000</td>\n      <td>480.000000</td>\n      <td>480.000000</td>\n    </tr>\n    <tr>\n      <th>mean</th>\n      <td>0.820833</td>\n      <td>0.647917</td>\n      <td>0.777083</td>\n      <td>0.202083</td>\n      <td>0.137500</td>\n      <td>5364.231250</td>\n      <td>1581.093583</td>\n      <td>144.735417</td>\n      <td>342.050000</td>\n      <td>0.854167</td>\n      <td>1.022917</td>\n      <td>0.691667</td>\n    </tr>\n    <tr>\n      <th>std</th>\n      <td>0.383892</td>\n      <td>0.478118</td>\n      <td>1.020815</td>\n      <td>0.401973</td>\n      <td>0.344734</td>\n      <td>5668.251251</td>\n      <td>2617.692267</td>\n      <td>80.508164</td>\n      <td>65.212401</td>\n      <td>0.353307</td>\n      <td>0.776411</td>\n      <td>0.462287</td>\n    </tr>\n    <tr>\n      <th>min</th>\n      <td>0.000000</td>\n      <td>0.000000</td>\n      <td>0.000000</td>\n      <td>0.000000</td>\n      <td>0.000000</td>\n      <td>150.000000</td>\n      <td>0.000000</td>\n      <td>9.000000</td>\n      <td>36.000000</td>\n      <td>0.000000</td>\n      <td>0.000000</td>\n      <td>0.000000</td>\n    </tr>\n    <tr>\n      <th>25%</th>\n      <td>1.000000</td>\n      <td>0.000000</td>\n      <td>0.000000</td>\n      <td>0.000000</td>\n      <td>0.000000</td>\n      <td>2898.750000</td>\n      <td>0.000000</td>\n      <td>100.000000</td>\n      <td>360.000000</td>\n      <td>1.000000</td>\n      <td>0.000000</td>\n      <td>0.000000</td>\n    </tr>\n    <tr>\n      <th>50%</th>\n      <td>1.000000</td>\n      <td>1.000000</td>\n      <td>0.000000</td>\n      <td>0.000000</td>\n      <td>0.000000</td>\n      <td>3859.000000</td>\n      <td>1084.500000</td>\n      <td>128.000000</td>\n      <td>360.000000</td>\n      <td>1.000000</td>\n      <td>1.000000</td>\n      <td>1.000000</td>\n    </tr>\n    <tr>\n      <th>75%</th>\n      <td>1.000000</td>\n      <td>1.000000</td>\n      <td>2.000000</td>\n      <td>0.000000</td>\n      <td>0.000000</td>\n      <td>5852.500000</td>\n      <td>2253.250000</td>\n      <td>170.000000</td>\n      <td>360.000000</td>\n      <td>1.000000</td>\n      <td>2.000000</td>\n      <td>1.000000</td>\n    </tr>\n    <tr>\n      <th>max</th>\n      <td>1.000000</td>\n      <td>1.000000</td>\n      <td>3.000000</td>\n      <td>1.000000</td>\n      <td>1.000000</td>\n      <td>81000.000000</td>\n      <td>33837.000000</td>\n      <td>600.000000</td>\n      <td>480.000000</td>\n      <td>1.000000</td>\n      <td>2.000000</td>\n      <td>1.000000</td>\n    </tr>\n  </tbody>\n</table>\n</div>"
     },
     "execution_count": 53,
     "metadata": {},
     "output_type": "execute_result"
    }
   ],
   "source": [
    "from sklearn.preprocessing import LabelEncoder\n",
    "\n",
    "encoded_cols = [\"Gender\", \"Married\", \"Education\", \"Self_Employed\"]\n",
    "\n",
    "encode_map = {\n",
    "    \"Dependents\": {\n",
    "      \"0\": 0,\n",
    "      \"1\": 1,\n",
    "      \"2\": 2,\n",
    "      \"3+\": 3\n",
    "    },\n",
    "    \"Property_Area\": {\n",
    "      \"Rural\": 0,\n",
    "      \"Semiurban\": 1,\n",
    "      \"Urban\": 2\n",
    "    }\n",
    "  }\n",
    "\n",
    "def preprocess(df):\n",
    "  df = df.copy()\n",
    "  df = df.dropna()\n",
    "  # kolumna znajduje sie tylko w train:\n",
    "  cols = encoded_cols if \"Loan_Status\" not in df.columns else encoded_cols + [\"Loan_Status\"]\n",
    "  df[cols] = df[cols].apply(LabelEncoder().fit_transform)\n",
    "  # encode with custom mapping from dict\n",
    "  df = df.replace(encode_map)\n",
    "  # df = drop_outliers(df)\n",
    "  return df\n",
    "\n",
    "def drop_ids_and_map(df):\n",
    "  # create map of loan_id to index\n",
    "  df_map = dict(zip(df[\"Loan_ID\"], df.index))\n",
    "  df = df.drop(columns=[\"Loan_ID\"])\n",
    "  return df, df_map\n",
    "\n",
    "train, test = (preprocess(df) for df in [train, test])\n",
    "(train, train_map), (test, test_map) = (drop_ids_and_map(df) for df in [train, test])\n",
    "train.describe()"
   ],
   "metadata": {
    "collapsed": false,
    "ExecuteTime": {
     "end_time": "2023-05-19T14:29:20.735781274Z",
     "start_time": "2023-05-19T14:29:20.676986778Z"
    }
   }
  },
  {
   "cell_type": "code",
   "execution_count": 54,
   "outputs": [
    {
     "data": {
      "text/plain": "Gender                  1.0\nMarried                 1.0\nDependents              0.0\nEducation               0.0\nSelf_Employed           1.0\nApplicantIncome      3000.0\nCoapplicantIncome       0.0\nLoanAmount             66.0\nLoan_Amount_Term      360.0\nCredit_History          1.0\nProperty_Area           2.0\nLoan_Status             1.0\nName: 2, dtype: float64"
     },
     "execution_count": 54,
     "metadata": {},
     "output_type": "execute_result"
    }
   ],
   "source": [
    "train.iloc[train_map[\"LP001003\"]]"
   ],
   "metadata": {
    "collapsed": false,
    "ExecuteTime": {
     "end_time": "2023-05-19T14:29:22.767306408Z",
     "start_time": "2023-05-19T14:29:22.754687630Z"
    }
   }
  },
  {
   "cell_type": "code",
   "execution_count": 61,
   "outputs": [
    {
     "data": {
      "text/plain": "                     Gender   Married  Dependents  Education  Self_Employed   \nGender             1.000000  0.349424    0.217510        NaN            NaN  \\\nMarried            0.349424  1.000000    0.386367        NaN            NaN   \nDependents         0.217510  0.386367    1.000000        NaN            NaN   \nEducation               NaN       NaN         NaN   1.000000            NaN   \nSelf_Employed           NaN       NaN         NaN        NaN       1.000000   \nApplicantIncome         NaN       NaN    0.131139  -0.131172       0.170785   \nCoapplicantIncome  0.156171  0.102950         NaN        NaN            NaN   \nLoanAmount              NaN  0.183442    0.172780  -0.172780       0.120389   \nLoan_Amount_Term        NaN -0.107504         NaN  -0.102168            NaN   \nCredit_History          NaN       NaN         NaN        NaN            NaN   \nProperty_Area           NaN       NaN         NaN        NaN            NaN   \nLoan_Status             NaN  0.112321         NaN        NaN            NaN   \n\n                   ApplicantIncome  CoapplicantIncome  LoanAmount   \nGender                         NaN           0.156171         NaN  \\\nMarried                        NaN           0.102950    0.183442   \nDependents                0.131139                NaN    0.172780   \nEducation                -0.131172                NaN   -0.172780   \nSelf_Employed             0.170785                NaN    0.120389   \nApplicantIncome           1.000000          -0.112588    0.495310   \nCoapplicantIncome        -0.112588           1.000000    0.190740   \nLoanAmount                0.495310           0.190740    1.000000   \nLoan_Amount_Term               NaN                NaN         NaN   \nCredit_History                 NaN                NaN         NaN   \nProperty_Area                  NaN                NaN   -0.109685   \nLoan_Status                    NaN                NaN         NaN   \n\n                   Loan_Amount_Term  Credit_History  Property_Area   \nGender                          NaN             NaN            NaN  \\\nMarried                   -0.107504             NaN            NaN   \nDependents                      NaN             NaN            NaN   \nEducation                 -0.102168             NaN            NaN   \nSelf_Employed                   NaN             NaN            NaN   \nApplicantIncome                 NaN             NaN            NaN   \nCoapplicantIncome               NaN             NaN            NaN   \nLoanAmount                      NaN             NaN      -0.109685   \nLoan_Amount_Term           1.000000             NaN            NaN   \nCredit_History                  NaN         1.00000            NaN   \nProperty_Area                   NaN             NaN       1.000000   \nLoan_Status                     NaN         0.52939            NaN   \n\n                   Loan_Status  \nGender                     NaN  \nMarried               0.112321  \nDependents                 NaN  \nEducation                  NaN  \nSelf_Employed              NaN  \nApplicantIncome            NaN  \nCoapplicantIncome          NaN  \nLoanAmount                 NaN  \nLoan_Amount_Term           NaN  \nCredit_History        0.529390  \nProperty_Area              NaN  \nLoan_Status           1.000000  ",
      "text/html": "<div>\n<style scoped>\n    .dataframe tbody tr th:only-of-type {\n        vertical-align: middle;\n    }\n\n    .dataframe tbody tr th {\n        vertical-align: top;\n    }\n\n    .dataframe thead th {\n        text-align: right;\n    }\n</style>\n<table border=\"1\" class=\"dataframe\">\n  <thead>\n    <tr style=\"text-align: right;\">\n      <th></th>\n      <th>Gender</th>\n      <th>Married</th>\n      <th>Dependents</th>\n      <th>Education</th>\n      <th>Self_Employed</th>\n      <th>ApplicantIncome</th>\n      <th>CoapplicantIncome</th>\n      <th>LoanAmount</th>\n      <th>Loan_Amount_Term</th>\n      <th>Credit_History</th>\n      <th>Property_Area</th>\n      <th>Loan_Status</th>\n    </tr>\n  </thead>\n  <tbody>\n    <tr>\n      <th>Gender</th>\n      <td>1.000000</td>\n      <td>0.349424</td>\n      <td>0.217510</td>\n      <td>NaN</td>\n      <td>NaN</td>\n      <td>NaN</td>\n      <td>0.156171</td>\n      <td>NaN</td>\n      <td>NaN</td>\n      <td>NaN</td>\n      <td>NaN</td>\n      <td>NaN</td>\n    </tr>\n    <tr>\n      <th>Married</th>\n      <td>0.349424</td>\n      <td>1.000000</td>\n      <td>0.386367</td>\n      <td>NaN</td>\n      <td>NaN</td>\n      <td>NaN</td>\n      <td>0.102950</td>\n      <td>0.183442</td>\n      <td>-0.107504</td>\n      <td>NaN</td>\n      <td>NaN</td>\n      <td>0.112321</td>\n    </tr>\n    <tr>\n      <th>Dependents</th>\n      <td>0.217510</td>\n      <td>0.386367</td>\n      <td>1.000000</td>\n      <td>NaN</td>\n      <td>NaN</td>\n      <td>0.131139</td>\n      <td>NaN</td>\n      <td>0.172780</td>\n      <td>NaN</td>\n      <td>NaN</td>\n      <td>NaN</td>\n      <td>NaN</td>\n    </tr>\n    <tr>\n      <th>Education</th>\n      <td>NaN</td>\n      <td>NaN</td>\n      <td>NaN</td>\n      <td>1.000000</td>\n      <td>NaN</td>\n      <td>-0.131172</td>\n      <td>NaN</td>\n      <td>-0.172780</td>\n      <td>-0.102168</td>\n      <td>NaN</td>\n      <td>NaN</td>\n      <td>NaN</td>\n    </tr>\n    <tr>\n      <th>Self_Employed</th>\n      <td>NaN</td>\n      <td>NaN</td>\n      <td>NaN</td>\n      <td>NaN</td>\n      <td>1.000000</td>\n      <td>0.170785</td>\n      <td>NaN</td>\n      <td>0.120389</td>\n      <td>NaN</td>\n      <td>NaN</td>\n      <td>NaN</td>\n      <td>NaN</td>\n    </tr>\n    <tr>\n      <th>ApplicantIncome</th>\n      <td>NaN</td>\n      <td>NaN</td>\n      <td>0.131139</td>\n      <td>-0.131172</td>\n      <td>0.170785</td>\n      <td>1.000000</td>\n      <td>-0.112588</td>\n      <td>0.495310</td>\n      <td>NaN</td>\n      <td>NaN</td>\n      <td>NaN</td>\n      <td>NaN</td>\n    </tr>\n    <tr>\n      <th>CoapplicantIncome</th>\n      <td>0.156171</td>\n      <td>0.102950</td>\n      <td>NaN</td>\n      <td>NaN</td>\n      <td>NaN</td>\n      <td>-0.112588</td>\n      <td>1.000000</td>\n      <td>0.190740</td>\n      <td>NaN</td>\n      <td>NaN</td>\n      <td>NaN</td>\n      <td>NaN</td>\n    </tr>\n    <tr>\n      <th>LoanAmount</th>\n      <td>NaN</td>\n      <td>0.183442</td>\n      <td>0.172780</td>\n      <td>-0.172780</td>\n      <td>0.120389</td>\n      <td>0.495310</td>\n      <td>0.190740</td>\n      <td>1.000000</td>\n      <td>NaN</td>\n      <td>NaN</td>\n      <td>-0.109685</td>\n      <td>NaN</td>\n    </tr>\n    <tr>\n      <th>Loan_Amount_Term</th>\n      <td>NaN</td>\n      <td>-0.107504</td>\n      <td>NaN</td>\n      <td>-0.102168</td>\n      <td>NaN</td>\n      <td>NaN</td>\n      <td>NaN</td>\n      <td>NaN</td>\n      <td>1.000000</td>\n      <td>NaN</td>\n      <td>NaN</td>\n      <td>NaN</td>\n    </tr>\n    <tr>\n      <th>Credit_History</th>\n      <td>NaN</td>\n      <td>NaN</td>\n      <td>NaN</td>\n      <td>NaN</td>\n      <td>NaN</td>\n      <td>NaN</td>\n      <td>NaN</td>\n      <td>NaN</td>\n      <td>NaN</td>\n      <td>1.00000</td>\n      <td>NaN</td>\n      <td>0.529390</td>\n    </tr>\n    <tr>\n      <th>Property_Area</th>\n      <td>NaN</td>\n      <td>NaN</td>\n      <td>NaN</td>\n      <td>NaN</td>\n      <td>NaN</td>\n      <td>NaN</td>\n      <td>NaN</td>\n      <td>-0.109685</td>\n      <td>NaN</td>\n      <td>NaN</td>\n      <td>1.000000</td>\n      <td>NaN</td>\n    </tr>\n    <tr>\n      <th>Loan_Status</th>\n      <td>NaN</td>\n      <td>0.112321</td>\n      <td>NaN</td>\n      <td>NaN</td>\n      <td>NaN</td>\n      <td>NaN</td>\n      <td>NaN</td>\n      <td>NaN</td>\n      <td>NaN</td>\n      <td>0.52939</td>\n      <td>NaN</td>\n      <td>1.000000</td>\n    </tr>\n  </tbody>\n</table>\n</div>"
     },
     "execution_count": 61,
     "metadata": {},
     "output_type": "execute_result"
    }
   ],
   "source": [
    "cor = train.corr()\n",
    "cor.mask(np.abs(cor) < 0.1, None)"
   ],
   "metadata": {
    "collapsed": false,
    "ExecuteTime": {
     "end_time": "2023-05-19T14:31:03.851975321Z",
     "start_time": "2023-05-19T14:31:03.811328495Z"
    }
   }
  },
  {
   "cell_type": "code",
   "execution_count": 62,
   "outputs": [
    {
     "data": {
      "text/plain": "                       Gender     Married  Dependents   Education   \nGender               0.147373         NaN         NaN         NaN  \\\nMarried                   NaN    0.228597    0.188574         NaN   \nDependents                NaN    0.188574    1.042062         NaN   \nEducation                 NaN         NaN         NaN    0.161582   \nSelf_Employed             NaN         NaN         NaN         NaN   \nApplicantIncome     71.033168   99.507477  758.803223 -298.873552   \nCoapplicantIncome  156.937470  128.849302   -0.850327  -78.390559   \nLoanAmount           3.058968    7.061139   14.199769   -5.591514   \nLoan_Amount_Term    -2.220668   -3.351879   -6.414718   -2.678184   \nCredit_History            NaN         NaN         NaN         NaN   \nProperty_Area             NaN         NaN         NaN         NaN   \nLoan_Status               NaN         NaN         NaN         NaN   \n\n                   Self_Employed  ApplicantIncome  CoapplicantIncome   \nGender                       NaN     7.103317e+01       1.569375e+02  \\\nMarried                      NaN     9.950748e+01       1.288493e+02   \nDependents                   NaN     7.588032e+02      -8.503269e-01   \nEducation                    NaN    -2.988736e+02      -7.839056e+01   \nSelf_Employed           0.118841     3.337197e+02      -1.361538e+00   \nApplicantIncome       333.719703     3.212907e+07      -1.670551e+06   \nCoapplicantIncome      -1.361538    -1.670551e+06       6.852313e+06   \nLoanAmount              3.341258     2.260298e+05       4.019756e+04   \nLoan_Amount_Term       -0.783507    -4.006195e+03      -9.857739e+02   \nCredit_History               NaN    -1.124526e+02      -8.038516e+00   \nProperty_Area                NaN    -2.339510e+02       1.329155e+01   \nLoan_Status                  NaN    -1.130726e+02      -5.931973e+01   \n\n                      LoanAmount  Loan_Amount_Term  Credit_History   \nGender                  3.058968         -2.220668             NaN  \\\nMarried                 7.061139         -3.351879             NaN   \nDependents             14.199769         -6.414718             NaN   \nEducation              -5.591514         -2.678184             NaN   \nSelf_Employed           3.341258         -0.783507             NaN   \nApplicantIncome    226029.825404      -4006.195303     -112.452636   \nCoapplicantIncome   40197.560179       -985.773871       -8.038516   \nLoanAmount           6481.564505        267.057098       -1.159751   \nLoan_Amount_Term      267.057098       4252.657203        0.758873   \nCredit_History         -1.159751          0.758873        0.124826   \nProperty_Area          -6.856137         -2.969833             NaN   \nLoan_Status            -2.670477         -0.235073             NaN   \n\n                   Property_Area  Loan_Status  \nGender                       NaN          NaN  \nMarried                      NaN          NaN  \nDependents                   NaN          NaN  \nEducation                    NaN          NaN  \nSelf_Employed                NaN          NaN  \nApplicantIncome      -233.951031  -113.072599  \nCoapplicantIncome      13.291546   -59.319728  \nLoanAmount             -6.856137    -2.670477  \nLoan_Amount_Term       -2.969833    -0.235073  \nCredit_History               NaN          NaN  \nProperty_Area           0.602814          NaN  \nLoan_Status                  NaN     0.213709  ",
      "text/html": "<div>\n<style scoped>\n    .dataframe tbody tr th:only-of-type {\n        vertical-align: middle;\n    }\n\n    .dataframe tbody tr th {\n        vertical-align: top;\n    }\n\n    .dataframe thead th {\n        text-align: right;\n    }\n</style>\n<table border=\"1\" class=\"dataframe\">\n  <thead>\n    <tr style=\"text-align: right;\">\n      <th></th>\n      <th>Gender</th>\n      <th>Married</th>\n      <th>Dependents</th>\n      <th>Education</th>\n      <th>Self_Employed</th>\n      <th>ApplicantIncome</th>\n      <th>CoapplicantIncome</th>\n      <th>LoanAmount</th>\n      <th>Loan_Amount_Term</th>\n      <th>Credit_History</th>\n      <th>Property_Area</th>\n      <th>Loan_Status</th>\n    </tr>\n  </thead>\n  <tbody>\n    <tr>\n      <th>Gender</th>\n      <td>0.147373</td>\n      <td>NaN</td>\n      <td>NaN</td>\n      <td>NaN</td>\n      <td>NaN</td>\n      <td>7.103317e+01</td>\n      <td>1.569375e+02</td>\n      <td>3.058968</td>\n      <td>-2.220668</td>\n      <td>NaN</td>\n      <td>NaN</td>\n      <td>NaN</td>\n    </tr>\n    <tr>\n      <th>Married</th>\n      <td>NaN</td>\n      <td>0.228597</td>\n      <td>0.188574</td>\n      <td>NaN</td>\n      <td>NaN</td>\n      <td>9.950748e+01</td>\n      <td>1.288493e+02</td>\n      <td>7.061139</td>\n      <td>-3.351879</td>\n      <td>NaN</td>\n      <td>NaN</td>\n      <td>NaN</td>\n    </tr>\n    <tr>\n      <th>Dependents</th>\n      <td>NaN</td>\n      <td>0.188574</td>\n      <td>1.042062</td>\n      <td>NaN</td>\n      <td>NaN</td>\n      <td>7.588032e+02</td>\n      <td>-8.503269e-01</td>\n      <td>14.199769</td>\n      <td>-6.414718</td>\n      <td>NaN</td>\n      <td>NaN</td>\n      <td>NaN</td>\n    </tr>\n    <tr>\n      <th>Education</th>\n      <td>NaN</td>\n      <td>NaN</td>\n      <td>NaN</td>\n      <td>0.161582</td>\n      <td>NaN</td>\n      <td>-2.988736e+02</td>\n      <td>-7.839056e+01</td>\n      <td>-5.591514</td>\n      <td>-2.678184</td>\n      <td>NaN</td>\n      <td>NaN</td>\n      <td>NaN</td>\n    </tr>\n    <tr>\n      <th>Self_Employed</th>\n      <td>NaN</td>\n      <td>NaN</td>\n      <td>NaN</td>\n      <td>NaN</td>\n      <td>0.118841</td>\n      <td>3.337197e+02</td>\n      <td>-1.361538e+00</td>\n      <td>3.341258</td>\n      <td>-0.783507</td>\n      <td>NaN</td>\n      <td>NaN</td>\n      <td>NaN</td>\n    </tr>\n    <tr>\n      <th>ApplicantIncome</th>\n      <td>71.033168</td>\n      <td>99.507477</td>\n      <td>758.803223</td>\n      <td>-298.873552</td>\n      <td>333.719703</td>\n      <td>3.212907e+07</td>\n      <td>-1.670551e+06</td>\n      <td>226029.825404</td>\n      <td>-4006.195303</td>\n      <td>-112.452636</td>\n      <td>-233.951031</td>\n      <td>-113.072599</td>\n    </tr>\n    <tr>\n      <th>CoapplicantIncome</th>\n      <td>156.937470</td>\n      <td>128.849302</td>\n      <td>-0.850327</td>\n      <td>-78.390559</td>\n      <td>-1.361538</td>\n      <td>-1.670551e+06</td>\n      <td>6.852313e+06</td>\n      <td>40197.560179</td>\n      <td>-985.773871</td>\n      <td>-8.038516</td>\n      <td>13.291546</td>\n      <td>-59.319728</td>\n    </tr>\n    <tr>\n      <th>LoanAmount</th>\n      <td>3.058968</td>\n      <td>7.061139</td>\n      <td>14.199769</td>\n      <td>-5.591514</td>\n      <td>3.341258</td>\n      <td>2.260298e+05</td>\n      <td>4.019756e+04</td>\n      <td>6481.564505</td>\n      <td>267.057098</td>\n      <td>-1.159751</td>\n      <td>-6.856137</td>\n      <td>-2.670477</td>\n    </tr>\n    <tr>\n      <th>Loan_Amount_Term</th>\n      <td>-2.220668</td>\n      <td>-3.351879</td>\n      <td>-6.414718</td>\n      <td>-2.678184</td>\n      <td>-0.783507</td>\n      <td>-4.006195e+03</td>\n      <td>-9.857739e+02</td>\n      <td>267.057098</td>\n      <td>4252.657203</td>\n      <td>0.758873</td>\n      <td>-2.969833</td>\n      <td>-0.235073</td>\n    </tr>\n    <tr>\n      <th>Credit_History</th>\n      <td>NaN</td>\n      <td>NaN</td>\n      <td>NaN</td>\n      <td>NaN</td>\n      <td>NaN</td>\n      <td>-1.124526e+02</td>\n      <td>-8.038516e+00</td>\n      <td>-1.159751</td>\n      <td>0.758873</td>\n      <td>0.124826</td>\n      <td>NaN</td>\n      <td>NaN</td>\n    </tr>\n    <tr>\n      <th>Property_Area</th>\n      <td>NaN</td>\n      <td>NaN</td>\n      <td>NaN</td>\n      <td>NaN</td>\n      <td>NaN</td>\n      <td>-2.339510e+02</td>\n      <td>1.329155e+01</td>\n      <td>-6.856137</td>\n      <td>-2.969833</td>\n      <td>NaN</td>\n      <td>0.602814</td>\n      <td>NaN</td>\n    </tr>\n    <tr>\n      <th>Loan_Status</th>\n      <td>NaN</td>\n      <td>NaN</td>\n      <td>NaN</td>\n      <td>NaN</td>\n      <td>NaN</td>\n      <td>-1.130726e+02</td>\n      <td>-5.931973e+01</td>\n      <td>-2.670477</td>\n      <td>-0.235073</td>\n      <td>NaN</td>\n      <td>NaN</td>\n      <td>0.213709</td>\n    </tr>\n  </tbody>\n</table>\n</div>"
     },
     "execution_count": 62,
     "metadata": {},
     "output_type": "execute_result"
    }
   ],
   "source": [
    "cov = train.cov()\n",
    "cov.mask(np.abs(cov) < 0.1, None)"
   ],
   "metadata": {
    "collapsed": false,
    "ExecuteTime": {
     "end_time": "2023-05-19T14:31:05.955138798Z",
     "start_time": "2023-05-19T14:31:05.928527413Z"
    }
   }
  },
  {
   "cell_type": "code",
   "execution_count": 60,
   "outputs": [
    {
     "data": {
      "text/plain": "(array([273., 139.,  40.,  13.,  10.,   0.,   0.,   0.,   1.,   3.,   0.,\n          0.,   0.,   0.,   0.,   0.,   0.,   0.,   0.,   1.]),\n array([  150. ,  4192.5,  8235. , 12277.5, 16320. , 20362.5, 24405. ,\n        28447.5, 32490. , 36532.5, 40575. , 44617.5, 48660. , 52702.5,\n        56745. , 60787.5, 64830. , 68872.5, 72915. , 76957.5, 81000. ]),\n <BarContainer object of 20 artists>)"
     },
     "execution_count": 60,
     "metadata": {},
     "output_type": "execute_result"
    },
    {
     "data": {
      "text/plain": "<Figure size 640x480 with 1 Axes>",
      "image/png": "[encoded data removed]"
     },
     "metadata": {},
     "output_type": "display_data"
    }
   ],
   "source": [
    "plt.hist(train[\"ApplicantIncome\"], bins=20)"
   ],
   "metadata": {
    "collapsed": false,
    "ExecuteTime": {
     "end_time": "2023-05-19T14:30:38.149132984Z",
     "start_time": "2023-05-19T14:30:37.968191172Z"
    }
   }
  },
  {
   "cell_type": "code",
   "execution_count": null,
   "outputs": [],
   "source": [],
   "metadata": {
    "collapsed": false
   }
  },
  {
   "cell_type": "markdown",
   "source": [
    "## Trening modeli"
   ],
   "metadata": {
    "collapsed": false
   }
  },
  {
   "cell_type": "markdown",
   "source": [
    "### Rank SVM — interpretowalny model ML"
   ],
   "metadata": {
    "collapsed": false
   }
  },
  {
   "cell_type": "code",
   "execution_count": null,
   "metadata": {
    "collapsed": true
   },
   "outputs": [],
   "source": []
  },
  {
   "cell_type": "markdown",
   "source": [
    "### ANN-Ch-Constr. — interpretowalny model ANN-MCDA"
   ],
   "metadata": {
    "collapsed": false
   }
  },
  {
   "cell_type": "code",
   "execution_count": null,
   "outputs": [],
   "source": [],
   "metadata": {
    "collapsed": false
   }
  },
  {
   "cell_type": "markdown",
   "source": [
    "### Głęboka sieć neuronowa — model złożony."
   ],
   "metadata": {
    "collapsed": false
   }
  },
  {
   "cell_type": "code",
   "execution_count": null,
   "outputs": [],
   "source": [],
   "metadata": {
    "collapsed": false
   }
  },
  {
   "cell_type": "markdown",
   "source": [
    "## Eksperymenty\n",
    "Wszystkie prezentowane wartości są do maksymalnie 4 miejsc po przecinku."
   ],
   "metadata": {
    "collapsed": false
   }
  },
  {
   "cell_type": "markdown",
   "source": [
    "### Przedstawienie metryk\n",
    "\n",
    "- Rank SVM\n",
    "    - Accuracy\n",
    "    - F1\n",
    "    - AUC\n",
    "- ANN-Ch-Constr.\n",
    "    - Accuracy\n",
    "    - F1\n",
    "    - AUC\n",
    "- Głęboka sieć neuronowa\n",
    "    - Accuracy\n",
    "    - F1\n",
    "    - AUC\n"
   ],
   "metadata": {
    "collapsed": false
   }
  },
  {
   "cell_type": "markdown",
   "source": [
    "### Przedstawienie modelu\n",
    "(np funkcje cząstkowe, schemat drzewa ...)."
   ],
   "metadata": {
    "collapsed": false
   }
  },
  {
   "cell_type": "markdown",
   "source": [
    "\n",
    "### Interpretacja\n",
    "- Czy na podstawie uzyskanych parametrów możemy powiedzieć coś o preferencjach\n",
    "użytkowników?\n",
    "- Czy są jakieś kryteria, które nie mają żadnego wpływu, czy też mają wpływ decydujący.\n",
    "- Czy istnieją jakieś progi preferencji?\n",
    "- Czy istnieją oceny kryteriów, które są nierozróżnialne z punktu widzenia preferencji?\n"
   ],
   "metadata": {
    "collapsed": false
   }
  },
  {
   "cell_type": "markdown",
   "source": [
    "### Interpretacja techniką Partial Dependence Plot\n",
    "Wykonaj interpretację modelu korzystając z conajmniej jednej techniki( Global Surrogate,\n",
    "Partial Dependence Plot Permutation Feature Importance ...)\n"
   ],
   "metadata": {
    "collapsed": false
   }
  },
  {
   "cell_type": "markdown",
   "source": [
    "Dla 3 wybranych wariantów dokonaj wyjaśnienia decyzji.\n",
    "- Znajdź minimalną zmianę w ocenach tak aby wariant został przypisany do innej klasy.\n",
    "    – Spróbuj odpowiedzieć na to pytanie w sposób analityczny, opierając się tylko na\n",
    "wartościach parametrów modelu i wyjaśnij, dlaczego taka zmiana jest minimalna\n",
    "(bez próbkowania).\n",
    "    - Wykonaj próbkowanie przestrzeni, nieznacznie zmieniając oceny, tak aby uzyskać\n",
    "inną klasę. Czy wyniki zgadzają się z przewidywaniami teoretycznymi?\n",
    "- Dokonaj wyjaśnienia predykcji za pomocą conajmniej jednej techniki (Anchors LIME,\n",
    "SHAP, ... )\n"
   ],
   "metadata": {
    "collapsed": false
   }
  },
  {
   "cell_type": "markdown",
   "source": [
    "##### Możliwe narzędzia\n",
    "Lista narzędzi, które zawierają różne techniki wyjaśniania predykcji i interpretacji modelu:\n",
    "- Shapash\n",
    "- Alibi\n",
    "- Explainerdashboard\n",
    "- DALEX\n",
    "- eli5\n",
    "- aix360"
   ],
   "metadata": {
    "collapsed": false
   }
  }
 ],
 "metadata": {
  "kernelspec": {
   "display_name": "Python 3",
   "language": "python",
   "name": "python3"
  },
  "language_info": {
   "codemirror_mode": {
    "name": "ipython",
    "version": 2
   },
   "file_extension": ".py",
   "mimetype": "text/x-python",
   "name": "python",
   "nbconvert_exporter": "python",
   "pygments_lexer": "ipython2",
   "version": "2.7.6"
  }
 },
 "nbformat": 4,
 "nbformat_minor": 0
}
