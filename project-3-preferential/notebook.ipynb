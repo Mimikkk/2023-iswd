{
 "cells": [
  {
   "cell_type": "markdown",
   "source": [
    "# Projekt 3 - Eksperymenty i analiza danych\n",
    "## Autorzy\n",
    "- Daniel Zdancewicz [145317]\n",
    "- Alex Terentowicz [145419]\n",
    "\n",
    "## Opis\n",
    "t 3 polega na przeprowadzeniu eksperymentów z użyciem kilku metod i przeprowadzeniu\n",
    "analizy uzyskanych wyników. Znajdź zbiór danych, który zawiera kilka kryteriów monotonicznych, ponad 100 alternatyw i co najmniej 2 klasy (jeśli problem ma więcej klas, możesz je zbinaryzować).\n",
    "\n",
    "Wyobraźmy sobie, że jesteśmy instytucją zajmującą się utylizacją odpadów radioaktywnych. Naszym\n",
    "zadaniem jest zaproponowanie modelu utylizacji takich odpadów dla 30-letniego programu nuklearnego.\n",
    "Wybrano 3 miejsca na potencjalne składowisko, 3 scenariusze czasowe oraz 3 modele finansowania. Ze\n",
    "względu na to, że ostatecznie klient może się nie zgodzić na optymalną dla nas strategię, dlatego chcielibyśmy uzyskać pełne rankingi wszystkich opcji. Zespół ekspertów ocenił wszystkie możliwe scenariusze przez nas rozważane (dane znajdują się w pliku [Nuclear waste management.csv](.\n",
    "\n",
    "\n",
    "Krótko opisz zbiór danych, w tym opisy kryteriów. Dla tego zbioru danych wytrenuj następujące modele:\n",
    "- Jeden prosty, interpretowalny model ML (np. XGBoost, rankSVM lub regresja logistyczna)\n",
    "- Jeden interpretowalny model ANN-MCDA przedstawiony na zajęciach (ANN-Ch-Constr.\n",
    "lub ANN-UTADIS)\n",
    "- Złożony model sici neuronowej zawierającej kilka warstw ukrytych.\n",
    "\n",
    "\n",
    "## Opis zbioru danych\n",
    "\n",
    "### Opisy kryteriów\n"
   ],
   "metadata": {
    "collapsed": false
   }
  },
  {
   "cell_type": "markdown",
   "source": [
    "## Trening modeli"
   ],
   "metadata": {
    "collapsed": false
   }
  },
  {
   "cell_type": "markdown",
   "source": [
    "### Rank SVM — interpretowalny model ML"
   ],
   "metadata": {
    "collapsed": false
   }
  },
  {
   "cell_type": "code",
   "execution_count": null,
   "metadata": {
    "collapsed": true
   },
   "outputs": [],
   "source": []
  },
  {
   "cell_type": "markdown",
   "source": [
    "### ANN-Ch-Constr. — interpretowalny model ANN-MCDA"
   ],
   "metadata": {
    "collapsed": false
   }
  },
  {
   "cell_type": "code",
   "execution_count": null,
   "outputs": [],
   "source": [],
   "metadata": {
    "collapsed": false
   }
  },
  {
   "cell_type": "markdown",
   "source": [
    "### Głęboka sieć neuronowa — model złożony."
   ],
   "metadata": {
    "collapsed": false
   }
  },
  {
   "cell_type": "code",
   "execution_count": null,
   "outputs": [],
   "source": [],
   "metadata": {
    "collapsed": false
   }
  },
  {
   "cell_type": "markdown",
   "source": [
    "## Eksperymenty\n",
    "Wszystkie prezentowane wartości są do maksymalnie 4 miejsc po przecinku."
   ],
   "metadata": {
    "collapsed": false
   }
  },
  {
   "cell_type": "markdown",
   "source": [
    "### Przedstawienie metryk\n",
    "\n",
    "- Rank SVM\n",
    "    - Accuracy\n",
    "    - F1\n",
    "    - AUC\n",
    "- ANN-Ch-Constr.\n",
    "    - Accuracy\n",
    "    - F1\n",
    "    - AUC\n",
    "- Głęboka sieć neuronowa\n",
    "    - Accuracy\n",
    "    - F1\n",
    "    - AUC\n"
   ],
   "metadata": {
    "collapsed": false
   }
  },
  {
   "cell_type": "markdown",
   "source": [
    "### Przedstawienie modelu\n",
    "(np funkcje cząstkowe, schemat drzewa ...)."
   ],
   "metadata": {
    "collapsed": false
   }
  },
  {
   "cell_type": "markdown",
   "source": [
    "\n",
    "### Interpretacja\n",
    "- Czy na podstawie uzyskanych parametrów możemy powiedzieć coś o preferencjach\n",
    "użytkowników?\n",
    "- Czy są jakieś kryteria, które nie mają żadnego wpływu, czy też mają wpływ decydujący.\n",
    "- Czy istnieją jakieś progi preferencji?\n",
    "- Czy istnieją oceny kryteriów, które są nierozróżnialne z punktu widzenia preferencji?\n"
   ],
   "metadata": {
    "collapsed": false
   }
  },
  {
   "cell_type": "markdown",
   "source": [
    "### Interpretacja techniką Partial Dependence Plot\n",
    "Wykonaj interpretację modelu korzystając z conajmniej jednej techniki( Global Surrogate,\n",
    "Partial Dependence Plot Permutation Feature Importance ...)\n"
   ],
   "metadata": {
    "collapsed": false
   }
  },
  {
   "cell_type": "markdown",
   "source": [
    "Dla 3 wybranych wariantów dokonaj wyjaśnienia decyzji.\n",
    "- Znajdź minimalną zmianę w ocenach tak aby wariant został przypisany do innej klasy.\n",
    "    – Spróbuj odpowiedzieć na to pytanie w sposób analityczny, opierając się tylko na\n",
    "wartościach parametrów modelu i wyjaśnij, dlaczego taka zmiana jest minimalna\n",
    "(bez próbkowania).\n",
    "    - Wykonaj próbkowanie przestrzeni, nieznacznie zmieniając oceny, tak aby uzyskać\n",
    "inną klasę. Czy wyniki zgadzają się z przewidywaniami teoretycznymi?\n",
    "- Dokonaj wyjaśnienia predykcji za pomocą conajmniej jednej techniki (Anchors LIME,\n",
    "SHAP, ... )\n"
   ],
   "metadata": {
    "collapsed": false
   }
  },
  {
   "cell_type": "markdown",
   "source": [
    "##### Możliwe narzędzia\n",
    "Lista narzędzi, które zawierają różne techniki wyjaśniania predykcji i interpretacji modelu:\n",
    "- Shapash\n",
    "- Alibi\n",
    "- Explainerdashboard\n",
    "- DALEX\n",
    "- eli5\n",
    "- aix360"
   ],
   "metadata": {
    "collapsed": false
   }
  }
 ],
 "metadata": {
  "kernelspec": {
   "display_name": "Python 3",
   "language": "python",
   "name": "python3"
  },
  "language_info": {
   "codemirror_mode": {
    "name": "ipython",
    "version": 2
   },
   "file_extension": ".py",
   "mimetype": "text/x-python",
   "name": "python",
   "nbconvert_exporter": "python",
   "pygments_lexer": "ipython2",
   "version": "2.7.6"
  }
 },
 "nbformat": 4,
 "nbformat_minor": 0
}
