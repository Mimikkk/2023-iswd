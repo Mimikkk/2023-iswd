{
 "cells": [
  {
   "cell_type": "markdown",
   "source": [
    "# Projekt 3 - Eksperymenty i analiza danych\n",
    "## Autorzy\n",
    "- Daniel Zdancewicz [145317]\n",
    "- Alex Terentowicz [145419]\n",
    "\n",
    "## Opis\n",
    "\n",
    "Projekt polega na przeprowadzeniu eksperymentów z użyciem kilku metod i przeprowadzeniu analizy uzyskanych wyników.\n",
    "Należało odnaleźć zbiór danych, który zawiera kilka kryteriów monotonicznych, ponad 100 alternatyw i co najmniej 2 klasy (jeśli problem ma więcej klas, możesz je zbinaryzować).\n",
    "\n",
    "Krótko opisz zbiór danych, w tym opisy kryteriów. Dla tego zbioru danych wytrenuj następujące modele:\n",
    "- Jeden prosty, interpretowalny model ML (np. XGBoost, rankSVM lub regresja logistyczna)\n",
    "- Jeden interpretowalny model ANN-MCDA przedstawiony na zajęciach (ANN-Ch-Constr. lub ANN-UTADIS)\n",
    "- Złożony model sici neuronowej zawierającej kilka warstw ukrytych.\n",
    "\n",
    "\n",
    "## Opis zbioru danych\n",
    "\n",
    "W tej pracy wybrany zbiór zawierający dane o udzielonych kredytach. Zbiór zawiera 614 rekordów, 13 kolumn i 2 klasy. Kolumny to:\n",
    "- Loan_ID — Identyfikator udzielonego kredytu\n",
    "- Gender — Płeć kredytobiorcy\n",
    "- Married — Stan cywilny kredytobiorcy\n",
    "- Dependents — Liczba osób na utrzymaniu kredytobiorcy\n",
    "- Education — Wykształcenie kredytobiorcy\n",
    "- Self_Employed — Czy kredytobiorca jest samozatrudniony\n",
    "- ApplicantIncome — Miesięczny dochód kredytobiorcy\n",
    "- CoapplicantIncome — Miesięczny dochód współkredytobiorcy\n",
    "- LoanAmount — Kwota kredytu\n",
    "- Loan_Amount_Term — Okres spłaty kredytu w miesiącach\n",
    "- Credit_History — Historia kredytowa kredytobiorcy\n",
    "- Property_Area — Lokalizacja nieruchomości kredytobiorcy\n",
    "- Loan_Status — Czy kredyt został spłacony\n",
    "\n",
    "Źródło danych — [Kaggle](https://www.kaggle.com/altruistdelhite04/loan-prediction-problem-dataset)\n",
    "\n",
    "Jako kryteria monotoniczne wybrano:\n",
    "- ApplicantIncome\n",
    "- CoapplicantIncome\n",
    "- LoanAmount\n",
    "- Loan_Amount_Term\n",
    "\n",
    "Jako kryteria niemonotoniczne wybrano:\n",
    "- Gender\n",
    "- Married\n",
    "- Dependents\n",
    "- Education\n",
    "- Self_Employed\n",
    "- Credit_History\n",
    "- Property_Area\n",
    "\n",
    "Jako klasy wybrano kolumnę Loan_Status, która zawiera informacje o tym czy kredyt został spłacony:\n",
    "- Y — Kredyt został spłacony\n",
    "- N — Kredyt nie został spłacony\n",
    "\n"
   ],
   "metadata": {
    "collapsed": false
   }
  },
  {
   "cell_type": "markdown",
   "source": [
    "## Preprocessing\n",
    "\n",
    "Dane zostały wczytane z pliku csv przy użyciu biblioteki pandas. Po czym dokonano na danych zmian polegajacych na usunięciu kolumny Loan_ID, oraz zamianie wartości kolumny Loan_Status na wartości liczbowe:\n",
    "- Y — 1\n",
    "- N — 0\n",
    "\n",
    "Dodatkowo pozostałe kolumny zostały zamienione na wartości liczbowe przy użyciu kodowania liczbowego, aby z łatwością mogły być przetwarzane przez modele ML."
   ],
   "metadata": {
    "collapsed": false
   }
  },
  {
   "cell_type": "markdown",
   "source": [
    "## Naprawa importów"
   ],
   "metadata": {
    "collapsed": false
   }
  },
  {
   "cell_type": "code",
   "execution_count": 22,
   "outputs": [],
   "source": [
    "import os\n",
    "import sys\n",
    "module_path = os.path.abspath('src')\n",
    "if module_path not in sys.path: sys.path.append(module_path)"
   ],
   "metadata": {
    "collapsed": false
   }
  },
  {
   "cell_type": "code",
   "execution_count": 23,
   "outputs": [],
   "source": [
    "from src.mod.models.manager import ModelManager\n",
    "from src.mod.dataset import LoanDataset\n",
    "\n",
    "dataset = LoanDataset.load()\n",
    "manager = ModelManager"
   ],
   "metadata": {
    "collapsed": false
   }
  },
  {
   "cell_type": "code",
   "execution_count": 24,
   "outputs": [
    {
     "data": {
      "text/plain": "    Loan_ID Gender Married Dependents     Education Self_Employed  \\\n0  LP001002   Male      No          0      Graduate            No   \n1  LP001003   Male     Yes          1      Graduate            No   \n2  LP001005   Male     Yes          0      Graduate           Yes   \n3  LP001006   Male     Yes          0  Not Graduate            No   \n4  LP001008   Male      No          0      Graduate            No   \n\n   ApplicantIncome  CoapplicantIncome  LoanAmount  Loan_Amount_Term  \\\n0             5849                0.0         NaN             360.0   \n1             4583             1508.0       128.0             360.0   \n2             3000                0.0        66.0             360.0   \n3             2583             2358.0       120.0             360.0   \n4             6000                0.0       141.0             360.0   \n\n   Credit_History Property_Area Loan_Status  \n0             1.0         Urban           Y  \n1             1.0         Rural           N  \n2             1.0         Urban           Y  \n3             1.0         Urban           Y  \n4             1.0         Urban           Y  ",
      "text/html": "<div>\n<style scoped>\n    .dataframe tbody tr th:only-of-type {\n        vertical-align: middle;\n    }\n\n    .dataframe tbody tr th {\n        vertical-align: top;\n    }\n\n    .dataframe thead th {\n        text-align: right;\n    }\n</style>\n<table border=\"1\" class=\"dataframe\">\n  <thead>\n    <tr style=\"text-align: right;\">\n      <th></th>\n      <th>Loan_ID</th>\n      <th>Gender</th>\n      <th>Married</th>\n      <th>Dependents</th>\n      <th>Education</th>\n      <th>Self_Employed</th>\n      <th>ApplicantIncome</th>\n      <th>CoapplicantIncome</th>\n      <th>LoanAmount</th>\n      <th>Loan_Amount_Term</th>\n      <th>Credit_History</th>\n      <th>Property_Area</th>\n      <th>Loan_Status</th>\n    </tr>\n  </thead>\n  <tbody>\n    <tr>\n      <th>0</th>\n      <td>LP001002</td>\n      <td>Male</td>\n      <td>No</td>\n      <td>0</td>\n      <td>Graduate</td>\n      <td>No</td>\n      <td>5849</td>\n      <td>0.0</td>\n      <td>NaN</td>\n      <td>360.0</td>\n      <td>1.0</td>\n      <td>Urban</td>\n      <td>Y</td>\n    </tr>\n    <tr>\n      <th>1</th>\n      <td>LP001003</td>\n      <td>Male</td>\n      <td>Yes</td>\n      <td>1</td>\n      <td>Graduate</td>\n      <td>No</td>\n      <td>4583</td>\n      <td>1508.0</td>\n      <td>128.0</td>\n      <td>360.0</td>\n      <td>1.0</td>\n      <td>Rural</td>\n      <td>N</td>\n    </tr>\n    <tr>\n      <th>2</th>\n      <td>LP001005</td>\n      <td>Male</td>\n      <td>Yes</td>\n      <td>0</td>\n      <td>Graduate</td>\n      <td>Yes</td>\n      <td>3000</td>\n      <td>0.0</td>\n      <td>66.0</td>\n      <td>360.0</td>\n      <td>1.0</td>\n      <td>Urban</td>\n      <td>Y</td>\n    </tr>\n    <tr>\n      <th>3</th>\n      <td>LP001006</td>\n      <td>Male</td>\n      <td>Yes</td>\n      <td>0</td>\n      <td>Not Graduate</td>\n      <td>No</td>\n      <td>2583</td>\n      <td>2358.0</td>\n      <td>120.0</td>\n      <td>360.0</td>\n      <td>1.0</td>\n      <td>Urban</td>\n      <td>Y</td>\n    </tr>\n    <tr>\n      <th>4</th>\n      <td>LP001008</td>\n      <td>Male</td>\n      <td>No</td>\n      <td>0</td>\n      <td>Graduate</td>\n      <td>No</td>\n      <td>6000</td>\n      <td>0.0</td>\n      <td>141.0</td>\n      <td>360.0</td>\n      <td>1.0</td>\n      <td>Urban</td>\n      <td>Y</td>\n    </tr>\n  </tbody>\n</table>\n</div>"
     },
     "execution_count": 24,
     "metadata": {},
     "output_type": "execute_result"
    }
   ],
   "source": [
    "dataset.labeled.head()"
   ],
   "metadata": {
    "collapsed": false
   }
  },
  {
   "cell_type": "markdown",
   "source": [
    "## Trening modeli"
   ],
   "metadata": {
    "collapsed": false
   }
  },
  {
   "cell_type": "markdown",
   "source": [
    "### LogisticRegression — interpretowalny model ML"
   ],
   "metadata": {
    "collapsed": false
   }
  },
  {
   "cell_type": "code",
   "execution_count": 47,
   "outputs": [
    {
     "name": "stdout",
     "output_type": "stream",
     "text": [
      "Fitting 10 folds for each of 1 candidates, totalling 10 fits\n",
      "LogisticModel(regressor=LogisticRegression(), validator=GridSearchCV(cv=10, estimator=LogisticRegression(), n_jobs=-1, param_grid={},\n",
      "             refit='accuracy',\n",
      "             scoring={'accuracy': 'accuracy', 'f1': 'f1', 'roc_auc': 'roc_auc'},\n",
      "             verbose=1))\n"
     ]
    }
   ],
   "source": [
    "logistic = ModelManager.use_logistic(dataset, invalidate=True)\n",
    "print(logistic)"
   ],
   "metadata": {
    "collapsed": false
   }
  },
  {
   "cell_type": "code",
   "execution_count": 48,
   "outputs": [
    {
     "name": "stdout",
     "output_type": "stream",
     "text": [
      "Trafność regresji logistycznej ML: 80.83%\n"
     ]
    }
   ],
   "source": [
    "print(f\"Trafność regresji logistycznej ML: {logistic.validator.best_score_*100:.2f}%\")"
   ],
   "metadata": {
    "collapsed": false
   }
  },
  {
   "cell_type": "markdown",
   "source": [
    "Macierz pomyłek:"
   ],
   "metadata": {
    "collapsed": false
   }
  },
  {
   "cell_type": "code",
   "execution_count": 59,
   "outputs": [
    {
     "data": {
      "text/plain": "<Figure size 800x800 with 1 Axes>",
      "image/png": "[encoded data removed]"
     },
     "metadata": {},
     "output_type": "display_data"
    }
   ],
   "source": [
    "import matplotlib.pyplot as plt\n",
    "from sklearn.metrics import confusion_matrix\n",
    "\n",
    "def plot_confusion_matrix():\n",
    "    X, y_true, _ = dataset.preprocess(variant='labeled')\n",
    "    X = logistic._encoder.fit_transform(X)\n",
    "\n",
    "    y_pred = logistic.validator.predict(X)\n",
    "    cm = confusion_matrix(y_true, y_pred)\n",
    "\n",
    "    fig, ax = plt.subplots(figsize=(8, 8))\n",
    "    ax.imshow(cm)\n",
    "    ax.grid(False)\n",
    "    ax.xaxis.set(ticks=(0, 1), ticklabels=('Predicted No', 'Predicted Yes'))\n",
    "    ax.yaxis.set(ticks=(0, 1), ticklabels=('Actual No', 'Actual Yes'))\n",
    "    ax.set_ylim(1.5, -0.5)\n",
    "    for i in range(2):\n",
    "        for j in range(2):\n",
    "            ax.text(j, i, cm[i, j], ha='center', va='center', color='red')\n",
    "    plt.show()\n",
    "\n",
    "plot_confusion_matrix()"
   ],
   "metadata": {
    "collapsed": false
   }
  },
  {
   "cell_type": "code",
   "execution_count": 60,
   "outputs": [
    {
     "name": "stdout",
     "output_type": "stream",
     "text": [
      "              precision    recall  f1-score   support\n",
      "\n",
      "           0       0.95      0.69      0.80       148\n",
      "           1       0.88      0.98      0.93       332\n",
      "\n",
      "    accuracy                           0.89       480\n",
      "   macro avg       0.91      0.84      0.86       480\n",
      "weighted avg       0.90      0.89      0.89       480\n",
      "\n"
     ]
    }
   ],
   "source": [
    "from sklearn.metrics import classification_report\n",
    "\n",
    "def print_classification_report():\n",
    "    X, y_true, _ = dataset.preprocess(variant='labeled')\n",
    "    X = logistic._encoder.fit_transform(X)\n",
    "\n",
    "    y_pred = logistic.validator.predict(X)\n",
    "    print(classification_report(y_true, y_pred))\n",
    "\n",
    "print_classification_report()"
   ],
   "metadata": {
    "collapsed": false
   }
  },
  {
   "cell_type": "code",
   "execution_count": 61,
   "outputs": [
    {
     "data": {
      "text/plain": "<Figure size 800x800 with 1 Axes>",
      "image/png": "[encoded data removed]"
     },
     "metadata": {},
     "output_type": "display_data"
    }
   ],
   "source": [
    "from sklearn.metrics import roc_curve, roc_auc_score\n",
    "\n",
    "def plot_roc_curve():\n",
    "    X, y_true, _ = dataset.preprocess(variant='labeled')\n",
    "    X = logistic._encoder.fit_transform(X)\n",
    "\n",
    "    y_pred = logistic.validator.predict_proba(X)[:, 1]\n",
    "    fpr, tpr, _ = roc_curve(y_true, y_pred)\n",
    "    auc = roc_auc_score(y_true, y_pred)\n",
    "\n",
    "    fig, ax = plt.subplots(figsize=(8, 8))\n",
    "    ax.plot(fpr, tpr, label=f\"AUC = {auc:.2f}\")\n",
    "    ax.plot([0, 1], [0, 1], color='red', linestyle='--')\n",
    "    ax.set_xlabel('False Positive Rate')\n",
    "    ax.set_ylabel('True Positive Rate')\n",
    "    ax.legend()\n",
    "    plt.show()\n",
    "\n",
    "plot_roc_curve()"
   ],
   "metadata": {
    "collapsed": false
   }
  },
  {
   "cell_type": "markdown",
   "source": [
    "### ANN-Ch-Constr. — interpretowalny model ANN-MCDA"
   ],
   "metadata": {
    "collapsed": false
   }
  },
  {
   "cell_type": "code",
   "execution_count": null,
   "outputs": [],
   "source": [
    "ann = manager.use_ann(dataset)"
   ],
   "metadata": {
    "collapsed": false
   }
  },
  {
   "cell_type": "markdown",
   "source": [
    "### Głęboka sieć neuronowa — model złożony.\n",
    "\n",
    "Jako model złożony została użyta głęboka sieć neuronowa o architekturze:\n",
    "\n",
    "Sequential(\n",
    "  (0): Linear(in_features=11, out_features=1024, bias=True)\n",
    "  (1): ReLU()\n",
    "  (2): Linear(in_features=1024, out_features=512, bias=True)\n",
    "  (3): ReLU()\n",
    "  (4): BatchNorm1d(512, eps=1e-05, momentum=0.1, affine=True, track_running_stats=True)\n",
    "  (5): Dropout(p=0.3, inplace=False)\n",
    "  (6): Linear(in_features=512, out_features=256, bias=True)\n",
    "  (7): ReLU()\n",
    "  (8): BatchNorm1d(256, eps=1e-05, momentum=0.1, affine=True, track_running_stats=True)\n",
    "  (9): Dropout(p=0.1, inplace=False)\n",
    "  (10): Linear(in_features=256, out_features=128, bias=True)\n",
    "  (11): ReLU()\n",
    "  (12): Linear(in_features=128, out_features=128, bias=True)\n",
    "  (13): ReLU()\n",
    "  (14): Linear(in_features=128, out_features=64, bias=True)\n",
    "  (15): ReLU()\n",
    "  (16): Linear(in_features=64, out_features=32, bias=True)\n",
    "  (17): ReLU()\n",
    "  (18): Linear(in_features=32, out_features=1, bias=True)\n",
    "  (19): Sigmoid()\n",
    ")\n"
   ],
   "metadata": {
    "collapsed": false
   }
  },
  {
   "cell_type": "code",
   "execution_count": null,
   "outputs": [],
   "source": [
    "dnn = manager.use_dnn(dataset)"
   ],
   "metadata": {
    "collapsed": false
   }
  },
  {
   "cell_type": "markdown",
   "source": [
    "## Eksperymenty\n",
    "Wszystkie prezentowane wartości są do maksymalnie 4 miejsc po przecinku."
   ],
   "metadata": {
    "collapsed": false
   }
  },
  {
   "cell_type": "markdown",
   "source": [
    "### Przedstawienie metryk\n",
    "\n",
    "- Rank SVM\n",
    "    - Accuracy\n",
    "    - F1\n",
    "    - AUC\n",
    "- ANN-Ch-Constr.\n",
    "    - Accuracy\n",
    "    - F1\n",
    "    - AUC\n",
    "- Głęboka sieć neuronowa\n",
    "    - Accuracy\n",
    "    - F1\n",
    "    - AUC\n"
   ],
   "metadata": {
    "collapsed": false
   }
  },
  {
   "cell_type": "markdown",
   "source": [
    "### Przedstawienie modelu\n",
    "(np funkcje cząstkowe, schemat drzewa ...)."
   ],
   "metadata": {
    "collapsed": false
   }
  },
  {
   "cell_type": "markdown",
   "source": [
    "\n",
    "### Interpretacja\n",
    "- Czy na podstawie uzyskanych parametrów możemy powiedzieć coś o preferencjach\n",
    "użytkowników?\n",
    "- Czy są jakieś kryteria, które nie mają żadnego wpływu, czy też mają wpływ decydujący.\n",
    "- Czy istnieją jakieś progi preferencji?\n",
    "- Czy istnieją oceny kryteriów, które są nierozróżnialne z punktu widzenia preferencji?\n"
   ],
   "metadata": {
    "collapsed": false
   }
  },
  {
   "cell_type": "markdown",
   "source": [
    "### Interpretacja techniką Partial Dependence Plot\n",
    "Wykonaj interpretację modelu korzystając z conajmniej jednej techniki( Global Surrogate,\n",
    "Partial Dependence Plot Permutation Feature Importance ...)\n"
   ],
   "metadata": {
    "collapsed": false
   }
  },
  {
   "cell_type": "markdown",
   "source": [
    "Dla 3 wybranych wariantów dokonaj wyjaśnienia decyzji.\n",
    "- Znajdź minimalną zmianę w ocenach tak aby wariant został przypisany do innej klasy.\n",
    "    – Spróbuj odpowiedzieć na to pytanie w sposób analityczny, opierając się tylko na\n",
    "wartościach parametrów modelu i wyjaśnij, dlaczego taka zmiana jest minimalna\n",
    "(bez próbkowania).\n",
    "    - Wykonaj próbkowanie przestrzeni, nieznacznie zmieniając oceny, tak aby uzyskać\n",
    "inną klasę. Czy wyniki zgadzają się z przewidywaniami teoretycznymi?\n",
    "- Dokonaj wyjaśnienia predykcji za pomocą conajmniej jednej techniki (Anchors LIME,\n",
    "SHAP, ... )\n"
   ],
   "metadata": {
    "collapsed": false
   }
  },
  {
   "cell_type": "markdown",
   "source": [
    "##### Możliwe narzędzia\n",
    "Lista narzędzi, które zawierają różne techniki wyjaśniania predykcji i interpretacji modelu:\n",
    "- Shapash\n",
    "- Alibi\n",
    "- Explainerdashboard\n",
    "- DALEX\n",
    "- eli5\n",
    "- aix360#%%\n"
   ],
   "metadata": {
    "collapsed": false
   }
  }
 ],
 "metadata": {
  "kernelspec": {
   "display_name": "Python 3",
   "language": "python",
   "name": "python3"
  },
  "language_info": {
   "codemirror_mode": {
    "name": "ipython",
    "version": 2
   },
   "file_extension": ".py",
   "mimetype": "text/x-python",
   "name": "python",
   "nbconvert_exporter": "python",
   "pygments_lexer": "ipython2",
   "version": "2.7.6"
  }
 },
 "nbformat": 4,
 "nbformat_minor": 0
}
