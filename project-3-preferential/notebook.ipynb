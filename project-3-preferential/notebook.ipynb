{
 "cells": [
  {
   "cell_type": "markdown",
   "source": [
    "# Projekt 3 - Eksperymenty i analiza danych\n",
    "## Autorzy\n",
    "- Daniel Zdancewicz [145317]\n",
    "- Alex Terentowicz [145419]\n",
    "\n",
    "## Opis\n",
    "\n",
    "Projekt polega na przeprowadzeniu eksperymentów z użyciem kilku metod i przeprowadzeniu analizy uzyskanych wyników.\n",
    "Należało odnaleźć zbiór danych, który zawiera kilka kryteriów monotonicznych, ponad 100 alternatyw i co najmniej 2 klasy (jeśli problem ma więcej klas, możesz je zbinaryzować).\n",
    "\n",
    "Krótko opisz zbiór danych, w tym opisy kryteriów. Dla tego zbioru danych wytrenuj następujące modele:\n",
    "- Jeden prosty, interpretowalny model ML (np. XGBoost, rankSVM lub regresja logistyczna)\n",
    "- Jeden interpretowalny model ANN-MCDA przedstawiony na zajęciach (ANN-Ch-Constr. lub ANN-UTADIS)\n",
    "- Złożony model sici neuronowej zawierającej kilka warstw ukrytych.\n",
    "\n",
    "\n",
    "## Opis zbioru danych\n",
    "\n",
    "W tej pracy wybrany zbiór zawierający dane o udzielonych kredytach. Zbiór zawiera 614 rekordów, 13 kolumn i 2 klasy. Kolumny to:\n",
    "- Loan_ID — Identyfikator udzielonego kredytu\n",
    "- Gender — Płeć kredytobiorcy\n",
    "- Married — Stan cywilny kredytobiorcy\n",
    "- Dependents — Liczba osób na utrzymaniu kredytobiorcy\n",
    "- Education — Wykształcenie kredytobiorcy\n",
    "- Self_Employed — Czy kredytobiorca jest samozatrudniony\n",
    "- ApplicantIncome — Miesięczny dochód kredytobiorcy\n",
    "- CoapplicantIncome — Miesięczny dochód współkredytobiorcy\n",
    "- LoanAmount — Kwota kredytu\n",
    "- Loan_Amount_Term — Okres spłaty kredytu w miesiącach\n",
    "- Credit_History — Historia kredytowa kredytobiorcy\n",
    "- Property_Area — Lokalizacja nieruchomości kredytobiorcy\n",
    "- Loan_Status — Czy kredyt został spłacony\n",
    "\n",
    "Źródło danych — [Kaggle](https://www.kaggle.com/altruistdelhite04/loan-prediction-problem-dataset)\n",
    "\n",
    "Jako kryteria monotoniczne wybrano:\n",
    "- ApplicantIncome\n",
    "- CoapplicantIncome\n",
    "- LoanAmount\n",
    "- Loan_Amount_Term\n",
    "\n",
    "Jako kryteria niemonotoniczne wybrano:\n",
    "- Gender\n",
    "- Married\n",
    "- Dependents\n",
    "- Education\n",
    "- Self_Employed\n",
    "- Credit_History\n",
    "- Property_Area\n",
    "\n",
    "Jako klasy wybrano kolumnę Loan_Status, która zawiera informacje o tym czy kredyt został spłacony:\n",
    "- Y — Kredyt został spłacony\n",
    "- N — Kredyt nie został spłacony\n",
    "\n",
    "\n",
    "### Opisy kryteriów\n"
   ],
   "metadata": {
    "collapsed": false
   }
  },
  {
   "cell_type": "code",
   "execution_count": 1,
   "outputs": [],
   "source": [
    "import pandas as pd\n",
    "import numpy as np\n",
    "import matplotlib.pyplot as plt\n",
    "\n",
    "from pandas import DataFrame\n",
    "\n",
    "def load() -> tuple[DataFrame, DataFrame]:\n",
    "  return tuple([pd.read_csv(f\"./resources/datasets/loan_sanction_{type_}.csv\") for type_ in [\"train\", \"test\"]])\n"
   ],
   "metadata": {
    "collapsed": false
   }
  },
  {
   "cell_type": "code",
   "execution_count": 3,
   "outputs": [
    {
     "data": {
      "text/plain": "       ApplicantIncome  CoapplicantIncome  LoanAmount  Loan_Amount_Term  \\\ncount       614.000000         614.000000  592.000000         600.00000   \nmean       5403.459283        1621.245798  146.412162         342.00000   \nstd        6109.041673        2926.248369   85.587325          65.12041   \nmin         150.000000           0.000000    9.000000          12.00000   \n25%        2877.500000           0.000000  100.000000         360.00000   \n50%        3812.500000        1188.500000  128.000000         360.00000   \n75%        5795.000000        2297.250000  168.000000         360.00000   \nmax       81000.000000       41667.000000  700.000000         480.00000   \n\n       Credit_History  \ncount      564.000000  \nmean         0.842199  \nstd          0.364878  \nmin          0.000000  \n25%          1.000000  \n50%          1.000000  \n75%          1.000000  \nmax          1.000000  ",
      "text/html": "<div>\n<style scoped>\n    .dataframe tbody tr th:only-of-type {\n        vertical-align: middle;\n    }\n\n    .dataframe tbody tr th {\n        vertical-align: top;\n    }\n\n    .dataframe thead th {\n        text-align: right;\n    }\n</style>\n<table border=\"1\" class=\"dataframe\">\n  <thead>\n    <tr style=\"text-align: right;\">\n      <th></th>\n      <th>ApplicantIncome</th>\n      <th>CoapplicantIncome</th>\n      <th>LoanAmount</th>\n      <th>Loan_Amount_Term</th>\n      <th>Credit_History</th>\n    </tr>\n  </thead>\n  <tbody>\n    <tr>\n      <th>count</th>\n      <td>614.000000</td>\n      <td>614.000000</td>\n      <td>592.000000</td>\n      <td>600.00000</td>\n      <td>564.000000</td>\n    </tr>\n    <tr>\n      <th>mean</th>\n      <td>5403.459283</td>\n      <td>1621.245798</td>\n      <td>146.412162</td>\n      <td>342.00000</td>\n      <td>0.842199</td>\n    </tr>\n    <tr>\n      <th>std</th>\n      <td>6109.041673</td>\n      <td>2926.248369</td>\n      <td>85.587325</td>\n      <td>65.12041</td>\n      <td>0.364878</td>\n    </tr>\n    <tr>\n      <th>min</th>\n      <td>150.000000</td>\n      <td>0.000000</td>\n      <td>9.000000</td>\n      <td>12.00000</td>\n      <td>0.000000</td>\n    </tr>\n    <tr>\n      <th>25%</th>\n      <td>2877.500000</td>\n      <td>0.000000</td>\n      <td>100.000000</td>\n      <td>360.00000</td>\n      <td>1.000000</td>\n    </tr>\n    <tr>\n      <th>50%</th>\n      <td>3812.500000</td>\n      <td>1188.500000</td>\n      <td>128.000000</td>\n      <td>360.00000</td>\n      <td>1.000000</td>\n    </tr>\n    <tr>\n      <th>75%</th>\n      <td>5795.000000</td>\n      <td>2297.250000</td>\n      <td>168.000000</td>\n      <td>360.00000</td>\n      <td>1.000000</td>\n    </tr>\n    <tr>\n      <th>max</th>\n      <td>81000.000000</td>\n      <td>41667.000000</td>\n      <td>700.000000</td>\n      <td>480.00000</td>\n      <td>1.000000</td>\n    </tr>\n  </tbody>\n</table>\n</div>"
     },
     "execution_count": 3,
     "metadata": {},
     "output_type": "execute_result"
    }
   ],
   "source": [
    "train, test = load()\n",
    "\n",
    "train.describe()"
   ],
   "metadata": {
    "collapsed": false,
    "ExecuteTime": {
     "end_time": "2023-05-19T11:03:47.578957432Z",
     "start_time": "2023-05-19T11:03:47.546883234Z"
    }
   }
  },
  {
   "cell_type": "code",
   "execution_count": 2,
   "outputs": [
    {
     "ename": "NameError",
     "evalue": "name 'train' is not defined",
     "output_type": "error",
     "traceback": [
      "\u001B[1;31m---------------------------------------------------------------------------\u001B[0m",
      "\u001B[1;31mNameError\u001B[0m                                 Traceback (most recent call last)",
      "Cell \u001B[1;32mIn[2], line 1\u001B[0m\n\u001B[1;32m----> 1\u001B[0m \u001B[43mtrain\u001B[49m\u001B[38;5;241m.\u001B[39mhead()\n",
      "\u001B[1;31mNameError\u001B[0m: name 'train' is not defined"
     ]
    }
   ],
   "source": [
    "train.head()"
   ],
   "metadata": {
    "collapsed": false,
    "ExecuteTime": {
     "end_time": "2023-05-19T11:03:47.707101241Z",
     "start_time": "2023-05-19T11:03:47.651409196Z"
    }
   }
  },
  {
   "cell_type": "raw",
   "source": [],
   "metadata": {
    "collapsed": false
   }
  },
  {
   "cell_type": "markdown",
   "source": [
    "## Preprocessing"
   ],
   "metadata": {
    "collapsed": false
   }
  },
  {
   "cell_type": "code",
   "execution_count": 68,
   "outputs": [
    {
     "name": "stdout",
     "output_type": "stream",
     "text": [
      "Gender: ['Male' 'Female' nan]\n",
      "Married: ['No' 'Yes' nan]\n",
      "Education: ['Graduate' 'Not Graduate']\n",
      "Dependents: ['0' '1' '2' '3+' nan]\n",
      "Self_Employed: ['No' 'Yes' nan]\n",
      "Property_Area: ['Urban' 'Rural' 'Semiurban']\n"
     ]
    }
   ],
   "source": [
    "encoded_cols = [\"Gender\", \"Married\", \"Education\", \"Dependents\", \"Self_Employed\", \"Property_Area\"]\n",
    "for col in encoded_cols:\n",
    "  print(f\"{col}: {train[col].unique()}\")"
   ],
   "metadata": {
    "collapsed": false,
    "ExecuteTime": {
     "end_time": "2023-05-19T11:03:52.717387516Z",
     "start_time": "2023-05-19T11:03:52.711792276Z"
    }
   }
  },
  {
   "cell_type": "code",
   "execution_count": 54,
   "outputs": [
    {
     "data": {
      "text/plain": "           Gender     Married  Dependents   Education  Self_Employed   \ncount  480.000000  480.000000  480.000000  480.000000     480.000000  \\\nmean     0.820833    0.647917    0.777083    0.202083       0.137500   \nstd      0.383892    0.478118    1.020815    0.401973       0.344734   \nmin      0.000000    0.000000    0.000000    0.000000       0.000000   \n25%      1.000000    0.000000    0.000000    0.000000       0.000000   \n50%      1.000000    1.000000    0.000000    0.000000       0.000000   \n75%      1.000000    1.000000    2.000000    0.000000       0.000000   \nmax      1.000000    1.000000    3.000000    1.000000       1.000000   \n\n       ApplicantIncome  CoapplicantIncome  LoanAmount  Loan_Amount_Term   \ncount       480.000000         480.000000  480.000000        480.000000  \\\nmean       5364.231250        1581.093583  144.735417        342.050000   \nstd        5668.251251        2617.692267   80.508164         65.212401   \nmin         150.000000           0.000000    9.000000         36.000000   \n25%        2898.750000           0.000000  100.000000        360.000000   \n50%        3859.000000        1084.500000  128.000000        360.000000   \n75%        5852.500000        2253.250000  170.000000        360.000000   \nmax       81000.000000       33837.000000  600.000000        480.000000   \n\n       Credit_History  Property_Area  Loan_Status  \ncount      480.000000     480.000000   480.000000  \nmean         0.854167       1.022917     0.691667  \nstd          0.353307       0.776411     0.462287  \nmin          0.000000       0.000000     0.000000  \n25%          1.000000       0.000000     0.000000  \n50%          1.000000       1.000000     1.000000  \n75%          1.000000       2.000000     1.000000  \nmax          1.000000       2.000000     1.000000  ",
      "text/html": "<div>\n<style scoped>\n    .dataframe tbody tr th:only-of-type {\n        vertical-align: middle;\n    }\n\n    .dataframe tbody tr th {\n        vertical-align: top;\n    }\n\n    .dataframe thead th {\n        text-align: right;\n    }\n</style>\n<table border=\"1\" class=\"dataframe\">\n  <thead>\n    <tr style=\"text-align: right;\">\n      <th></th>\n      <th>Gender</th>\n      <th>Married</th>\n      <th>Dependents</th>\n      <th>Education</th>\n      <th>Self_Employed</th>\n      <th>ApplicantIncome</th>\n      <th>CoapplicantIncome</th>\n      <th>LoanAmount</th>\n      <th>Loan_Amount_Term</th>\n      <th>Credit_History</th>\n      <th>Property_Area</th>\n      <th>Loan_Status</th>\n    </tr>\n  </thead>\n  <tbody>\n    <tr>\n      <th>count</th>\n      <td>480.000000</td>\n      <td>480.000000</td>\n      <td>480.000000</td>\n      <td>480.000000</td>\n      <td>480.000000</td>\n      <td>480.000000</td>\n      <td>480.000000</td>\n      <td>480.000000</td>\n      <td>480.000000</td>\n      <td>480.000000</td>\n      <td>480.000000</td>\n      <td>480.000000</td>\n    </tr>\n    <tr>\n      <th>mean</th>\n      <td>0.820833</td>\n      <td>0.647917</td>\n      <td>0.777083</td>\n      <td>0.202083</td>\n      <td>0.137500</td>\n      <td>5364.231250</td>\n      <td>1581.093583</td>\n      <td>144.735417</td>\n      <td>342.050000</td>\n      <td>0.854167</td>\n      <td>1.022917</td>\n      <td>0.691667</td>\n    </tr>\n    <tr>\n      <th>std</th>\n      <td>0.383892</td>\n      <td>0.478118</td>\n      <td>1.020815</td>\n      <td>0.401973</td>\n      <td>0.344734</td>\n      <td>5668.251251</td>\n      <td>2617.692267</td>\n      <td>80.508164</td>\n      <td>65.212401</td>\n      <td>0.353307</td>\n      <td>0.776411</td>\n      <td>0.462287</td>\n    </tr>\n    <tr>\n      <th>min</th>\n      <td>0.000000</td>\n      <td>0.000000</td>\n      <td>0.000000</td>\n      <td>0.000000</td>\n      <td>0.000000</td>\n      <td>150.000000</td>\n      <td>0.000000</td>\n      <td>9.000000</td>\n      <td>36.000000</td>\n      <td>0.000000</td>\n      <td>0.000000</td>\n      <td>0.000000</td>\n    </tr>\n    <tr>\n      <th>25%</th>\n      <td>1.000000</td>\n      <td>0.000000</td>\n      <td>0.000000</td>\n      <td>0.000000</td>\n      <td>0.000000</td>\n      <td>2898.750000</td>\n      <td>0.000000</td>\n      <td>100.000000</td>\n      <td>360.000000</td>\n      <td>1.000000</td>\n      <td>0.000000</td>\n      <td>0.000000</td>\n    </tr>\n    <tr>\n      <th>50%</th>\n      <td>1.000000</td>\n      <td>1.000000</td>\n      <td>0.000000</td>\n      <td>0.000000</td>\n      <td>0.000000</td>\n      <td>3859.000000</td>\n      <td>1084.500000</td>\n      <td>128.000000</td>\n      <td>360.000000</td>\n      <td>1.000000</td>\n      <td>1.000000</td>\n      <td>1.000000</td>\n    </tr>\n    <tr>\n      <th>75%</th>\n      <td>1.000000</td>\n      <td>1.000000</td>\n      <td>2.000000</td>\n      <td>0.000000</td>\n      <td>0.000000</td>\n      <td>5852.500000</td>\n      <td>2253.250000</td>\n      <td>170.000000</td>\n      <td>360.000000</td>\n      <td>1.000000</td>\n      <td>2.000000</td>\n      <td>1.000000</td>\n    </tr>\n    <tr>\n      <th>max</th>\n      <td>1.000000</td>\n      <td>1.000000</td>\n      <td>3.000000</td>\n      <td>1.000000</td>\n      <td>1.000000</td>\n      <td>81000.000000</td>\n      <td>33837.000000</td>\n      <td>600.000000</td>\n      <td>480.000000</td>\n      <td>1.000000</td>\n      <td>2.000000</td>\n      <td>1.000000</td>\n    </tr>\n  </tbody>\n</table>\n</div>"
     },
     "execution_count": 54,
     "metadata": {},
     "output_type": "execute_result"
    }
   ],
   "source": [
    "from sklearn.preprocessing import LabelEncoder\n",
    "\n",
    "def preprocess(df):\n",
    "  df = df.copy()\n",
    "  df = df.dropna()\n",
    "  # bo w danych testowych nie ma kolumny:\n",
    "  if \"Loan_Status\" in df.columns:\n",
    "    encoded_cols.append(\"Loan_Status\")\n",
    "\n",
    "  # te linijke chce zamienic na sztywne encodowanie ordinal kolumn na encoding w odpowiedniej kolejnosci\n",
    "  # czyli zeby property_area było ['Urban' 'Semiurban' 'Rural'] -> [0, 1, 2]\n",
    "  # oraz w dependents zmienic tylko typ i \"3+\" na \"3\"\n",
    "  df[encoded_cols] = df[encoded_cols].apply(LabelEncoder().fit_transform)\n",
    "\n",
    "  return df\n",
    "\n",
    "def drop_ids_and_map(df):\n",
    "  # create map of loan_id to index\n",
    "  df_map = dict(zip(df[\"Loan_ID\"], df.index))\n",
    "  df = df.drop(columns=[\"Loan_ID\"])\n",
    "  return df, df_map\n",
    "\n",
    "train, test = (preprocess(df) for df in [train, test])\n",
    "(train, train_map), (test, test_map) = (drop_ids_and_map(df) for df in [train, test])\n",
    "train.describe()"
   ],
   "metadata": {
    "collapsed": false,
    "ExecuteTime": {
     "end_time": "2023-05-19T10:57:35.333591642Z",
     "start_time": "2023-05-19T10:57:35.227930336Z"
    }
   }
  },
  {
   "cell_type": "code",
   "execution_count": 56,
   "outputs": [
    {
     "data": {
      "text/plain": "Gender                  1.0\nMarried                 1.0\nDependents              0.0\nEducation               0.0\nSelf_Employed           1.0\nApplicantIncome      3000.0\nCoapplicantIncome       0.0\nLoanAmount             66.0\nLoan_Amount_Term      360.0\nCredit_History          1.0\nProperty_Area           2.0\nLoan_Status             1.0\nName: 2, dtype: float64"
     },
     "execution_count": 56,
     "metadata": {},
     "output_type": "execute_result"
    }
   ],
   "source": [
    "train.iloc[train_map[\"LP001003\"]]"
   ],
   "metadata": {
    "collapsed": false,
    "ExecuteTime": {
     "end_time": "2023-05-19T10:58:25.415998001Z",
     "start_time": "2023-05-19T10:58:25.371246999Z"
    }
   }
  },
  {
   "cell_type": "code",
   "execution_count": 49,
   "outputs": [
    {
     "data": {
      "text/plain": "Gender                 int64\nMarried                int64\nDependents            object\nEducation              int64\nSelf_Employed          int64\nApplicantIncome        int64\nCoapplicantIncome    float64\nLoanAmount           float64\nLoan_Amount_Term     float64\nCredit_History       float64\nProperty_Area          int64\nLoan_Status            int64\ndtype: object"
     },
     "execution_count": 49,
     "metadata": {},
     "output_type": "execute_result"
    }
   ],
   "source": [
    "# show types of data\n",
    "train.dtypes"
   ],
   "metadata": {
    "collapsed": false,
    "ExecuteTime": {
     "end_time": "2023-05-19T10:55:44.408787556Z",
     "start_time": "2023-05-19T10:55:44.400298627Z"
    }
   }
  },
  {
   "cell_type": "code",
   "execution_count": 48,
   "outputs": [
    {
     "ename": "ValueError",
     "evalue": "could not convert string to float: '3+'",
     "output_type": "error",
     "traceback": [
      "\u001B[0;31m---------------------------------------------------------------------------\u001B[0m",
      "\u001B[0;31mValueError\u001B[0m                                Traceback (most recent call last)",
      "Cell \u001B[0;32mIn[48], line 1\u001B[0m\n\u001B[0;32m----> 1\u001B[0m \u001B[43mtrain\u001B[49m\u001B[38;5;241;43m.\u001B[39;49m\u001B[43mcorr\u001B[49m\u001B[43m(\u001B[49m\u001B[43m)\u001B[49m\n",
      "File \u001B[0;32m~/Repos/ISWD/2023-iswd/project-3-preferential/venv/lib/python3.10/site-packages/pandas/core/frame.py:10059\u001B[0m, in \u001B[0;36mDataFrame.corr\u001B[0;34m(self, method, min_periods, numeric_only)\u001B[0m\n\u001B[1;32m  10057\u001B[0m cols \u001B[38;5;241m=\u001B[39m data\u001B[38;5;241m.\u001B[39mcolumns\n\u001B[1;32m  10058\u001B[0m idx \u001B[38;5;241m=\u001B[39m cols\u001B[38;5;241m.\u001B[39mcopy()\n\u001B[0;32m> 10059\u001B[0m mat \u001B[38;5;241m=\u001B[39m \u001B[43mdata\u001B[49m\u001B[38;5;241;43m.\u001B[39;49m\u001B[43mto_numpy\u001B[49m\u001B[43m(\u001B[49m\u001B[43mdtype\u001B[49m\u001B[38;5;241;43m=\u001B[39;49m\u001B[38;5;28;43mfloat\u001B[39;49m\u001B[43m,\u001B[49m\u001B[43m \u001B[49m\u001B[43mna_value\u001B[49m\u001B[38;5;241;43m=\u001B[39;49m\u001B[43mnp\u001B[49m\u001B[38;5;241;43m.\u001B[39;49m\u001B[43mnan\u001B[49m\u001B[43m,\u001B[49m\u001B[43m \u001B[49m\u001B[43mcopy\u001B[49m\u001B[38;5;241;43m=\u001B[39;49m\u001B[38;5;28;43;01mFalse\u001B[39;49;00m\u001B[43m)\u001B[49m\n\u001B[1;32m  10061\u001B[0m \u001B[38;5;28;01mif\u001B[39;00m method \u001B[38;5;241m==\u001B[39m \u001B[38;5;124m\"\u001B[39m\u001B[38;5;124mpearson\u001B[39m\u001B[38;5;124m\"\u001B[39m:\n\u001B[1;32m  10062\u001B[0m     correl \u001B[38;5;241m=\u001B[39m libalgos\u001B[38;5;241m.\u001B[39mnancorr(mat, minp\u001B[38;5;241m=\u001B[39mmin_periods)\n",
      "File \u001B[0;32m~/Repos/ISWD/2023-iswd/project-3-preferential/venv/lib/python3.10/site-packages/pandas/core/frame.py:1838\u001B[0m, in \u001B[0;36mDataFrame.to_numpy\u001B[0;34m(self, dtype, copy, na_value)\u001B[0m\n\u001B[1;32m   1836\u001B[0m \u001B[38;5;28;01mif\u001B[39;00m dtype \u001B[38;5;129;01mis\u001B[39;00m \u001B[38;5;129;01mnot\u001B[39;00m \u001B[38;5;28;01mNone\u001B[39;00m:\n\u001B[1;32m   1837\u001B[0m     dtype \u001B[38;5;241m=\u001B[39m np\u001B[38;5;241m.\u001B[39mdtype(dtype)\n\u001B[0;32m-> 1838\u001B[0m result \u001B[38;5;241m=\u001B[39m \u001B[38;5;28;43mself\u001B[39;49m\u001B[38;5;241;43m.\u001B[39;49m\u001B[43m_mgr\u001B[49m\u001B[38;5;241;43m.\u001B[39;49m\u001B[43mas_array\u001B[49m\u001B[43m(\u001B[49m\u001B[43mdtype\u001B[49m\u001B[38;5;241;43m=\u001B[39;49m\u001B[43mdtype\u001B[49m\u001B[43m,\u001B[49m\u001B[43m \u001B[49m\u001B[43mcopy\u001B[49m\u001B[38;5;241;43m=\u001B[39;49m\u001B[43mcopy\u001B[49m\u001B[43m,\u001B[49m\u001B[43m \u001B[49m\u001B[43mna_value\u001B[49m\u001B[38;5;241;43m=\u001B[39;49m\u001B[43mna_value\u001B[49m\u001B[43m)\u001B[49m\n\u001B[1;32m   1839\u001B[0m \u001B[38;5;28;01mif\u001B[39;00m result\u001B[38;5;241m.\u001B[39mdtype \u001B[38;5;129;01mis\u001B[39;00m \u001B[38;5;129;01mnot\u001B[39;00m dtype:\n\u001B[1;32m   1840\u001B[0m     result \u001B[38;5;241m=\u001B[39m np\u001B[38;5;241m.\u001B[39marray(result, dtype\u001B[38;5;241m=\u001B[39mdtype, copy\u001B[38;5;241m=\u001B[39m\u001B[38;5;28;01mFalse\u001B[39;00m)\n",
      "File \u001B[0;32m~/Repos/ISWD/2023-iswd/project-3-preferential/venv/lib/python3.10/site-packages/pandas/core/internals/managers.py:1732\u001B[0m, in \u001B[0;36mBlockManager.as_array\u001B[0;34m(self, dtype, copy, na_value)\u001B[0m\n\u001B[1;32m   1730\u001B[0m         arr\u001B[38;5;241m.\u001B[39mflags\u001B[38;5;241m.\u001B[39mwriteable \u001B[38;5;241m=\u001B[39m \u001B[38;5;28;01mFalse\u001B[39;00m\n\u001B[1;32m   1731\u001B[0m \u001B[38;5;28;01melse\u001B[39;00m:\n\u001B[0;32m-> 1732\u001B[0m     arr \u001B[38;5;241m=\u001B[39m \u001B[38;5;28;43mself\u001B[39;49m\u001B[38;5;241;43m.\u001B[39;49m\u001B[43m_interleave\u001B[49m\u001B[43m(\u001B[49m\u001B[43mdtype\u001B[49m\u001B[38;5;241;43m=\u001B[39;49m\u001B[43mdtype\u001B[49m\u001B[43m,\u001B[49m\u001B[43m \u001B[49m\u001B[43mna_value\u001B[49m\u001B[38;5;241;43m=\u001B[39;49m\u001B[43mna_value\u001B[49m\u001B[43m)\u001B[49m\n\u001B[1;32m   1733\u001B[0m     \u001B[38;5;66;03m# The underlying data was copied within _interleave, so no need\u001B[39;00m\n\u001B[1;32m   1734\u001B[0m     \u001B[38;5;66;03m# to further copy if copy=True or setting na_value\u001B[39;00m\n\u001B[1;32m   1736\u001B[0m \u001B[38;5;28;01mif\u001B[39;00m na_value \u001B[38;5;129;01mis\u001B[39;00m \u001B[38;5;129;01mnot\u001B[39;00m lib\u001B[38;5;241m.\u001B[39mno_default:\n",
      "File \u001B[0;32m~/Repos/ISWD/2023-iswd/project-3-preferential/venv/lib/python3.10/site-packages/pandas/core/internals/managers.py:1794\u001B[0m, in \u001B[0;36mBlockManager._interleave\u001B[0;34m(self, dtype, na_value)\u001B[0m\n\u001B[1;32m   1792\u001B[0m     \u001B[38;5;28;01melse\u001B[39;00m:\n\u001B[1;32m   1793\u001B[0m         arr \u001B[38;5;241m=\u001B[39m blk\u001B[38;5;241m.\u001B[39mget_values(dtype)\n\u001B[0;32m-> 1794\u001B[0m     \u001B[43mresult\u001B[49m\u001B[43m[\u001B[49m\u001B[43mrl\u001B[49m\u001B[38;5;241;43m.\u001B[39;49m\u001B[43mindexer\u001B[49m\u001B[43m]\u001B[49m \u001B[38;5;241m=\u001B[39m arr\n\u001B[1;32m   1795\u001B[0m     itemmask[rl\u001B[38;5;241m.\u001B[39mindexer] \u001B[38;5;241m=\u001B[39m \u001B[38;5;241m1\u001B[39m\n\u001B[1;32m   1797\u001B[0m \u001B[38;5;28;01mif\u001B[39;00m \u001B[38;5;129;01mnot\u001B[39;00m itemmask\u001B[38;5;241m.\u001B[39mall():\n",
      "\u001B[0;31mValueError\u001B[0m: could not convert string to float: '3+'"
     ]
    }
   ],
   "source": [
    "train.corr()"
   ],
   "metadata": {
    "collapsed": false,
    "ExecuteTime": {
     "end_time": "2023-05-19T10:55:12.703718564Z",
     "start_time": "2023-05-19T10:55:12.655883762Z"
    }
   }
  },
  {
   "cell_type": "markdown",
   "source": [
    "## Trening modeli"
   ],
   "metadata": {
    "collapsed": false
   }
  },
  {
   "cell_type": "markdown",
   "source": [
    "### Rank SVM — interpretowalny model ML"
   ],
   "metadata": {
    "collapsed": false
   }
  },
  {
   "cell_type": "code",
   "execution_count": null,
   "metadata": {
    "collapsed": true
   },
   "outputs": [],
   "source": []
  },
  {
   "cell_type": "markdown",
   "source": [
    "### ANN-Ch-Constr. — interpretowalny model ANN-MCDA"
   ],
   "metadata": {
    "collapsed": false
   }
  },
  {
   "cell_type": "code",
   "execution_count": null,
   "outputs": [],
   "source": [],
   "metadata": {
    "collapsed": false
   }
  },
  {
   "cell_type": "markdown",
   "source": [
    "### Głęboka sieć neuronowa — model złożony."
   ],
   "metadata": {
    "collapsed": false
   }
  },
  {
   "cell_type": "code",
   "execution_count": null,
   "outputs": [],
   "source": [],
   "metadata": {
    "collapsed": false
   }
  },
  {
   "cell_type": "markdown",
   "source": [
    "## Eksperymenty\n",
    "Wszystkie prezentowane wartości są do maksymalnie 4 miejsc po przecinku."
   ],
   "metadata": {
    "collapsed": false
   }
  },
  {
   "cell_type": "markdown",
   "source": [
    "### Przedstawienie metryk\n",
    "\n",
    "- Rank SVM\n",
    "    - Accuracy\n",
    "    - F1\n",
    "    - AUC\n",
    "- ANN-Ch-Constr.\n",
    "    - Accuracy\n",
    "    - F1\n",
    "    - AUC\n",
    "- Głęboka sieć neuronowa\n",
    "    - Accuracy\n",
    "    - F1\n",
    "    - AUC\n"
   ],
   "metadata": {
    "collapsed": false
   }
  },
  {
   "cell_type": "markdown",
   "source": [
    "### Przedstawienie modelu\n",
    "(np funkcje cząstkowe, schemat drzewa ...)."
   ],
   "metadata": {
    "collapsed": false
   }
  },
  {
   "cell_type": "markdown",
   "source": [
    "\n",
    "### Interpretacja\n",
    "- Czy na podstawie uzyskanych parametrów możemy powiedzieć coś o preferencjach\n",
    "użytkowników?\n",
    "- Czy są jakieś kryteria, które nie mają żadnego wpływu, czy też mają wpływ decydujący.\n",
    "- Czy istnieją jakieś progi preferencji?\n",
    "- Czy istnieją oceny kryteriów, które są nierozróżnialne z punktu widzenia preferencji?\n"
   ],
   "metadata": {
    "collapsed": false
   }
  },
  {
   "cell_type": "markdown",
   "source": [
    "### Interpretacja techniką Partial Dependence Plot\n",
    "Wykonaj interpretację modelu korzystając z conajmniej jednej techniki( Global Surrogate,\n",
    "Partial Dependence Plot Permutation Feature Importance ...)\n"
   ],
   "metadata": {
    "collapsed": false
   }
  },
  {
   "cell_type": "markdown",
   "source": [
    "Dla 3 wybranych wariantów dokonaj wyjaśnienia decyzji.\n",
    "- Znajdź minimalną zmianę w ocenach tak aby wariant został przypisany do innej klasy.\n",
    "    – Spróbuj odpowiedzieć na to pytanie w sposób analityczny, opierając się tylko na\n",
    "wartościach parametrów modelu i wyjaśnij, dlaczego taka zmiana jest minimalna\n",
    "(bez próbkowania).\n",
    "    - Wykonaj próbkowanie przestrzeni, nieznacznie zmieniając oceny, tak aby uzyskać\n",
    "inną klasę. Czy wyniki zgadzają się z przewidywaniami teoretycznymi?\n",
    "- Dokonaj wyjaśnienia predykcji za pomocą conajmniej jednej techniki (Anchors LIME,\n",
    "SHAP, ... )\n"
   ],
   "metadata": {
    "collapsed": false
   }
  },
  {
   "cell_type": "markdown",
   "source": [
    "##### Możliwe narzędzia\n",
    "Lista narzędzi, które zawierają różne techniki wyjaśniania predykcji i interpretacji modelu:\n",
    "- Shapash\n",
    "- Alibi\n",
    "- Explainerdashboard\n",
    "- DALEX\n",
    "- eli5\n",
    "- aix360"
   ],
   "metadata": {
    "collapsed": false
   }
  }
 ],
 "metadata": {
  "kernelspec": {
   "display_name": "Python 3",
   "language": "python",
   "name": "python3"
  },
  "language_info": {
   "codemirror_mode": {
    "name": "ipython",
    "version": 2
   },
   "file_extension": ".py",
   "mimetype": "text/x-python",
   "name": "python",
   "nbconvert_exporter": "python",
   "pygments_lexer": "ipython2",
   "version": "2.7.6"
  }
 },
 "nbformat": 4,
 "nbformat_minor": 0
}
