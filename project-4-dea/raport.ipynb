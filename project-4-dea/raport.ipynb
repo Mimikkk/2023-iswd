{
 "cells": [
  {
   "cell_type": "markdown",
   "source": [
    " Graniczna Analiza Danych — Raport\n",
    "\n",
    "## Autorzy\n",
    "- Daniel Zdancewicz [145317]\n",
    "- Alex Terentowicz [145419]\n",
    "\n",
    "\n",
    "## Opis zbiorów danych\n",
    "\n",
    "Zbiór danych zawierający informacje o lotniskach\n",
    "\n",
    "[Wejścia](./resources/datasets/inputs.csv):\n",
    "- i1: roczna przepustowość terminalu zdefiniowana jako przepływ pasażerów, który port lotniczy może obsłużyć bez poważnych niedogodności (w milionach pasażerów rocznie)\n",
    "- i2: maksymalna przepustowość zdefiniowana jako średnia liczba operacji (przylotów i/lub odlotów), które można wykonać na pasach startowych portu lotniczego (w liczbie operacji na godzinę)\n",
    "- i3: przepustowość płyty postojowej lotniska definiowana jako średnia liczba samolotów, które może obsłużyć lotnisko (w liczbie samolotów na godzinę)\n",
    "- i4: obszar ciążenia lotniska zdefiniowany jako liczba mieszkańców mieszkających w promieniu 100 km od lotniska (w mln mieszkańców)\n",
    "\n",
    "[Wyjścia](./resources/datasets/outputs.csv):\n",
    "- o1: ruch pasażerski mierzony całkowitą liczbą pasażerów obsłużonych przez port (w mln pasażerów rocznie)\n",
    "- o2: liczba operacji statku powietrznego (jeden całkowity ruch to lądowanie lub start statku powietrznego; w tysiącach ruchów rocznie)\n",
    "\n",
    "\n",
    "[Próbki](./resources/datasets/samples.csv):\n",
    "- i1: waga wejścia i1\n",
    "- i2: waga wejścia i2\n",
    "- i3: waga wejścia i3\n",
    "- i4: waga wejścia i4\n",
    "- o1: waga wyjścia i1\n",
    "- o2: waga wyjścia i2\n"
   ],
   "metadata": {
    "collapsed": false
   }
  },
  {
   "cell_type": "markdown",
   "source": [
    "### Odczyt danych"
   ],
   "metadata": {
    "collapsed": false
   }
  },
  {
   "cell_type": "code",
   "execution_count": 8,
   "outputs": [],
   "source": [
    "import pandas as pd\n",
    "\n",
    "\n",
    "def load(path: str):\n",
    "  return pd.read_csv(path, sep=';')\n",
    "\n",
    "\n",
    "inputs_ds = load('./resources/datasets/inputs.csv')\n",
    "outputs_ds = load('./resources/datasets/outputs.csv')\n",
    "samples_ds = load('./resources/datasets/samples.csv')"
   ],
   "metadata": {
    "collapsed": false
   }
  },
  {
   "cell_type": "code",
   "execution_count": 9,
   "outputs": [
    {
     "data": {
      "text/plain": "  Unnamed: 0    i1  i2     i3    i4\n0        WAW  10.5  36  129.4   7.0\n1        KRK   3.1  19   31.6   7.9\n2        KAT   3.6  32   57.4  10.5\n3        WRO   1.5  12   18.0   3.0\n4        POZ   1.5  10   24.0   4.0",
      "text/html": "<div>\n<style scoped>\n    .dataframe tbody tr th:only-of-type {\n        vertical-align: middle;\n    }\n\n    .dataframe tbody tr th {\n        vertical-align: top;\n    }\n\n    .dataframe thead th {\n        text-align: right;\n    }\n</style>\n<table border=\"1\" class=\"dataframe\">\n  <thead>\n    <tr style=\"text-align: right;\">\n      <th></th>\n      <th>Unnamed: 0</th>\n      <th>i1</th>\n      <th>i2</th>\n      <th>i3</th>\n      <th>i4</th>\n    </tr>\n  </thead>\n  <tbody>\n    <tr>\n      <th>0</th>\n      <td>WAW</td>\n      <td>10.5</td>\n      <td>36</td>\n      <td>129.4</td>\n      <td>7.0</td>\n    </tr>\n    <tr>\n      <th>1</th>\n      <td>KRK</td>\n      <td>3.1</td>\n      <td>19</td>\n      <td>31.6</td>\n      <td>7.9</td>\n    </tr>\n    <tr>\n      <th>2</th>\n      <td>KAT</td>\n      <td>3.6</td>\n      <td>32</td>\n      <td>57.4</td>\n      <td>10.5</td>\n    </tr>\n    <tr>\n      <th>3</th>\n      <td>WRO</td>\n      <td>1.5</td>\n      <td>12</td>\n      <td>18.0</td>\n      <td>3.0</td>\n    </tr>\n    <tr>\n      <th>4</th>\n      <td>POZ</td>\n      <td>1.5</td>\n      <td>10</td>\n      <td>24.0</td>\n      <td>4.0</td>\n    </tr>\n  </tbody>\n</table>\n</div>"
     },
     "execution_count": 9,
     "metadata": {},
     "output_type": "execute_result"
    }
   ],
   "source": [
    "inputs_ds.head()"
   ],
   "metadata": {
    "collapsed": false
   }
  },
  {
   "cell_type": "code",
   "execution_count": 20,
   "outputs": [
    {
     "data": {
      "text/plain": "  Unnamed: 0   o1     o2\n0        WAW  9.5  129.7\n1        KRK  2.9   31.3\n2        KAT  2.4   21.1\n3        WRO  1.5   18.8\n4        POZ  1.3   16.2",
      "text/html": "<div>\n<style scoped>\n    .dataframe tbody tr th:only-of-type {\n        vertical-align: middle;\n    }\n\n    .dataframe tbody tr th {\n        vertical-align: top;\n    }\n\n    .dataframe thead th {\n        text-align: right;\n    }\n</style>\n<table border=\"1\" class=\"dataframe\">\n  <thead>\n    <tr style=\"text-align: right;\">\n      <th></th>\n      <th>Unnamed: 0</th>\n      <th>o1</th>\n      <th>o2</th>\n    </tr>\n  </thead>\n  <tbody>\n    <tr>\n      <th>0</th>\n      <td>WAW</td>\n      <td>9.5</td>\n      <td>129.7</td>\n    </tr>\n    <tr>\n      <th>1</th>\n      <td>KRK</td>\n      <td>2.9</td>\n      <td>31.3</td>\n    </tr>\n    <tr>\n      <th>2</th>\n      <td>KAT</td>\n      <td>2.4</td>\n      <td>21.1</td>\n    </tr>\n    <tr>\n      <th>3</th>\n      <td>WRO</td>\n      <td>1.5</td>\n      <td>18.8</td>\n    </tr>\n    <tr>\n      <th>4</th>\n      <td>POZ</td>\n      <td>1.3</td>\n      <td>16.2</td>\n    </tr>\n  </tbody>\n</table>\n</div>"
     },
     "execution_count": 20,
     "metadata": {},
     "output_type": "execute_result"
    }
   ],
   "source": [
    "outputs_ds.head()"
   ],
   "metadata": {
    "collapsed": false
   }
  },
  {
   "cell_type": "code",
   "execution_count": 11,
   "outputs": [
    {
     "data": {
      "text/plain": "   sample        i1        i2        i3        i4        o1        o2\n0       1  0.096443  0.059350  0.065224  0.778983  0.620824  0.379176\n1       2  0.032029  0.304959  0.427426  0.235586  0.513536  0.486464\n2       3  0.266256  0.246940  0.217498  0.269306  0.247490  0.752510\n3       4  0.159062  0.635512  0.202159  0.003267  0.223838  0.776162\n4       5  0.096716  0.809025  0.026741  0.067518  0.136140  0.863860",
      "text/html": "<div>\n<style scoped>\n    .dataframe tbody tr th:only-of-type {\n        vertical-align: middle;\n    }\n\n    .dataframe tbody tr th {\n        vertical-align: top;\n    }\n\n    .dataframe thead th {\n        text-align: right;\n    }\n</style>\n<table border=\"1\" class=\"dataframe\">\n  <thead>\n    <tr style=\"text-align: right;\">\n      <th></th>\n      <th>sample</th>\n      <th>i1</th>\n      <th>i2</th>\n      <th>i3</th>\n      <th>i4</th>\n      <th>o1</th>\n      <th>o2</th>\n    </tr>\n  </thead>\n  <tbody>\n    <tr>\n      <th>0</th>\n      <td>1</td>\n      <td>0.096443</td>\n      <td>0.059350</td>\n      <td>0.065224</td>\n      <td>0.778983</td>\n      <td>0.620824</td>\n      <td>0.379176</td>\n    </tr>\n    <tr>\n      <th>1</th>\n      <td>2</td>\n      <td>0.032029</td>\n      <td>0.304959</td>\n      <td>0.427426</td>\n      <td>0.235586</td>\n      <td>0.513536</td>\n      <td>0.486464</td>\n    </tr>\n    <tr>\n      <th>2</th>\n      <td>3</td>\n      <td>0.266256</td>\n      <td>0.246940</td>\n      <td>0.217498</td>\n      <td>0.269306</td>\n      <td>0.247490</td>\n      <td>0.752510</td>\n    </tr>\n    <tr>\n      <th>3</th>\n      <td>4</td>\n      <td>0.159062</td>\n      <td>0.635512</td>\n      <td>0.202159</td>\n      <td>0.003267</td>\n      <td>0.223838</td>\n      <td>0.776162</td>\n    </tr>\n    <tr>\n      <th>4</th>\n      <td>5</td>\n      <td>0.096716</td>\n      <td>0.809025</td>\n      <td>0.026741</td>\n      <td>0.067518</td>\n      <td>0.136140</td>\n      <td>0.863860</td>\n    </tr>\n  </tbody>\n</table>\n</div>"
     },
     "execution_count": 11,
     "metadata": {},
     "output_type": "execute_result"
    }
   ],
   "source": [
    "samples_ds.head()"
   ],
   "metadata": {
    "collapsed": false
   }
  },
  {
   "cell_type": "markdown",
   "source": [
    "## Efektywność\n",
    "\n",
    "Do wyznaczenia efektywności został utworzony model analizy danych **CCR** zorientowany na nakłady ( wejścia ).\n",
    "\n",
    "\\begin{align*}\n",
    "\\max & \\sum_{n=1}^{N}\\mu_n\\cdot y_{no} & \\\\\n",
    "s.t. & \\sum\\limits_{m=1}^{M}\\nu_m\\cdot x_{mo}=1  &  \\\\\n",
    " & \\sum\\limits_{n=1}^{N}\\mu_n\\cdot y_{nk}\\leq\\sum\\limits_{m=1}^{M}\\nu_n\\cdot x_{mk}, & k=1,2,...,K \\\\\n",
    " & \\mu_n\\nu_m\\geq0, & m=1,2,...,M\\;, n=1,2,...,N \\\\\n",
    "\\end{align*}\n",
    "\n"
   ],
   "metadata": {
    "collapsed": false
   }
  },
  {
   "cell_type": "code",
   "execution_count": 146,
   "outputs": [
    {
     "name": "stdout",
     "output_type": "stream",
     "text": [
      "Efficiency for alternative WAW 01: 100.00%\n",
      "Efficiency for alternative KRK 02: 100.00%\n",
      "Efficiency for alternative KAT 03: 59.12%\n",
      "Efficiency for alternative WRO 04: 100.00%\n",
      "Efficiency for alternative POZ 05: 79.98%\n",
      "Efficiency for alternative LCJ 06: 30.00%\n",
      "Efficiency for alternative GDN 07: 100.00%\n",
      "Efficiency for alternative SZZ 08: 27.08%\n",
      "Efficiency for alternative BZG 09: 100.00%\n",
      "Efficiency for alternative RZE 10: 40.92%\n",
      "Efficiency for alternative IEG 11: 25.85%\n"
     ]
    }
   ],
   "source": [
    "import pulp\n",
    "from pulp import LpVariable, LpProblem, LpMaximize, LpStatus, LpMinimize\n",
    "\n",
    "\n",
    "def create_model(alternative_nr: int, inputs_df: pd.DataFrame, outputs_df: pd.DataFrame):\n",
    "  N, M, K = map(len, [outputs_df.columns[1:], inputs_df.columns[1:], inputs_df])\n",
    "  o = alternative_nr\n",
    "\n",
    "  model = LpProblem(\"CCR-input\", LpMaximize)\n",
    "\n",
    "  input_weights = LpVariable.dicts(\"input_weight\", range(M), 0, None, cat='Continuous')\n",
    "  output_weights = LpVariable.dicts(\"output_weight\", range(N), 0, None, cat='Continuous')\n",
    "\n",
    "  inputs = inputs_df.iloc[:, 1:].values.T\n",
    "  outputs = outputs_df.iloc[:, 1:].values.T\n",
    "\n",
    "  model.setObjective(sum(\n",
    "    output_weights[n] * outputs[n][o] for n in range(N)\n",
    "  ))\n",
    "\n",
    "  model.addConstraint(sum(\n",
    "    input_weights[m] * inputs[m][o] for m in range(M)\n",
    "  ) == 1)\n",
    "\n",
    "  for k in range(K):\n",
    "    model.addConstraint(\n",
    "      sum(output_weights[n] * outputs[n][k] for n in range(N))\n",
    "      <=\n",
    "      sum(input_weights[m] * inputs[m][k] for m in range(M))\n",
    "    )\n",
    "\n",
    "  return model\n",
    "\n",
    "\n",
    "def find_efficiency(alternative_nr: int, inputs_df: pd.DataFrame, outputs_df: pd.DataFrame):\n",
    "  model = create_model(alternative_nr, inputs_ds, outputs_ds)\n",
    "  model.solve(pulp.PULP_CBC_CMD(msg=False))\n",
    "  return model.objective.value()\n",
    "\n",
    "\n",
    "for k in range(len(inputs_ds)):\n",
    "  print(\n",
    "    f'Efficiency for alternative {inputs_ds[inputs_ds.columns[0]][k]} {k + 1:0>2}: {find_efficiency(k, inputs_ds, outputs_ds) * 100:.2f}%')\n"
   ],
   "metadata": {
    "collapsed": false
   }
  },
  {
   "cell_type": "markdown",
   "source": [
    "Lotniska efektywne to: Warszawa, Kraków, Wrocław, Gdynia, Bydgoszcz.\n",
    "LOtniska nieefektywne to: Katowice, Poznań, Łódź, Szczecin, Rzeszów, Zielona Góra."
   ],
   "metadata": {
    "collapsed": false
   }
  },
  {
   "cell_type": "markdown",
   "source": [
    "## Hipotetyczna jednostka porównawcza oraz potrzebne poprawki\n",
    "\n",
    "Dla każdej z odnalezionych jednostek nieefektywnych odnaleziono hipotetyczną jednostkę porównawczą oraz poprawki potrzebne do osiągnięcia efektywności.\n",
    "\n",
    "\n",
    "\\begin{align*}\n",
    "\\min & \\theta & \\\\\n",
    "s.t. & \\sum\\limits_{k=1}^{K}\\lambda_k\\cdot x_{nk}\\leq\\theta\\cdot x_{no}  & n=1,2,...,N  \\\\\n",
    " & \\sum\\limits_{k=1}^{K}\\lambda_k\\cdot y_{nk}\\geq y_{mo}, & m=1,2,...,M \\\\\n",
    " & \\theta\\geq0, &  \\\\\n",
    " & \\lambda_k\\geq0, & k=1,2,...,K \\\\\n",
    "\\end{align*}\n"
   ],
   "metadata": {
    "collapsed": false
   }
  },
  {
   "cell_type": "code",
   "execution_count": 178,
   "outputs": [
    {
     "name": "stdout",
     "output_type": "stream",
     "text": [
      "differences for alternative WAW 1:\n",
      "                      0    1    2    3\n",
      "input_differences   0.0  0.0  0.0  0.0\n",
      "output_differences  0.0  0.0  NaN  NaN\n",
      "differences for alternative KRK 2:\n",
      "                      0    1    2    3\n",
      "input_differences   0.0  0.0  0.0  0.0\n",
      "output_differences  0.0  0.0  NaN  NaN\n",
      "differences for alternative KAT 3:\n",
      "                               0          1          2         3\n",
      "input_differences   1.471647e+00  13.081308  23.464596  6.103519\n",
      "output_differences  7.400000e-09   8.569860        NaN       NaN\n",
      "differences for alternative WRO 4:\n",
      "                      0    1    2    3\n",
      "input_differences   0.0  0.0  0.0  0.0\n",
      "output_differences  0.0  0.0  NaN  NaN\n",
      "differences for alternative POZ 5:\n",
      "                               0             1         2         3\n",
      "input_differences   3.002985e-01  2.001990e+00  4.804776  2.071571\n",
      "output_differences  2.700000e-09  3.310000e-08       NaN       NaN\n",
      "differences for alternative LCJ 6:\n",
      "                           0             1          2         3\n",
      "input_differences   0.419978  9.216982e+00  16.799131  3.425138\n",
      "output_differences  0.043505  3.180000e-08        NaN       NaN\n",
      "differences for alternative GDN 7:\n",
      "                      0    1    2    3\n",
      "input_differences   0.0  0.0  0.0  0.0\n",
      "output_differences  0.0  0.0  NaN  NaN\n",
      "differences for alternative SZZ 8:\n",
      "                           0             1          2         3\n",
      "input_differences   0.510449  7.292127e+00  18.740767  1.434695\n",
      "output_differences  0.039481 -5.972000e-08        NaN       NaN\n",
      "differences for alternative BZG 9:\n",
      "                      0    1    2    3\n",
      "input_differences   0.0  0.0  0.0  0.0\n",
      "output_differences  0.0  0.0  NaN  NaN\n",
      "differences for alternative RZE 10:\n",
      "                               0         1         2        3\n",
      "input_differences   3.544900e-01  3.544900  6.676228  2.16347\n",
      "output_differences  7.600000e-09  0.254359       NaN      NaN\n",
      "differences for alternative IEG 11:\n",
      "                           0             1          2         3\n",
      "input_differences   0.074153  9.612288e+00  62.291144  2.935381\n",
      "output_differences  0.046695  8.800000e-09        NaN       NaN\n"
     ]
    }
   ],
   "source": [
    "def create_model(alternative_nr: int, inputs_df: pd.DataFrame, outputs_df: pd.DataFrame):\n",
    "  N, M, K = map(len, [outputs_df.columns[1:], inputs_df.columns[1:], inputs_df])\n",
    "  o = alternative_nr\n",
    "  inputs = inputs_df.iloc[:, 1:].values.T\n",
    "  outputs = outputs_df.iloc[:, 1:].values.T\n",
    "\n",
    "  model = LpProblem(\"CCR-input\", LpMinimize)\n",
    "\n",
    "  efficiency = LpVariable(\"efficiency\", 0, None, cat='Continuous')\n",
    "  lambdas = LpVariable.dicts(\"lambda\", range(K), 0, None, cat='Continuous')\n",
    "\n",
    "  model.setObjective(efficiency)\n",
    "\n",
    "  for m in range(M): model.addConstraint(\n",
    "    sum(lambdas[k] * inputs[m][k] for k in range(K))\n",
    "    <=\n",
    "    efficiency * inputs[m][o]\n",
    "  )\n",
    "\n",
    "  for n in range(N): model.addConstraint(\n",
    "    sum(lambdas[k] * outputs[n][k] for k in range(K))\n",
    "    >=\n",
    "    outputs[n][o]\n",
    "  )\n",
    "\n",
    "  return model\n",
    "\n",
    "\n",
    "def find_(alternative_nr: int, inputs_df: pd.DataFrame, outputs_df: pd.DataFrame):\n",
    "  N, M, K = map(len, [outputs_df.columns[1:], inputs_df.columns[1:], inputs_df])\n",
    "  o = alternative_nr\n",
    "  inputs = inputs_df.iloc[:, 1:].values.T\n",
    "  outputs = outputs_df.iloc[:, 1:].values.T\n",
    "\n",
    "  model = create_model(alternative_nr, inputs_ds, outputs_ds)\n",
    "  model.solve(pulp.PULP_CBC_CMD(msg=False))\n",
    "  vars = model.variablesDict()\n",
    "\n",
    "  input_hcus = [\n",
    "    sum(vars[f'lambda_{k}'].value() * inputs[m][k] for k in range(K))\n",
    "    for m in range(M)\n",
    "  ]\n",
    "  output_hcus = [\n",
    "    sum(vars[f'lambda_{k}'].value() * outputs[n][k] for k in range(K))\n",
    "    for n in range(N)\n",
    "  ]\n",
    "\n",
    "  input_differences = [\n",
    "    inputs[m][o] - input_hcus[m]\n",
    "    for m in range(M)\n",
    "  ]\n",
    "  output_differences = [\n",
    "    output_hcus[n] - outputs[n][o]\n",
    "    for n in range(N)\n",
    "  ]\n",
    "\n",
    "  return pd.DataFrame(\n",
    "    data=[\n",
    "      input_differences,\n",
    "      output_differences\n",
    "    ],\n",
    "    index=[\n",
    "      'input_differences',\n",
    "      'output_differences'\n",
    "    ],\n",
    "  )\n",
    "\n",
    "\n",
    "for k in range(len(inputs_ds)):\n",
    "  print(f\"differences for alternative {inputs_ds[inputs_ds.columns[0]][k]} {k + 1}:\\n{find_(k, inputs_ds, outputs_ds)}\")\n"
   ],
   "metadata": {
    "collapsed": false
   }
  },
  {
   "cell_type": "markdown",
   "source": [
    "## Superefektywność\n",
    "\n",
    "Do wyznaczenia superefektywności należy z modelu zdjąć ograniczenie efektywności dla kolejnych kryteriów.\n",
    "\n",
    "\\begin{align*}\n",
    "\\max & \\sum_{n=1}^{N}\\mu_n\\cdot y_{no} & \\\\\n",
    "s.t. & \\sum\\limits_{m=1}^{M}\\nu_m\\cdot x_{mo}=1  &  \\\\\n",
    " & \\sum\\limits_{n=1}^{N}\\mu_n\\cdot y_{nk}\\leq\\sum\\limits_{m=1}^{M}\\nu_n\\cdot x_{mk}, & k=1,2,...,K,\\;k\\neq o \\\\\n",
    " & \\mu_n\\nu_m\\geq0, & m=1,2,...,M\\;, n=1,2,...,N \\\\\n",
    "\\end{align*}\n",
    "\n"
   ],
   "metadata": {
    "collapsed": false
   }
  },
  {
   "cell_type": "code",
   "execution_count": 135,
   "outputs": [
    {
     "name": "stdout",
     "output_type": "stream",
     "text": [
      "Super-efficiency for alternative WAW 01: 227.79%\n",
      "Super-efficiency for alternative KRK 02: 112.38%\n",
      "Super-efficiency for alternative KAT 03: 59.12%\n",
      "Super-efficiency for alternative WRO 04: 103.99%\n",
      "Super-efficiency for alternative POZ 05: 79.98%\n",
      "Super-efficiency for alternative LCJ 06: 30.00%\n",
      "Super-efficiency for alternative GDN 07: 200.00%\n",
      "Super-efficiency for alternative SZZ 08: 27.08%\n",
      "Super-efficiency for alternative BZG 09: 174.59%\n",
      "Super-efficiency for alternative RZE 10: 40.92%\n",
      "Super-efficiency for alternative IEG 11: 25.85%\n"
     ]
    }
   ],
   "source": [
    "import pulp\n",
    "from pulp import LpVariable, LpProblem, LpMaximize\n",
    "\n",
    "\n",
    "def create_model(alternative_nr: int, inputs_df: pd.DataFrame, outputs_df: pd.DataFrame):\n",
    "  N, M, K = map(len, [outputs_df.columns[1:], inputs_df.columns[1:], inputs_df])\n",
    "  o = alternative_nr\n",
    "\n",
    "  model = LpProblem(\"CCR-input\", LpMaximize)\n",
    "\n",
    "  input_weights = LpVariable.dicts(\"input_weight\", range(M), 0, None, cat='Continuous')\n",
    "  output_weights = LpVariable.dicts(\"output_weight\", range(N), 0, None, cat='Continuous')\n",
    "\n",
    "  inputs = inputs_df.iloc[:, 1:].values.T\n",
    "  outputs = outputs_df.iloc[:, 1:].values.T\n",
    "\n",
    "  model.setObjective(sum(\n",
    "    output_weights[n] * outputs[n][o] for n in range(N)\n",
    "  ))\n",
    "\n",
    "  model.addConstraint(sum(\n",
    "    input_weights[m] * inputs[m][o] for m in range(M)\n",
    "  ) == 1)\n",
    "\n",
    "  for k in filter(lambda k: k != o, range(K)):\n",
    "    model.addConstraint(\n",
    "      sum(output_weights[n] * outputs[n][k] for n in range(N))\n",
    "      <=\n",
    "      sum(input_weights[m] * inputs[m][k] for m in range(M))\n",
    "    )\n",
    "\n",
    "  return model\n",
    "\n",
    "\n",
    "def find_efficiency(alternative_nr: int, inputs_df: pd.DataFrame, outputs_df: pd.DataFrame):\n",
    "  model = create_model(alternative_nr, inputs_ds, outputs_ds)\n",
    "  model.solve(pulp.PULP_CBC_CMD(msg=False))\n",
    "  return model.objective.value()\n",
    "\n",
    "\n",
    "for k in range(len(inputs_ds)):\n",
    "  print(\n",
    "    f'Super-efficiency for alternative {inputs_ds[inputs_ds.columns[0]][k]} {k + 1:0>2}: {find_efficiency(k, inputs_ds, outputs_ds) * 100:.2f}%')\n"
   ],
   "metadata": {
    "collapsed": false
   }
  },
  {
   "cell_type": "markdown",
   "source": [
    "## Efektywność krzyżowa"
   ],
   "metadata": {
    "collapsed": false
   }
  },
  {
   "cell_type": "markdown",
   "source": [
    "## Rozkład efektywności"
   ],
   "metadata": {
    "collapsed": false
   }
  },
  {
   "cell_type": "markdown",
   "source": [
    "## Ranking jednostek\n"
   ],
   "metadata": {
    "collapsed": false
   }
  }
 ],
 "metadata": {
  "kernelspec": {
   "display_name": "Python 3",
   "language": "python",
   "name": "python3"
  },
  "language_info": {
   "codemirror_mode": {
    "name": "ipython",
    "version": 2
   },
   "file_extension": ".py",
   "mimetype": "text/x-python",
   "name": "python",
   "nbconvert_exporter": "python",
   "pygments_lexer": "ipython2",
   "version": "2.7.6"
  }
 },
 "nbformat": 4,
 "nbformat_minor": 0
}
