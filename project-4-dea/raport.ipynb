{
 "cells": [
  {
   "cell_type": "markdown",
   "source": [
    " Graniczna Analiza Danych — Raport\n",
    "\n",
    "## Autorzy\n",
    "- Daniel Zdancewicz [145317]\n",
    "- Alex Terentowicz [145419]\n",
    "\n",
    "\n",
    "## Opis zbiorów danych\n",
    "\n",
    "Zbiór danych zawierający informacje o lotniskach\n",
    "\n",
    "[Wejścia](./resources/datasets/inputs.csv):\n",
    "- i1: roczna przepustowość terminalu zdefiniowana jako przepływ pasażerów, który port lotniczy może obsłużyć bez poważnych niedogodności (w milionach pasażerów rocznie)\n",
    "- i2: maksymalna przepustowość zdefiniowana jako średnia liczba operacji (przylotów i/lub odlotów), które można wykonać na pasach startowych portu lotniczego (w liczbie operacji na godzinę)\n",
    "- i3: przepustowość płyty postojowej lotniska definiowana jako średnia liczba samolotów, które może obsłużyć lotnisko (w liczbie samolotów na godzinę)\n",
    "- i4: obszar ciążenia lotniska zdefiniowany jako liczba mieszkańców mieszkających w promieniu 100 km od lotniska (w mln mieszkańców)\n",
    "\n",
    "[Wyjścia](./resources/datasets/outputs.csv):\n",
    "- o1: ruch pasażerski mierzony całkowitą liczbą pasażerów obsłużonych przez port (w mln pasażerów rocznie)\n",
    "- o2: liczba operacji statku powietrznego (jeden całkowity ruch to lądowanie lub start statku powietrznego; w tysiącach ruchów rocznie)\n",
    "\n",
    "\n",
    "[Próbki](./resources/datasets/samples.csv):\n",
    "- i1: waga wejścia i1\n",
    "- i2: waga wejścia i2\n",
    "- i3: waga wejścia i3\n",
    "- i4: waga wejścia i4\n",
    "- o1: waga wyjścia i1\n",
    "- o2: waga wyjścia i2\n"
   ],
   "metadata": {
    "collapsed": false
   }
  },
  {
   "cell_type": "markdown",
   "source": [
    "### Odczyt danych"
   ],
   "metadata": {
    "collapsed": false
   }
  },
  {
   "cell_type": "code",
   "execution_count": 98,
   "outputs": [],
   "source": [
    "import pandas as pd\n",
    "from pandas import DataFrame, read_csv\n",
    "\n",
    "\n",
    "def load(path: str, *, index_col: str = None) -> DataFrame:\n",
    "  return read_csv(path, sep=';', index_col=index_col)\n",
    "\n",
    "\n",
    "inputs_df = load('./resources/datasets/inputs.csv').rename(columns={'Unnamed: 0': 'airport'}).set_index('airport')\n",
    "outputs_df = load('./resources/datasets/outputs.csv').rename(columns={'Unnamed: 0': 'airport'}).set_index('airport')\n",
    "samples_df = load('./resources/datasets/samples.csv', index_col='sample')\n",
    "K = len(inputs_df)\n"
   ],
   "metadata": {
    "collapsed": false
   }
  },
  {
   "cell_type": "code",
   "execution_count": 99,
   "outputs": [
    {
     "data": {
      "text/plain": "           i1  i2     i3    i4\nairport                       \nWAW      10.5  36  129.4   7.0\nKRK       3.1  19   31.6   7.9\nKAT       3.6  32   57.4  10.5\nWRO       1.5  12   18.0   3.0\nPOZ       1.5  10   24.0   4.0",
      "text/html": "<div>\n<style scoped>\n    .dataframe tbody tr th:only-of-type {\n        vertical-align: middle;\n    }\n\n    .dataframe tbody tr th {\n        vertical-align: top;\n    }\n\n    .dataframe thead th {\n        text-align: right;\n    }\n</style>\n<table border=\"1\" class=\"dataframe\">\n  <thead>\n    <tr style=\"text-align: right;\">\n      <th></th>\n      <th>i1</th>\n      <th>i2</th>\n      <th>i3</th>\n      <th>i4</th>\n    </tr>\n    <tr>\n      <th>airport</th>\n      <th></th>\n      <th></th>\n      <th></th>\n      <th></th>\n    </tr>\n  </thead>\n  <tbody>\n    <tr>\n      <th>WAW</th>\n      <td>10.5</td>\n      <td>36</td>\n      <td>129.4</td>\n      <td>7.0</td>\n    </tr>\n    <tr>\n      <th>KRK</th>\n      <td>3.1</td>\n      <td>19</td>\n      <td>31.6</td>\n      <td>7.9</td>\n    </tr>\n    <tr>\n      <th>KAT</th>\n      <td>3.6</td>\n      <td>32</td>\n      <td>57.4</td>\n      <td>10.5</td>\n    </tr>\n    <tr>\n      <th>WRO</th>\n      <td>1.5</td>\n      <td>12</td>\n      <td>18.0</td>\n      <td>3.0</td>\n    </tr>\n    <tr>\n      <th>POZ</th>\n      <td>1.5</td>\n      <td>10</td>\n      <td>24.0</td>\n      <td>4.0</td>\n    </tr>\n  </tbody>\n</table>\n</div>"
     },
     "execution_count": 99,
     "metadata": {},
     "output_type": "execute_result"
    }
   ],
   "source": [
    "inputs_df.head()"
   ],
   "metadata": {
    "collapsed": false
   }
  },
  {
   "cell_type": "code",
   "execution_count": 100,
   "outputs": [
    {
     "data": {
      "text/plain": "          o1     o2\nairport            \nWAW      9.5  129.7\nKRK      2.9   31.3\nKAT      2.4   21.1\nWRO      1.5   18.8\nPOZ      1.3   16.2",
      "text/html": "<div>\n<style scoped>\n    .dataframe tbody tr th:only-of-type {\n        vertical-align: middle;\n    }\n\n    .dataframe tbody tr th {\n        vertical-align: top;\n    }\n\n    .dataframe thead th {\n        text-align: right;\n    }\n</style>\n<table border=\"1\" class=\"dataframe\">\n  <thead>\n    <tr style=\"text-align: right;\">\n      <th></th>\n      <th>o1</th>\n      <th>o2</th>\n    </tr>\n    <tr>\n      <th>airport</th>\n      <th></th>\n      <th></th>\n    </tr>\n  </thead>\n  <tbody>\n    <tr>\n      <th>WAW</th>\n      <td>9.5</td>\n      <td>129.7</td>\n    </tr>\n    <tr>\n      <th>KRK</th>\n      <td>2.9</td>\n      <td>31.3</td>\n    </tr>\n    <tr>\n      <th>KAT</th>\n      <td>2.4</td>\n      <td>21.1</td>\n    </tr>\n    <tr>\n      <th>WRO</th>\n      <td>1.5</td>\n      <td>18.8</td>\n    </tr>\n    <tr>\n      <th>POZ</th>\n      <td>1.3</td>\n      <td>16.2</td>\n    </tr>\n  </tbody>\n</table>\n</div>"
     },
     "execution_count": 100,
     "metadata": {},
     "output_type": "execute_result"
    }
   ],
   "source": [
    "outputs_df.head()"
   ],
   "metadata": {
    "collapsed": false
   }
  },
  {
   "cell_type": "code",
   "execution_count": 101,
   "outputs": [
    {
     "data": {
      "text/plain": "              i1        i2        i3        i4        o1        o2\nsample                                                            \n1       0.096443  0.059350  0.065224  0.778983  0.620824  0.379176\n2       0.032029  0.304959  0.427426  0.235586  0.513536  0.486464\n3       0.266256  0.246940  0.217498  0.269306  0.247490  0.752510\n4       0.159062  0.635512  0.202159  0.003267  0.223838  0.776162\n5       0.096716  0.809025  0.026741  0.067518  0.136140  0.863860",
      "text/html": "<div>\n<style scoped>\n    .dataframe tbody tr th:only-of-type {\n        vertical-align: middle;\n    }\n\n    .dataframe tbody tr th {\n        vertical-align: top;\n    }\n\n    .dataframe thead th {\n        text-align: right;\n    }\n</style>\n<table border=\"1\" class=\"dataframe\">\n  <thead>\n    <tr style=\"text-align: right;\">\n      <th></th>\n      <th>i1</th>\n      <th>i2</th>\n      <th>i3</th>\n      <th>i4</th>\n      <th>o1</th>\n      <th>o2</th>\n    </tr>\n    <tr>\n      <th>sample</th>\n      <th></th>\n      <th></th>\n      <th></th>\n      <th></th>\n      <th></th>\n      <th></th>\n    </tr>\n  </thead>\n  <tbody>\n    <tr>\n      <th>1</th>\n      <td>0.096443</td>\n      <td>0.059350</td>\n      <td>0.065224</td>\n      <td>0.778983</td>\n      <td>0.620824</td>\n      <td>0.379176</td>\n    </tr>\n    <tr>\n      <th>2</th>\n      <td>0.032029</td>\n      <td>0.304959</td>\n      <td>0.427426</td>\n      <td>0.235586</td>\n      <td>0.513536</td>\n      <td>0.486464</td>\n    </tr>\n    <tr>\n      <th>3</th>\n      <td>0.266256</td>\n      <td>0.246940</td>\n      <td>0.217498</td>\n      <td>0.269306</td>\n      <td>0.247490</td>\n      <td>0.752510</td>\n    </tr>\n    <tr>\n      <th>4</th>\n      <td>0.159062</td>\n      <td>0.635512</td>\n      <td>0.202159</td>\n      <td>0.003267</td>\n      <td>0.223838</td>\n      <td>0.776162</td>\n    </tr>\n    <tr>\n      <th>5</th>\n      <td>0.096716</td>\n      <td>0.809025</td>\n      <td>0.026741</td>\n      <td>0.067518</td>\n      <td>0.136140</td>\n      <td>0.863860</td>\n    </tr>\n  </tbody>\n</table>\n</div>"
     },
     "execution_count": 101,
     "metadata": {},
     "output_type": "execute_result"
    }
   ],
   "source": [
    "samples_df.head()"
   ],
   "metadata": {
    "collapsed": false
   }
  },
  {
   "cell_type": "markdown",
   "source": [
    "## Efektywność\n",
    "\n",
    "Do wyznaczenia efektywności został utworzony model analizy danych **CCR** zorientowany na nakłady ( wejścia ).\n",
    "\n",
    "\\begin{align*}\n",
    "\\max & \\sum_{n=1}^{N}\\mu_n\\cdot y_{no} & \\\\\n",
    "s.t. & \\sum\\limits_{m=1}^{M}\\nu_m\\cdot x_{mo}=1  &  \\\\\n",
    " & \\sum\\limits_{n=1}^{N}\\mu_n\\cdot y_{nk}\\leq\\sum\\limits_{m=1}^{M}\\nu_n\\cdot x_{mk}, & k=1,2,...,K \\\\\n",
    " & \\mu_n\\nu_m\\geq0, & m=1,2,...,M\\;, n=1,2,...,N \\\\\n",
    "\\end{align*}\n",
    "\n"
   ],
   "metadata": {
    "collapsed": false
   }
  },
  {
   "cell_type": "code",
   "execution_count": 102,
   "outputs": [
    {
     "data": {
      "text/plain": "         efficiency\nairport            \nWAW           1.000\nKRK           1.000\nKAT           0.591\nWRO           1.000\nPOZ           0.800\nLCJ           0.300\nGDN           1.000\nSZZ           0.271\nBZG           1.000\nRZE           0.409\nIEG           0.258",
      "text/html": "<div>\n<style scoped>\n    .dataframe tbody tr th:only-of-type {\n        vertical-align: middle;\n    }\n\n    .dataframe tbody tr th {\n        vertical-align: top;\n    }\n\n    .dataframe thead th {\n        text-align: right;\n    }\n</style>\n<table border=\"1\" class=\"dataframe\">\n  <thead>\n    <tr style=\"text-align: right;\">\n      <th></th>\n      <th>efficiency</th>\n    </tr>\n    <tr>\n      <th>airport</th>\n      <th></th>\n    </tr>\n  </thead>\n  <tbody>\n    <tr>\n      <th>WAW</th>\n      <td>1.000</td>\n    </tr>\n    <tr>\n      <th>KRK</th>\n      <td>1.000</td>\n    </tr>\n    <tr>\n      <th>KAT</th>\n      <td>0.591</td>\n    </tr>\n    <tr>\n      <th>WRO</th>\n      <td>1.000</td>\n    </tr>\n    <tr>\n      <th>POZ</th>\n      <td>0.800</td>\n    </tr>\n    <tr>\n      <th>LCJ</th>\n      <td>0.300</td>\n    </tr>\n    <tr>\n      <th>GDN</th>\n      <td>1.000</td>\n    </tr>\n    <tr>\n      <th>SZZ</th>\n      <td>0.271</td>\n    </tr>\n    <tr>\n      <th>BZG</th>\n      <td>1.000</td>\n    </tr>\n    <tr>\n      <th>RZE</th>\n      <td>0.409</td>\n    </tr>\n    <tr>\n      <th>IEG</th>\n      <td>0.258</td>\n    </tr>\n  </tbody>\n</table>\n</div>"
     },
     "execution_count": 102,
     "metadata": {},
     "output_type": "execute_result"
    }
   ],
   "source": [
    "import pulp\n",
    "from pulp import LpVariable, LpProblem, LpMaximize, LpStatus, LpMinimize\n",
    "\n",
    "\n",
    "def create_model(alternative: int, inputs_df: DataFrame, outputs_df: DataFrame):\n",
    "  N, M, K = map(len, [outputs_df.columns, inputs_df.columns, inputs_df])\n",
    "  o = alternative\n",
    "\n",
    "  model = LpProblem(\"CCR-input\", LpMaximize)\n",
    "\n",
    "  input_weights = LpVariable.dicts(\"input_weight\", range(M), 0, None, cat='Continuous')\n",
    "  output_weights = LpVariable.dicts(\"output_weight\", range(N), 0, None, cat='Continuous')\n",
    "\n",
    "  inputs = inputs_df.values.T\n",
    "  outputs = outputs_df.values.T\n",
    "\n",
    "  model.setObjective(sum(\n",
    "    output_weights[n] * outputs[n][o] for n in range(N)\n",
    "  ))\n",
    "\n",
    "  model.addConstraint(sum(\n",
    "    input_weights[m] * inputs[m][o] for m in range(M)\n",
    "  ) == 1)\n",
    "\n",
    "  for k in range(K):\n",
    "    model.addConstraint(\n",
    "      sum(output_weights[n] * outputs[n][k] for n in range(N))\n",
    "      <=\n",
    "      sum(input_weights[m] * inputs[m][k] for m in range(M))\n",
    "    )\n",
    "\n",
    "  return model\n",
    "\n",
    "\n",
    "def find_efficiency(alternative: int, inputs_df: DataFrame, outputs_df: DataFrame):\n",
    "  model = create_model(alternative, inputs_df, outputs_df)\n",
    "  model.solve(pulp.PULP_CBC_CMD(msg=False))\n",
    "  return model.objective.value()\n",
    "\n",
    "\n",
    "def find_efficiency_weights(alternative: int, inputs_df: DataFrame, outputs_df: DataFrame):\n",
    "  model = create_model(alternative, inputs_df, outputs_df)\n",
    "  model.solve(pulp.PULP_CBC_CMD(msg=False))\n",
    "  return model.variablesDict()\n",
    "\n",
    "\n",
    "efficiency_results = DataFrame(\n",
    "  [find_efficiency(k, inputs_df, outputs_df) for k in range(K)],\n",
    "  index=inputs_df.index,\n",
    "  columns=['efficiency']\n",
    ").round(3)\n",
    "\n",
    "efficiency_results"
   ],
   "metadata": {
    "collapsed": false
   }
  },
  {
   "cell_type": "markdown",
   "source": [
    "Lotniska efektywne to: Warszawa, Kraków, Wrocław, Gdynia, Bydgoszcz.\n",
    "LOtniska nieefektywne to: Katowice, Poznań, Łódź, Szczecin, Rzeszów, Zielona Góra."
   ],
   "metadata": {
    "collapsed": false
   }
  },
  {
   "cell_type": "markdown",
   "source": [
    "## Hipotetyczna jednostka porównawcza oraz potrzebne poprawki\n",
    "\n",
    "Dla każdej z odnalezionych jednostek nieefektywnych odnaleziono hipotetyczną jednostkę porównawczą oraz poprawki potrzebne do osiągnięcia efektywności.\n",
    "\n",
    "\n",
    "\\begin{align*}\n",
    "\\min & \\theta & \\\\\n",
    "s.t. & \\sum\\limits_{k=1}^{K}\\lambda_k\\cdot x_{nk}\\leq\\theta\\cdot x_{no}  & n=1,2,...,N  \\\\\n",
    " & \\sum\\limits_{k=1}^{K}\\lambda_k\\cdot y_{nk}\\geq y_{mo}, & m=1,2,...,M \\\\\n",
    " & \\theta\\geq0, &  \\\\\n",
    " & \\lambda_k\\geq0, & k=1,2,...,K \\\\\n",
    "\\end{align*}\n"
   ],
   "metadata": {
    "collapsed": false
   }
  },
  {
   "cell_type": "code",
   "execution_count": 126,
   "outputs": [
    {
     "data": {
      "text/plain": "         HCU-i1  HCU-i2   HCU-i3  HCU-i4   D-i1    D-i2    D-i3   D-i4  \\\nairport                                                                  \nWAW      10.500  36.000  129.400   7.000  0.000   0.000   0.000  0.000   \nKRK       3.100  19.000   31.600   7.900  0.000   0.000   0.000  0.000   \nKAT       2.128  18.919   33.935   4.396  1.472  13.081  23.465  6.104   \nWRO       1.500  12.000   18.000   3.000  0.000   0.000   0.000  0.000   \nPOZ       1.200   7.998   19.195   1.928  0.300   2.002   4.805  2.072   \nLCJ       0.180   2.783    7.201   0.475  0.420   9.217  16.799  3.425   \nGDN       1.000  15.000   42.900   2.500  0.000   0.000   0.000  0.000   \nSZZ       0.190   2.708    6.959   0.465  0.510   7.292  18.741  1.435   \nBZG       0.300   6.000    3.400   1.200  0.000   0.000   0.000  0.000   \nRZE       0.246   2.455    4.624   0.537  0.354   3.545   6.676  2.163   \nIEG       0.026   0.388    1.109   0.065  0.074   9.612  62.291  2.935   \n\n         HCU-o1   HCU-o2   D-o1   D-o2  \nairport                                 \nWAW       9.500  129.700  0.000  0.000  \nKRK       2.900   31.300  0.000  0.000  \nKAT       2.400   29.670  0.000  8.570  \nWRO       1.500   18.800  0.000  0.000  \nPOZ       1.300   16.200  0.000  0.000  \nLCJ       0.344    4.200  0.044  0.000  \nGDN       2.000   23.600  0.000  0.000  \nSZZ       0.339    4.200  0.039 -0.000  \nBZG       0.300    6.200  0.000  0.000  \nRZE       0.300    3.754  0.000  0.254  \nIEG       0.052    0.610  0.047  0.000  ",
      "text/html": "<div>\n<style scoped>\n    .dataframe tbody tr th:only-of-type {\n        vertical-align: middle;\n    }\n\n    .dataframe tbody tr th {\n        vertical-align: top;\n    }\n\n    .dataframe thead th {\n        text-align: right;\n    }\n</style>\n<table border=\"1\" class=\"dataframe\">\n  <thead>\n    <tr style=\"text-align: right;\">\n      <th></th>\n      <th>HCU-i1</th>\n      <th>HCU-i2</th>\n      <th>HCU-i3</th>\n      <th>HCU-i4</th>\n      <th>D-i1</th>\n      <th>D-i2</th>\n      <th>D-i3</th>\n      <th>D-i4</th>\n      <th>HCU-o1</th>\n      <th>HCU-o2</th>\n      <th>D-o1</th>\n      <th>D-o2</th>\n    </tr>\n    <tr>\n      <th>airport</th>\n      <th></th>\n      <th></th>\n      <th></th>\n      <th></th>\n      <th></th>\n      <th></th>\n      <th></th>\n      <th></th>\n      <th></th>\n      <th></th>\n      <th></th>\n      <th></th>\n    </tr>\n  </thead>\n  <tbody>\n    <tr>\n      <th>WAW</th>\n      <td>10.500</td>\n      <td>36.000</td>\n      <td>129.400</td>\n      <td>7.000</td>\n      <td>0.000</td>\n      <td>0.000</td>\n      <td>0.000</td>\n      <td>0.000</td>\n      <td>9.500</td>\n      <td>129.700</td>\n      <td>0.000</td>\n      <td>0.000</td>\n    </tr>\n    <tr>\n      <th>KRK</th>\n      <td>3.100</td>\n      <td>19.000</td>\n      <td>31.600</td>\n      <td>7.900</td>\n      <td>0.000</td>\n      <td>0.000</td>\n      <td>0.000</td>\n      <td>0.000</td>\n      <td>2.900</td>\n      <td>31.300</td>\n      <td>0.000</td>\n      <td>0.000</td>\n    </tr>\n    <tr>\n      <th>KAT</th>\n      <td>2.128</td>\n      <td>18.919</td>\n      <td>33.935</td>\n      <td>4.396</td>\n      <td>1.472</td>\n      <td>13.081</td>\n      <td>23.465</td>\n      <td>6.104</td>\n      <td>2.400</td>\n      <td>29.670</td>\n      <td>0.000</td>\n      <td>8.570</td>\n    </tr>\n    <tr>\n      <th>WRO</th>\n      <td>1.500</td>\n      <td>12.000</td>\n      <td>18.000</td>\n      <td>3.000</td>\n      <td>0.000</td>\n      <td>0.000</td>\n      <td>0.000</td>\n      <td>0.000</td>\n      <td>1.500</td>\n      <td>18.800</td>\n      <td>0.000</td>\n      <td>0.000</td>\n    </tr>\n    <tr>\n      <th>POZ</th>\n      <td>1.200</td>\n      <td>7.998</td>\n      <td>19.195</td>\n      <td>1.928</td>\n      <td>0.300</td>\n      <td>2.002</td>\n      <td>4.805</td>\n      <td>2.072</td>\n      <td>1.300</td>\n      <td>16.200</td>\n      <td>0.000</td>\n      <td>0.000</td>\n    </tr>\n    <tr>\n      <th>LCJ</th>\n      <td>0.180</td>\n      <td>2.783</td>\n      <td>7.201</td>\n      <td>0.475</td>\n      <td>0.420</td>\n      <td>9.217</td>\n      <td>16.799</td>\n      <td>3.425</td>\n      <td>0.344</td>\n      <td>4.200</td>\n      <td>0.044</td>\n      <td>0.000</td>\n    </tr>\n    <tr>\n      <th>GDN</th>\n      <td>1.000</td>\n      <td>15.000</td>\n      <td>42.900</td>\n      <td>2.500</td>\n      <td>0.000</td>\n      <td>0.000</td>\n      <td>0.000</td>\n      <td>0.000</td>\n      <td>2.000</td>\n      <td>23.600</td>\n      <td>0.000</td>\n      <td>0.000</td>\n    </tr>\n    <tr>\n      <th>SZZ</th>\n      <td>0.190</td>\n      <td>2.708</td>\n      <td>6.959</td>\n      <td>0.465</td>\n      <td>0.510</td>\n      <td>7.292</td>\n      <td>18.741</td>\n      <td>1.435</td>\n      <td>0.339</td>\n      <td>4.200</td>\n      <td>0.039</td>\n      <td>-0.000</td>\n    </tr>\n    <tr>\n      <th>BZG</th>\n      <td>0.300</td>\n      <td>6.000</td>\n      <td>3.400</td>\n      <td>1.200</td>\n      <td>0.000</td>\n      <td>0.000</td>\n      <td>0.000</td>\n      <td>0.000</td>\n      <td>0.300</td>\n      <td>6.200</td>\n      <td>0.000</td>\n      <td>0.000</td>\n    </tr>\n    <tr>\n      <th>RZE</th>\n      <td>0.246</td>\n      <td>2.455</td>\n      <td>4.624</td>\n      <td>0.537</td>\n      <td>0.354</td>\n      <td>3.545</td>\n      <td>6.676</td>\n      <td>2.163</td>\n      <td>0.300</td>\n      <td>3.754</td>\n      <td>0.000</td>\n      <td>0.254</td>\n    </tr>\n    <tr>\n      <th>IEG</th>\n      <td>0.026</td>\n      <td>0.388</td>\n      <td>1.109</td>\n      <td>0.065</td>\n      <td>0.074</td>\n      <td>9.612</td>\n      <td>62.291</td>\n      <td>2.935</td>\n      <td>0.052</td>\n      <td>0.610</td>\n      <td>0.047</td>\n      <td>0.000</td>\n    </tr>\n  </tbody>\n</table>\n</div>"
     },
     "execution_count": 126,
     "metadata": {},
     "output_type": "execute_result"
    }
   ],
   "source": [
    "def create_model(alternative: int, inputs_df: DataFrame, outputs_df: DataFrame):\n",
    "  N, M, K = map(len, [outputs_df.columns, inputs_df.columns, inputs_df])\n",
    "  o = alternative\n",
    "  inputs = inputs_df.values.T\n",
    "  outputs = outputs_df.values.T\n",
    "\n",
    "  model = LpProblem(\"CCR-input\", LpMinimize)\n",
    "\n",
    "  theta = LpVariable(\"theta\", 0, None, cat='Continuous')\n",
    "  lambdas = LpVariable.dicts(\"lambda\", range(K), 0, None, cat='Continuous')\n",
    "\n",
    "  model.setObjective(theta)\n",
    "\n",
    "  for m in range(M): model.addConstraint(\n",
    "    sum(lambdas[k] * inputs[m][k] for k in range(K))\n",
    "    <=\n",
    "    theta * inputs[m][o]\n",
    "  )\n",
    "\n",
    "  for n in range(N): model.addConstraint(\n",
    "    sum(lambdas[k] * outputs[n][k] for k in range(K))\n",
    "    >=\n",
    "    outputs[n][o]\n",
    "  )\n",
    "\n",
    "  return model\n",
    "\n",
    "\n",
    "def find_hcu(alternative: int, inputs_df: DataFrame, outputs_df: DataFrame):\n",
    "  N, M, K = map(len, [outputs_df.columns, inputs_df.columns, inputs_df])\n",
    "  o = alternative\n",
    "  inputs = inputs_df.values.T\n",
    "  outputs = outputs_df.values.T\n",
    "\n",
    "  model = create_model(alternative, inputs_df, outputs_df)\n",
    "  model.solve(pulp.PULP_CBC_CMD(msg=False))\n",
    "  vars = model.variablesDict()\n",
    "\n",
    "  input_hcus = [\n",
    "    sum(vars[f'lambda_{k}'].value() * inputs[m][k] for k in range(K))\n",
    "    for m in range(M)\n",
    "  ]\n",
    "  output_hcus = [\n",
    "    sum(vars[f'lambda_{k}'].value() * outputs[n][k] for k in range(K))\n",
    "    for n in range(N)\n",
    "  ]\n",
    "\n",
    "  input_differences = [\n",
    "    inputs[m][o] - input_hcus[m]\n",
    "    for m in range(M)\n",
    "  ]\n",
    "  output_differences = [\n",
    "    output_hcus[n] - outputs[n][o]\n",
    "    for n in range(N)\n",
    "  ]\n",
    "\n",
    "  return [\n",
    "    *input_hcus,\n",
    "    *input_differences,\n",
    "    *output_hcus,\n",
    "    *output_differences\n",
    "  ]\n",
    "\n",
    "\n",
    "rows = [find_hcu(k, inputs_df, outputs_df) for k in range(K)]\n",
    "columns = [\n",
    "  *inputs_df.columns.map(lambda x: f'HCU-{x}'),\n",
    "  *inputs_df.columns.map(lambda x: f'D-{x}'),\n",
    "  *outputs_df.columns.map(lambda x: f'HCU-{x}'),\n",
    "  *outputs_df.columns.map(lambda x: f'D-{x}')\n",
    "]\n",
    "hcu_results = DataFrame(rows, index=inputs_df.index, columns=columns).round(3)\n",
    "hcu_results"
   ],
   "metadata": {
    "collapsed": false
   }
  },
  {
   "cell_type": "markdown",
   "source": [
    "## Superefektywność\n",
    "\n",
    "Do wyznaczenia superefektywności należy z modelu zdjąć ograniczenie efektywności dla kolejnych kryteriów.\n",
    "\n",
    "\\begin{align*}\n",
    "\\max & \\sum_{n=1}^{N}\\mu_n\\cdot y_{no} & \\\\\n",
    "s.t. & \\sum\\limits_{m=1}^{M}\\nu_m\\cdot x_{mo}=1  &  \\\\\n",
    " & \\sum\\limits_{n=1}^{N}\\mu_n\\cdot y_{nk}\\leq\\sum\\limits_{m=1}^{M}\\nu_n\\cdot x_{mk}, & k=1,2,...,K,\\;k\\neq o \\\\\n",
    " & \\mu_n\\nu_m\\geq0, & m=1,2,...,M\\;, n=1,2,...,N \\\\\n",
    "\\end{align*}\n",
    "\n"
   ],
   "metadata": {
    "collapsed": false
   }
  },
  {
   "cell_type": "code",
   "execution_count": 104,
   "outputs": [
    {
     "data": {
      "text/plain": "         super-efficiency\nairport                  \nWAW                 2.278\nKRK                 1.124\nKAT                 0.591\nWRO                 1.040\nPOZ                 0.800\nLCJ                 0.300\nGDN                 2.000\nSZZ                 0.271\nBZG                 1.746\nRZE                 0.409\nIEG                 0.258",
      "text/html": "<div>\n<style scoped>\n    .dataframe tbody tr th:only-of-type {\n        vertical-align: middle;\n    }\n\n    .dataframe tbody tr th {\n        vertical-align: top;\n    }\n\n    .dataframe thead th {\n        text-align: right;\n    }\n</style>\n<table border=\"1\" class=\"dataframe\">\n  <thead>\n    <tr style=\"text-align: right;\">\n      <th></th>\n      <th>super-efficiency</th>\n    </tr>\n    <tr>\n      <th>airport</th>\n      <th></th>\n    </tr>\n  </thead>\n  <tbody>\n    <tr>\n      <th>WAW</th>\n      <td>2.278</td>\n    </tr>\n    <tr>\n      <th>KRK</th>\n      <td>1.124</td>\n    </tr>\n    <tr>\n      <th>KAT</th>\n      <td>0.591</td>\n    </tr>\n    <tr>\n      <th>WRO</th>\n      <td>1.040</td>\n    </tr>\n    <tr>\n      <th>POZ</th>\n      <td>0.800</td>\n    </tr>\n    <tr>\n      <th>LCJ</th>\n      <td>0.300</td>\n    </tr>\n    <tr>\n      <th>GDN</th>\n      <td>2.000</td>\n    </tr>\n    <tr>\n      <th>SZZ</th>\n      <td>0.271</td>\n    </tr>\n    <tr>\n      <th>BZG</th>\n      <td>1.746</td>\n    </tr>\n    <tr>\n      <th>RZE</th>\n      <td>0.409</td>\n    </tr>\n    <tr>\n      <th>IEG</th>\n      <td>0.258</td>\n    </tr>\n  </tbody>\n</table>\n</div>"
     },
     "execution_count": 104,
     "metadata": {},
     "output_type": "execute_result"
    }
   ],
   "source": [
    "import pulp\n",
    "from pulp import LpVariable, LpProblem, LpMaximize\n",
    "\n",
    "\n",
    "def create_model(alternative_nr: int, inputs_df: DataFrame, outputs_df: DataFrame):\n",
    "  N, M, K = map(len, [outputs_df.columns, inputs_df.columns, inputs_df])\n",
    "  o = alternative_nr\n",
    "\n",
    "  model = LpProblem(\"CCR-input\", LpMaximize)\n",
    "\n",
    "  input_weights = LpVariable.dicts(\"input_weight\", range(M), 0, None, cat='Continuous')\n",
    "  output_weights = LpVariable.dicts(\"output_weight\", range(N), 0, None, cat='Continuous')\n",
    "\n",
    "  inputs = inputs_df.values.T\n",
    "  outputs = outputs_df.values.T\n",
    "\n",
    "  model.setObjective(sum(\n",
    "    output_weights[n] * outputs[n][o] for n in range(N)\n",
    "  ))\n",
    "\n",
    "  model.addConstraint(sum(\n",
    "    input_weights[m] * inputs[m][o] for m in range(M)\n",
    "  ) == 1)\n",
    "\n",
    "  for k in filter(lambda k: k != o, range(K)):\n",
    "    model.addConstraint(\n",
    "      sum(output_weights[n] * outputs[n][k] for n in range(N))\n",
    "      <=\n",
    "      sum(input_weights[m] * inputs[m][k] for m in range(M))\n",
    "    )\n",
    "\n",
    "  return model\n",
    "\n",
    "\n",
    "def find_super_efficiency(alternative: int, inputs_df: DataFrame, outputs_df: DataFrame):\n",
    "  model = create_model(alternative, inputs_df, outputs_df)\n",
    "  model.solve(pulp.PULP_CBC_CMD(msg=False))\n",
    "  return model.objective.value()\n",
    "\n",
    "\n",
    "super_efficiency_results = DataFrame(\n",
    "  [find_super_efficiency(k, inputs_df, outputs_df) for k in range(K)],\n",
    "  index=inputs_df.index,\n",
    "  columns=['super-efficiency']\n",
    ").round(3)\n",
    "\n",
    "super_efficiency_results"
   ],
   "metadata": {
    "collapsed": false
   }
  },
  {
   "cell_type": "markdown",
   "source": [
    "## Efektywność krzyżowa"
   ],
   "metadata": {
    "collapsed": false
   }
  },
  {
   "cell_type": "code",
   "execution_count": 105,
   "outputs": [
    {
     "data": {
      "text/plain": "airport    WAW    KRK    KAT    WRO    POZ    LCJ    GDN    SZZ    BZG    RZE  \\\nairport                                                                         \nWAW      2.278  1.000  0.913  1.000  1.000  0.595  0.905  1.000  0.960  0.903   \nKRK      1.000  1.124  1.000  1.000  1.000  0.491  0.935  0.755  0.948  0.996   \nKAT      0.407  0.519  0.591  0.579  0.563  0.278  0.667  0.371  0.352  0.591   \nWRO      0.980  1.000  1.000  1.040  1.000  0.605  1.000  0.856  1.000  1.000   \nPOZ      0.986  0.704  0.774  0.771  0.800  0.512  0.867  0.737  0.646  0.770   \nLCJ      0.216  0.158  0.259  0.241  0.255  0.300  0.500  0.273  0.168  0.261   \nGDN      1.000  0.620  1.000  1.000  1.000  1.000  2.000  1.000  0.527  1.000   \nSZZ      0.266  0.153  0.238  0.239  0.243  0.261  0.429  0.271  0.156  0.238   \nBZG      0.653  0.792  0.972  1.000  0.909  1.000  1.000  1.000  1.746  1.000   \nRZE      0.352  0.332  0.409  0.382  0.403  0.273  0.500  0.346  0.297  0.409   \nIEG      0.038  0.001  0.002  0.003  0.006  0.078  0.050  0.036  0.009  0.002   \n\nairport    IEG  cross-efficiency  \nairport                           \nWAW      0.523             1.007  \nKRK      0.428             0.880  \nKAT      0.248             0.470  \nWRO      0.531             0.910  \nPOZ      0.458             0.729  \nLCJ      0.297             0.266  \nGDN      1.000             1.013  \nSZZ      0.254             0.250  \nBZG      0.876             0.995  \nRZE      0.247             0.359  \nIEG      0.258             0.044  ",
      "text/html": "<div>\n<style scoped>\n    .dataframe tbody tr th:only-of-type {\n        vertical-align: middle;\n    }\n\n    .dataframe tbody tr th {\n        vertical-align: top;\n    }\n\n    .dataframe thead th {\n        text-align: right;\n    }\n</style>\n<table border=\"1\" class=\"dataframe\">\n  <thead>\n    <tr style=\"text-align: right;\">\n      <th>airport</th>\n      <th>WAW</th>\n      <th>KRK</th>\n      <th>KAT</th>\n      <th>WRO</th>\n      <th>POZ</th>\n      <th>LCJ</th>\n      <th>GDN</th>\n      <th>SZZ</th>\n      <th>BZG</th>\n      <th>RZE</th>\n      <th>IEG</th>\n      <th>cross-efficiency</th>\n    </tr>\n    <tr>\n      <th>airport</th>\n      <th></th>\n      <th></th>\n      <th></th>\n      <th></th>\n      <th></th>\n      <th></th>\n      <th></th>\n      <th></th>\n      <th></th>\n      <th></th>\n      <th></th>\n      <th></th>\n    </tr>\n  </thead>\n  <tbody>\n    <tr>\n      <th>WAW</th>\n      <td>2.278</td>\n      <td>1.000</td>\n      <td>0.913</td>\n      <td>1.000</td>\n      <td>1.000</td>\n      <td>0.595</td>\n      <td>0.905</td>\n      <td>1.000</td>\n      <td>0.960</td>\n      <td>0.903</td>\n      <td>0.523</td>\n      <td>1.007</td>\n    </tr>\n    <tr>\n      <th>KRK</th>\n      <td>1.000</td>\n      <td>1.124</td>\n      <td>1.000</td>\n      <td>1.000</td>\n      <td>1.000</td>\n      <td>0.491</td>\n      <td>0.935</td>\n      <td>0.755</td>\n      <td>0.948</td>\n      <td>0.996</td>\n      <td>0.428</td>\n      <td>0.880</td>\n    </tr>\n    <tr>\n      <th>KAT</th>\n      <td>0.407</td>\n      <td>0.519</td>\n      <td>0.591</td>\n      <td>0.579</td>\n      <td>0.563</td>\n      <td>0.278</td>\n      <td>0.667</td>\n      <td>0.371</td>\n      <td>0.352</td>\n      <td>0.591</td>\n      <td>0.248</td>\n      <td>0.470</td>\n    </tr>\n    <tr>\n      <th>WRO</th>\n      <td>0.980</td>\n      <td>1.000</td>\n      <td>1.000</td>\n      <td>1.040</td>\n      <td>1.000</td>\n      <td>0.605</td>\n      <td>1.000</td>\n      <td>0.856</td>\n      <td>1.000</td>\n      <td>1.000</td>\n      <td>0.531</td>\n      <td>0.910</td>\n    </tr>\n    <tr>\n      <th>POZ</th>\n      <td>0.986</td>\n      <td>0.704</td>\n      <td>0.774</td>\n      <td>0.771</td>\n      <td>0.800</td>\n      <td>0.512</td>\n      <td>0.867</td>\n      <td>0.737</td>\n      <td>0.646</td>\n      <td>0.770</td>\n      <td>0.458</td>\n      <td>0.729</td>\n    </tr>\n    <tr>\n      <th>LCJ</th>\n      <td>0.216</td>\n      <td>0.158</td>\n      <td>0.259</td>\n      <td>0.241</td>\n      <td>0.255</td>\n      <td>0.300</td>\n      <td>0.500</td>\n      <td>0.273</td>\n      <td>0.168</td>\n      <td>0.261</td>\n      <td>0.297</td>\n      <td>0.266</td>\n    </tr>\n    <tr>\n      <th>GDN</th>\n      <td>1.000</td>\n      <td>0.620</td>\n      <td>1.000</td>\n      <td>1.000</td>\n      <td>1.000</td>\n      <td>1.000</td>\n      <td>2.000</td>\n      <td>1.000</td>\n      <td>0.527</td>\n      <td>1.000</td>\n      <td>1.000</td>\n      <td>1.013</td>\n    </tr>\n    <tr>\n      <th>SZZ</th>\n      <td>0.266</td>\n      <td>0.153</td>\n      <td>0.238</td>\n      <td>0.239</td>\n      <td>0.243</td>\n      <td>0.261</td>\n      <td>0.429</td>\n      <td>0.271</td>\n      <td>0.156</td>\n      <td>0.238</td>\n      <td>0.254</td>\n      <td>0.250</td>\n    </tr>\n    <tr>\n      <th>BZG</th>\n      <td>0.653</td>\n      <td>0.792</td>\n      <td>0.972</td>\n      <td>1.000</td>\n      <td>0.909</td>\n      <td>1.000</td>\n      <td>1.000</td>\n      <td>1.000</td>\n      <td>1.746</td>\n      <td>1.000</td>\n      <td>0.876</td>\n      <td>0.995</td>\n    </tr>\n    <tr>\n      <th>RZE</th>\n      <td>0.352</td>\n      <td>0.332</td>\n      <td>0.409</td>\n      <td>0.382</td>\n      <td>0.403</td>\n      <td>0.273</td>\n      <td>0.500</td>\n      <td>0.346</td>\n      <td>0.297</td>\n      <td>0.409</td>\n      <td>0.247</td>\n      <td>0.359</td>\n    </tr>\n    <tr>\n      <th>IEG</th>\n      <td>0.038</td>\n      <td>0.001</td>\n      <td>0.002</td>\n      <td>0.003</td>\n      <td>0.006</td>\n      <td>0.078</td>\n      <td>0.050</td>\n      <td>0.036</td>\n      <td>0.009</td>\n      <td>0.002</td>\n      <td>0.258</td>\n      <td>0.044</td>\n    </tr>\n  </tbody>\n</table>\n</div>"
     },
     "execution_count": 105,
     "metadata": {},
     "output_type": "execute_result"
    }
   ],
   "source": [
    "def find_cross_efficiency(inputs_df: DataFrame, outputs_df: DataFrame) -> DataFrame:\n",
    "  weights = [find_efficiency_weights(alternative, inputs_df, outputs_df) for alternative in range(len(inputs_df))]\n",
    "  inputs = inputs_df.values.T\n",
    "  outputs = outputs_df.values.T\n",
    "\n",
    "  cross_efficiency = DataFrame([[\n",
    "    sum(weights[j][f'output_weight_{n}'].varValue * outputs[n][i] for n in range(len(outputs)))\n",
    "    /\n",
    "    sum(weights[j][f'input_weight_{m}'].varValue * inputs[m][i] for m in range(len(inputs)))\n",
    "    for j in range(len(inputs_df))\n",
    "  ] for i in range(len(inputs_df))\n",
    "  ],\n",
    "    index=inputs_df.index,\n",
    "    columns=inputs_df.index\n",
    "  )\n",
    "\n",
    "  cross_efficiency['cross-efficiency'] = cross_efficiency.mean(axis=1)\n",
    "\n",
    "  return cross_efficiency.round(3)\n",
    "\n",
    "\n",
    "cross_efficiency_results = find_cross_efficiency(inputs_df, outputs_df)\n",
    "cross_efficiency_results"
   ],
   "metadata": {
    "collapsed": false
   }
  },
  {
   "cell_type": "markdown",
   "source": [
    "## Rozkład efektywności"
   ],
   "metadata": {
    "collapsed": false
   }
  },
  {
   "cell_type": "code",
   "execution_count": 125,
   "outputs": [
    {
     "data": {
      "text/plain": "     0.2-0.4  0.0-0.2  0.4-0.6  0.6-0.8  0.8-1.0  index-efficiency\nWAW    0.360    0.330    0.210     0.09     0.01             0.318\nKRK    0.420    0.500    0.070     0.01     0.00             0.212\nKAT    0.050    0.950    0.000     0.00     0.00             0.090\nWRO    0.400    0.480    0.100     0.02     0.00             0.231\nPOZ    0.360    0.590    0.050     0.00     0.00             0.177\nLCJ    0.000    1.000    0.000     0.00     0.00             0.046\nGDN    0.300    0.630    0.060     0.01     0.00             0.183\nSZZ    0.000    1.000    0.000     0.00     0.00             0.050\nBZG    0.293    0.535    0.141     0.03     0.00             0.242\nRZE    0.020    0.980    0.000     0.00     0.00             0.073\nIEG    0.000    1.000    0.000     0.00     0.00             0.004",
      "text/html": "<div>\n<style scoped>\n    .dataframe tbody tr th:only-of-type {\n        vertical-align: middle;\n    }\n\n    .dataframe tbody tr th {\n        vertical-align: top;\n    }\n\n    .dataframe thead th {\n        text-align: right;\n    }\n</style>\n<table border=\"1\" class=\"dataframe\">\n  <thead>\n    <tr style=\"text-align: right;\">\n      <th></th>\n      <th>0.2-0.4</th>\n      <th>0.0-0.2</th>\n      <th>0.4-0.6</th>\n      <th>0.6-0.8</th>\n      <th>0.8-1.0</th>\n      <th>index-efficiency</th>\n    </tr>\n  </thead>\n  <tbody>\n    <tr>\n      <th>WAW</th>\n      <td>0.360</td>\n      <td>0.330</td>\n      <td>0.210</td>\n      <td>0.09</td>\n      <td>0.01</td>\n      <td>0.318</td>\n    </tr>\n    <tr>\n      <th>KRK</th>\n      <td>0.420</td>\n      <td>0.500</td>\n      <td>0.070</td>\n      <td>0.01</td>\n      <td>0.00</td>\n      <td>0.212</td>\n    </tr>\n    <tr>\n      <th>KAT</th>\n      <td>0.050</td>\n      <td>0.950</td>\n      <td>0.000</td>\n      <td>0.00</td>\n      <td>0.00</td>\n      <td>0.090</td>\n    </tr>\n    <tr>\n      <th>WRO</th>\n      <td>0.400</td>\n      <td>0.480</td>\n      <td>0.100</td>\n      <td>0.02</td>\n      <td>0.00</td>\n      <td>0.231</td>\n    </tr>\n    <tr>\n      <th>POZ</th>\n      <td>0.360</td>\n      <td>0.590</td>\n      <td>0.050</td>\n      <td>0.00</td>\n      <td>0.00</td>\n      <td>0.177</td>\n    </tr>\n    <tr>\n      <th>LCJ</th>\n      <td>0.000</td>\n      <td>1.000</td>\n      <td>0.000</td>\n      <td>0.00</td>\n      <td>0.00</td>\n      <td>0.046</td>\n    </tr>\n    <tr>\n      <th>GDN</th>\n      <td>0.300</td>\n      <td>0.630</td>\n      <td>0.060</td>\n      <td>0.01</td>\n      <td>0.00</td>\n      <td>0.183</td>\n    </tr>\n    <tr>\n      <th>SZZ</th>\n      <td>0.000</td>\n      <td>1.000</td>\n      <td>0.000</td>\n      <td>0.00</td>\n      <td>0.00</td>\n      <td>0.050</td>\n    </tr>\n    <tr>\n      <th>BZG</th>\n      <td>0.293</td>\n      <td>0.535</td>\n      <td>0.141</td>\n      <td>0.03</td>\n      <td>0.00</td>\n      <td>0.242</td>\n    </tr>\n    <tr>\n      <th>RZE</th>\n      <td>0.020</td>\n      <td>0.980</td>\n      <td>0.000</td>\n      <td>0.00</td>\n      <td>0.00</td>\n      <td>0.073</td>\n    </tr>\n    <tr>\n      <th>IEG</th>\n      <td>0.000</td>\n      <td>1.000</td>\n      <td>0.000</td>\n      <td>0.00</td>\n      <td>0.00</td>\n      <td>0.004</td>\n    </tr>\n  </tbody>\n</table>\n</div>"
     },
     "execution_count": 125,
     "metadata": {},
     "output_type": "execute_result"
    }
   ],
   "source": [
    "import numpy as np\n",
    "\n",
    "\n",
    "def find_efficiency_index(inputs_df: DataFrame, outputs_df: DataFrame, samples_df: DataFrame) -> DataFrame:\n",
    "  M, S, K = map(len, [inputs_df.columns, samples_df, outputs_df])\n",
    "  inputs = inputs_df.values\n",
    "  outputs = outputs_df.values\n",
    "  samples = samples_df.values\n",
    "\n",
    "  input_weights = samples[:, :M]\n",
    "  output_weights = samples[:, M:]\n",
    "\n",
    "  efficiency_scores = DataFrame([[\n",
    "    sum(output_weights[s] * outputs[k]) / sum(input_weights[s] * inputs[k])\n",
    "    for s in range(S)\n",
    "  ] for k in range(K)],\n",
    "    index=inputs_df.index,\n",
    "    columns=samples_df.index\n",
    "  )\n",
    "  efficiency_scores /= max(efficiency_scores.max())\n",
    "\n",
    "  bins = np.arange(0, 1.1, 0.2).round(1)\n",
    "\n",
    "  labels = [f'{bins[i]}-{bins[i + 1]}' for i in range(len(bins) - 1)]\n",
    "\n",
    "  indices = DataFrame([\n",
    "    pd.cut(efficiency_scores.loc[index], bins=bins, labels=labels, right=False).value_counts()\n",
    "    for index in efficiency_scores.index.values\n",
    "  ])\n",
    "\n",
    "  indices = DataFrame([\n",
    "    indices.loc[index] / indices.loc[index].sum()\n",
    "    for index in indices.index.values\n",
    "  ])\n",
    "\n",
    "  indices['index-efficiency'] = efficiency_scores.mean(axis=1)\n",
    "  return indices\n",
    "\n",
    "\n",
    "efficiency_index_results = find_efficiency_index(inputs_df, outputs_df, samples_df).round(3)\n",
    "efficiency_index_results"
   ],
   "metadata": {
    "collapsed": false
   }
  },
  {
   "cell_type": "markdown",
   "source": [
    "## Ranking jednostek\n"
   ],
   "metadata": {
    "collapsed": false
   }
  },
  {
   "cell_type": "code",
   "execution_count": 107,
   "outputs": [],
   "source": [
    "def sort_by(frame: DataFrame, column: str) -> DataFrame:\n",
    "  return frame.sort_values(by=column, ascending=False)"
   ],
   "metadata": {
    "collapsed": false
   }
  },
  {
   "cell_type": "markdown",
   "source": [
    "Względem efektywności"
   ],
   "metadata": {
    "collapsed": false
   }
  },
  {
   "cell_type": "code",
   "execution_count": 108,
   "outputs": [
    {
     "data": {
      "text/plain": "         efficiency\nairport            \nWAW           1.000\nKRK           1.000\nWRO           1.000\nGDN           1.000\nBZG           1.000\nPOZ           0.800\nKAT           0.591\nRZE           0.409\nLCJ           0.300\nSZZ           0.271\nIEG           0.258",
      "text/html": "<div>\n<style scoped>\n    .dataframe tbody tr th:only-of-type {\n        vertical-align: middle;\n    }\n\n    .dataframe tbody tr th {\n        vertical-align: top;\n    }\n\n    .dataframe thead th {\n        text-align: right;\n    }\n</style>\n<table border=\"1\" class=\"dataframe\">\n  <thead>\n    <tr style=\"text-align: right;\">\n      <th></th>\n      <th>efficiency</th>\n    </tr>\n    <tr>\n      <th>airport</th>\n      <th></th>\n    </tr>\n  </thead>\n  <tbody>\n    <tr>\n      <th>WAW</th>\n      <td>1.000</td>\n    </tr>\n    <tr>\n      <th>KRK</th>\n      <td>1.000</td>\n    </tr>\n    <tr>\n      <th>WRO</th>\n      <td>1.000</td>\n    </tr>\n    <tr>\n      <th>GDN</th>\n      <td>1.000</td>\n    </tr>\n    <tr>\n      <th>BZG</th>\n      <td>1.000</td>\n    </tr>\n    <tr>\n      <th>POZ</th>\n      <td>0.800</td>\n    </tr>\n    <tr>\n      <th>KAT</th>\n      <td>0.591</td>\n    </tr>\n    <tr>\n      <th>RZE</th>\n      <td>0.409</td>\n    </tr>\n    <tr>\n      <th>LCJ</th>\n      <td>0.300</td>\n    </tr>\n    <tr>\n      <th>SZZ</th>\n      <td>0.271</td>\n    </tr>\n    <tr>\n      <th>IEG</th>\n      <td>0.258</td>\n    </tr>\n  </tbody>\n</table>\n</div>"
     },
     "execution_count": 108,
     "metadata": {},
     "output_type": "execute_result"
    }
   ],
   "source": [
    "sort_by(efficiency_results, 'efficiency')"
   ],
   "metadata": {
    "collapsed": false
   }
  },
  {
   "cell_type": "markdown",
   "source": [
    "Względem superefektywności"
   ],
   "metadata": {
    "collapsed": false
   }
  },
  {
   "cell_type": "code",
   "execution_count": 109,
   "outputs": [
    {
     "data": {
      "text/plain": "         super-efficiency\nairport                  \nWAW                 2.278\nGDN                 2.000\nBZG                 1.746\nKRK                 1.124\nWRO                 1.040\nPOZ                 0.800\nKAT                 0.591\nRZE                 0.409\nLCJ                 0.300\nSZZ                 0.271\nIEG                 0.258",
      "text/html": "<div>\n<style scoped>\n    .dataframe tbody tr th:only-of-type {\n        vertical-align: middle;\n    }\n\n    .dataframe tbody tr th {\n        vertical-align: top;\n    }\n\n    .dataframe thead th {\n        text-align: right;\n    }\n</style>\n<table border=\"1\" class=\"dataframe\">\n  <thead>\n    <tr style=\"text-align: right;\">\n      <th></th>\n      <th>super-efficiency</th>\n    </tr>\n    <tr>\n      <th>airport</th>\n      <th></th>\n    </tr>\n  </thead>\n  <tbody>\n    <tr>\n      <th>WAW</th>\n      <td>2.278</td>\n    </tr>\n    <tr>\n      <th>GDN</th>\n      <td>2.000</td>\n    </tr>\n    <tr>\n      <th>BZG</th>\n      <td>1.746</td>\n    </tr>\n    <tr>\n      <th>KRK</th>\n      <td>1.124</td>\n    </tr>\n    <tr>\n      <th>WRO</th>\n      <td>1.040</td>\n    </tr>\n    <tr>\n      <th>POZ</th>\n      <td>0.800</td>\n    </tr>\n    <tr>\n      <th>KAT</th>\n      <td>0.591</td>\n    </tr>\n    <tr>\n      <th>RZE</th>\n      <td>0.409</td>\n    </tr>\n    <tr>\n      <th>LCJ</th>\n      <td>0.300</td>\n    </tr>\n    <tr>\n      <th>SZZ</th>\n      <td>0.271</td>\n    </tr>\n    <tr>\n      <th>IEG</th>\n      <td>0.258</td>\n    </tr>\n  </tbody>\n</table>\n</div>"
     },
     "execution_count": 109,
     "metadata": {},
     "output_type": "execute_result"
    }
   ],
   "source": [
    "sort_by(super_efficiency_results, 'super-efficiency')"
   ],
   "metadata": {
    "collapsed": false
   }
  },
  {
   "cell_type": "markdown",
   "source": [
    "Względem efektywności krzyżowej"
   ],
   "metadata": {
    "collapsed": false
   }
  },
  {
   "cell_type": "code",
   "execution_count": 110,
   "outputs": [
    {
     "data": {
      "text/plain": "airport    WAW    KRK    KAT    WRO    POZ    LCJ    GDN    SZZ    BZG    RZE  \\\nairport                                                                         \nGDN      1.000  0.620  1.000  1.000  1.000  1.000  2.000  1.000  0.527  1.000   \nWAW      2.278  1.000  0.913  1.000  1.000  0.595  0.905  1.000  0.960  0.903   \nBZG      0.653  0.792  0.972  1.000  0.909  1.000  1.000  1.000  1.746  1.000   \nWRO      0.980  1.000  1.000  1.040  1.000  0.605  1.000  0.856  1.000  1.000   \nKRK      1.000  1.124  1.000  1.000  1.000  0.491  0.935  0.755  0.948  0.996   \nPOZ      0.986  0.704  0.774  0.771  0.800  0.512  0.867  0.737  0.646  0.770   \nKAT      0.407  0.519  0.591  0.579  0.563  0.278  0.667  0.371  0.352  0.591   \nRZE      0.352  0.332  0.409  0.382  0.403  0.273  0.500  0.346  0.297  0.409   \nLCJ      0.216  0.158  0.259  0.241  0.255  0.300  0.500  0.273  0.168  0.261   \nSZZ      0.266  0.153  0.238  0.239  0.243  0.261  0.429  0.271  0.156  0.238   \nIEG      0.038  0.001  0.002  0.003  0.006  0.078  0.050  0.036  0.009  0.002   \n\nairport    IEG  cross-efficiency  \nairport                           \nGDN      1.000             1.013  \nWAW      0.523             1.007  \nBZG      0.876             0.995  \nWRO      0.531             0.910  \nKRK      0.428             0.880  \nPOZ      0.458             0.729  \nKAT      0.248             0.470  \nRZE      0.247             0.359  \nLCJ      0.297             0.266  \nSZZ      0.254             0.250  \nIEG      0.258             0.044  ",
      "text/html": "<div>\n<style scoped>\n    .dataframe tbody tr th:only-of-type {\n        vertical-align: middle;\n    }\n\n    .dataframe tbody tr th {\n        vertical-align: top;\n    }\n\n    .dataframe thead th {\n        text-align: right;\n    }\n</style>\n<table border=\"1\" class=\"dataframe\">\n  <thead>\n    <tr style=\"text-align: right;\">\n      <th>airport</th>\n      <th>WAW</th>\n      <th>KRK</th>\n      <th>KAT</th>\n      <th>WRO</th>\n      <th>POZ</th>\n      <th>LCJ</th>\n      <th>GDN</th>\n      <th>SZZ</th>\n      <th>BZG</th>\n      <th>RZE</th>\n      <th>IEG</th>\n      <th>cross-efficiency</th>\n    </tr>\n    <tr>\n      <th>airport</th>\n      <th></th>\n      <th></th>\n      <th></th>\n      <th></th>\n      <th></th>\n      <th></th>\n      <th></th>\n      <th></th>\n      <th></th>\n      <th></th>\n      <th></th>\n      <th></th>\n    </tr>\n  </thead>\n  <tbody>\n    <tr>\n      <th>GDN</th>\n      <td>1.000</td>\n      <td>0.620</td>\n      <td>1.000</td>\n      <td>1.000</td>\n      <td>1.000</td>\n      <td>1.000</td>\n      <td>2.000</td>\n      <td>1.000</td>\n      <td>0.527</td>\n      <td>1.000</td>\n      <td>1.000</td>\n      <td>1.013</td>\n    </tr>\n    <tr>\n      <th>WAW</th>\n      <td>2.278</td>\n      <td>1.000</td>\n      <td>0.913</td>\n      <td>1.000</td>\n      <td>1.000</td>\n      <td>0.595</td>\n      <td>0.905</td>\n      <td>1.000</td>\n      <td>0.960</td>\n      <td>0.903</td>\n      <td>0.523</td>\n      <td>1.007</td>\n    </tr>\n    <tr>\n      <th>BZG</th>\n      <td>0.653</td>\n      <td>0.792</td>\n      <td>0.972</td>\n      <td>1.000</td>\n      <td>0.909</td>\n      <td>1.000</td>\n      <td>1.000</td>\n      <td>1.000</td>\n      <td>1.746</td>\n      <td>1.000</td>\n      <td>0.876</td>\n      <td>0.995</td>\n    </tr>\n    <tr>\n      <th>WRO</th>\n      <td>0.980</td>\n      <td>1.000</td>\n      <td>1.000</td>\n      <td>1.040</td>\n      <td>1.000</td>\n      <td>0.605</td>\n      <td>1.000</td>\n      <td>0.856</td>\n      <td>1.000</td>\n      <td>1.000</td>\n      <td>0.531</td>\n      <td>0.910</td>\n    </tr>\n    <tr>\n      <th>KRK</th>\n      <td>1.000</td>\n      <td>1.124</td>\n      <td>1.000</td>\n      <td>1.000</td>\n      <td>1.000</td>\n      <td>0.491</td>\n      <td>0.935</td>\n      <td>0.755</td>\n      <td>0.948</td>\n      <td>0.996</td>\n      <td>0.428</td>\n      <td>0.880</td>\n    </tr>\n    <tr>\n      <th>POZ</th>\n      <td>0.986</td>\n      <td>0.704</td>\n      <td>0.774</td>\n      <td>0.771</td>\n      <td>0.800</td>\n      <td>0.512</td>\n      <td>0.867</td>\n      <td>0.737</td>\n      <td>0.646</td>\n      <td>0.770</td>\n      <td>0.458</td>\n      <td>0.729</td>\n    </tr>\n    <tr>\n      <th>KAT</th>\n      <td>0.407</td>\n      <td>0.519</td>\n      <td>0.591</td>\n      <td>0.579</td>\n      <td>0.563</td>\n      <td>0.278</td>\n      <td>0.667</td>\n      <td>0.371</td>\n      <td>0.352</td>\n      <td>0.591</td>\n      <td>0.248</td>\n      <td>0.470</td>\n    </tr>\n    <tr>\n      <th>RZE</th>\n      <td>0.352</td>\n      <td>0.332</td>\n      <td>0.409</td>\n      <td>0.382</td>\n      <td>0.403</td>\n      <td>0.273</td>\n      <td>0.500</td>\n      <td>0.346</td>\n      <td>0.297</td>\n      <td>0.409</td>\n      <td>0.247</td>\n      <td>0.359</td>\n    </tr>\n    <tr>\n      <th>LCJ</th>\n      <td>0.216</td>\n      <td>0.158</td>\n      <td>0.259</td>\n      <td>0.241</td>\n      <td>0.255</td>\n      <td>0.300</td>\n      <td>0.500</td>\n      <td>0.273</td>\n      <td>0.168</td>\n      <td>0.261</td>\n      <td>0.297</td>\n      <td>0.266</td>\n    </tr>\n    <tr>\n      <th>SZZ</th>\n      <td>0.266</td>\n      <td>0.153</td>\n      <td>0.238</td>\n      <td>0.239</td>\n      <td>0.243</td>\n      <td>0.261</td>\n      <td>0.429</td>\n      <td>0.271</td>\n      <td>0.156</td>\n      <td>0.238</td>\n      <td>0.254</td>\n      <td>0.250</td>\n    </tr>\n    <tr>\n      <th>IEG</th>\n      <td>0.038</td>\n      <td>0.001</td>\n      <td>0.002</td>\n      <td>0.003</td>\n      <td>0.006</td>\n      <td>0.078</td>\n      <td>0.050</td>\n      <td>0.036</td>\n      <td>0.009</td>\n      <td>0.002</td>\n      <td>0.258</td>\n      <td>0.044</td>\n    </tr>\n  </tbody>\n</table>\n</div>"
     },
     "execution_count": 110,
     "metadata": {},
     "output_type": "execute_result"
    }
   ],
   "source": [
    "sort_by(cross_efficiency_results, 'cross-efficiency')"
   ],
   "metadata": {
    "collapsed": false
   }
  },
  {
   "cell_type": "markdown",
   "source": [
    "Względem rozkładu efektywności"
   ],
   "metadata": {
    "collapsed": false
   }
  },
  {
   "cell_type": "code",
   "execution_count": 111,
   "outputs": [
    {
     "data": {
      "text/plain": "     0.2-0.4  0.0-0.2  0.4-0.6  0.6-0.8  0.8-1.0  index-efficiency\nWAW     0.36     0.33     0.21     0.09     0.01             0.318\nBZG     0.29     0.53     0.14     0.03     0.01             0.242\nWRO     0.40     0.48     0.10     0.02     0.00             0.231\nKRK     0.42     0.50     0.07     0.01     0.00             0.212\nGDN     0.30     0.63     0.06     0.01     0.00             0.183\nPOZ     0.36     0.59     0.05     0.00     0.00             0.177\nKAT     0.05     0.95     0.00     0.00     0.00             0.090\nRZE     0.02     0.98     0.00     0.00     0.00             0.073\nSZZ     0.00     1.00     0.00     0.00     0.00             0.050\nLCJ     0.00     1.00     0.00     0.00     0.00             0.046\nIEG     0.00     1.00     0.00     0.00     0.00             0.004",
      "text/html": "<div>\n<style scoped>\n    .dataframe tbody tr th:only-of-type {\n        vertical-align: middle;\n    }\n\n    .dataframe tbody tr th {\n        vertical-align: top;\n    }\n\n    .dataframe thead th {\n        text-align: right;\n    }\n</style>\n<table border=\"1\" class=\"dataframe\">\n  <thead>\n    <tr style=\"text-align: right;\">\n      <th></th>\n      <th>0.2-0.4</th>\n      <th>0.0-0.2</th>\n      <th>0.4-0.6</th>\n      <th>0.6-0.8</th>\n      <th>0.8-1.0</th>\n      <th>index-efficiency</th>\n    </tr>\n  </thead>\n  <tbody>\n    <tr>\n      <th>WAW</th>\n      <td>0.36</td>\n      <td>0.33</td>\n      <td>0.21</td>\n      <td>0.09</td>\n      <td>0.01</td>\n      <td>0.318</td>\n    </tr>\n    <tr>\n      <th>BZG</th>\n      <td>0.29</td>\n      <td>0.53</td>\n      <td>0.14</td>\n      <td>0.03</td>\n      <td>0.01</td>\n      <td>0.242</td>\n    </tr>\n    <tr>\n      <th>WRO</th>\n      <td>0.40</td>\n      <td>0.48</td>\n      <td>0.10</td>\n      <td>0.02</td>\n      <td>0.00</td>\n      <td>0.231</td>\n    </tr>\n    <tr>\n      <th>KRK</th>\n      <td>0.42</td>\n      <td>0.50</td>\n      <td>0.07</td>\n      <td>0.01</td>\n      <td>0.00</td>\n      <td>0.212</td>\n    </tr>\n    <tr>\n      <th>GDN</th>\n      <td>0.30</td>\n      <td>0.63</td>\n      <td>0.06</td>\n      <td>0.01</td>\n      <td>0.00</td>\n      <td>0.183</td>\n    </tr>\n    <tr>\n      <th>POZ</th>\n      <td>0.36</td>\n      <td>0.59</td>\n      <td>0.05</td>\n      <td>0.00</td>\n      <td>0.00</td>\n      <td>0.177</td>\n    </tr>\n    <tr>\n      <th>KAT</th>\n      <td>0.05</td>\n      <td>0.95</td>\n      <td>0.00</td>\n      <td>0.00</td>\n      <td>0.00</td>\n      <td>0.090</td>\n    </tr>\n    <tr>\n      <th>RZE</th>\n      <td>0.02</td>\n      <td>0.98</td>\n      <td>0.00</td>\n      <td>0.00</td>\n      <td>0.00</td>\n      <td>0.073</td>\n    </tr>\n    <tr>\n      <th>SZZ</th>\n      <td>0.00</td>\n      <td>1.00</td>\n      <td>0.00</td>\n      <td>0.00</td>\n      <td>0.00</td>\n      <td>0.050</td>\n    </tr>\n    <tr>\n      <th>LCJ</th>\n      <td>0.00</td>\n      <td>1.00</td>\n      <td>0.00</td>\n      <td>0.00</td>\n      <td>0.00</td>\n      <td>0.046</td>\n    </tr>\n    <tr>\n      <th>IEG</th>\n      <td>0.00</td>\n      <td>1.00</td>\n      <td>0.00</td>\n      <td>0.00</td>\n      <td>0.00</td>\n      <td>0.004</td>\n    </tr>\n  </tbody>\n</table>\n</div>"
     },
     "execution_count": 111,
     "metadata": {},
     "output_type": "execute_result"
    }
   ],
   "source": [
    "sort_by(efficiency_index_results, 'index-efficiency')"
   ],
   "metadata": {
    "collapsed": false
   }
  }
 ],
 "metadata": {
  "kernelspec": {
   "display_name": "Python 3",
   "language": "python",
   "name": "python3"
  },
  "language_info": {
   "codemirror_mode": {
    "name": "ipython",
    "version": 2
   },
   "file_extension": ".py",
   "mimetype": "text/x-python",
   "name": "python",
   "nbconvert_exporter": "python",
   "pygments_lexer": "ipython2",
   "version": "2.7.6"
  }
 },
 "nbformat": 4,
 "nbformat_minor": 0
}
